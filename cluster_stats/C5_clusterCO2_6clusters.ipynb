{
 "cells": [
  {
   "cell_type": "code",
   "execution_count": 146,
   "id": "a101a9b7-ae82-48dd-96e4-339c4ef71e5e",
   "metadata": {},
   "outputs": [],
   "source": [
    "library(rcompanion)\n",
    "library(tidyverse)\n",
    "library(reshape2)\n",
    "library(janitor)\n",
    "library(rstatix)\n",
    "library(ggplot2)\n",
    "library(ggpubr)\n",
    "library(ggsci)\n",
    "library(FSA)"
   ]
  },
  {
   "cell_type": "code",
   "execution_count": 119,
   "id": "93ace8a8-0170-47d1-a84e-fc237534c43c",
   "metadata": {},
   "outputs": [
    {
     "data": {
      "text/html": [
       "<style>\n",
       ".list-inline {list-style: none; margin:0; padding: 0}\n",
       ".list-inline>li {display: inline-block}\n",
       ".list-inline>li:not(:last-child)::after {content: \"\\00b7\"; padding: 0 .5ex}\n",
       "</style>\n",
       "<ol class=list-inline><li>'study'</li><li>'co'</li><li>'h2'</li><li>'inert'</li><li>'reactor_pressure_bar'</li><li>'reaction_temp_o_c'</li><li>'space_velocity_m_l_h'</li><li>'mass_of_catalyst'</li><li>'dilution'</li><li>'calcination_temperature'</li><li>'calcination_time'</li><li>'reduction_temperature'</li><li>'reduction_time_hr'</li><li>'bet_surface'</li><li>'pore_volume'</li><li>'pore_daimeter_nm'</li><li>'crystallite_size'</li><li>'co2_upatke'</li><li>'first_peak'</li><li>'last_reduction_peak_tpr'</li><li>'al'</li><li>'ba'</li><li>'ca'</li><li>'ce'</li><li>'co_2'</li><li>'cu'</li><li>'fe'</li><li>'mg'</li><li>'ni'</li><li>'pb'</li><li>'ti'</li><li>'zn'</li><li>'zr'</li><li>'c'</li><li>'n'</li><li>'o'</li><li>'cs'</li><li>'ga'</li><li>'in'</li><li>'k'</li><li>'la'</li><li>'li'</li><li>'mn'</li><li>'mo'</li><li>'na'</li><li>'rb'</li><li>'ru'</li><li>'w'</li><li>'y'</li><li>'support'</li><li>'co_1'</li><li>'co_h2'</li><li>'h2_1'</li><li>'co_precipitation'</li><li>'deposition_precipitation'</li><li>'impregnation'</li><li>'physical_mixing'</li><li>'pyrolysis'</li><li>'sol_gel'</li><li>'solvothermal_method'</li><li>'urea_self_combustion_method'</li><li>'ac'</li><li>'al2o3'</li><li>'cnt'</li><li>'ce_o2'</li><li>'mg_o'</li><li>'si_c'</li><li>'si_o2'</li><li>'ti_o2'</li><li>'zr_o2'</li><li>'mixed_oxides'</li><li>'nosupport'</li><li>'zeolite'</li><li>'co2_conversion'</li><li>'co_sel'</li><li>'ch4_sel'</li><li>'c2_c4'</li><li>'c5'</li><li>'o_p_ratio'</li><li>'cluster'</li></ol>\n"
      ],
      "text/latex": [
       "\\begin{enumerate*}\n",
       "\\item 'study'\n",
       "\\item 'co'\n",
       "\\item 'h2'\n",
       "\\item 'inert'\n",
       "\\item 'reactor\\_pressure\\_bar'\n",
       "\\item 'reaction\\_temp\\_o\\_c'\n",
       "\\item 'space\\_velocity\\_m\\_l\\_h'\n",
       "\\item 'mass\\_of\\_catalyst'\n",
       "\\item 'dilution'\n",
       "\\item 'calcination\\_temperature'\n",
       "\\item 'calcination\\_time'\n",
       "\\item 'reduction\\_temperature'\n",
       "\\item 'reduction\\_time\\_hr'\n",
       "\\item 'bet\\_surface'\n",
       "\\item 'pore\\_volume'\n",
       "\\item 'pore\\_daimeter\\_nm'\n",
       "\\item 'crystallite\\_size'\n",
       "\\item 'co2\\_upatke'\n",
       "\\item 'first\\_peak'\n",
       "\\item 'last\\_reduction\\_peak\\_tpr'\n",
       "\\item 'al'\n",
       "\\item 'ba'\n",
       "\\item 'ca'\n",
       "\\item 'ce'\n",
       "\\item 'co\\_2'\n",
       "\\item 'cu'\n",
       "\\item 'fe'\n",
       "\\item 'mg'\n",
       "\\item 'ni'\n",
       "\\item 'pb'\n",
       "\\item 'ti'\n",
       "\\item 'zn'\n",
       "\\item 'zr'\n",
       "\\item 'c'\n",
       "\\item 'n'\n",
       "\\item 'o'\n",
       "\\item 'cs'\n",
       "\\item 'ga'\n",
       "\\item 'in'\n",
       "\\item 'k'\n",
       "\\item 'la'\n",
       "\\item 'li'\n",
       "\\item 'mn'\n",
       "\\item 'mo'\n",
       "\\item 'na'\n",
       "\\item 'rb'\n",
       "\\item 'ru'\n",
       "\\item 'w'\n",
       "\\item 'y'\n",
       "\\item 'support'\n",
       "\\item 'co\\_1'\n",
       "\\item 'co\\_h2'\n",
       "\\item 'h2\\_1'\n",
       "\\item 'co\\_precipitation'\n",
       "\\item 'deposition\\_precipitation'\n",
       "\\item 'impregnation'\n",
       "\\item 'physical\\_mixing'\n",
       "\\item 'pyrolysis'\n",
       "\\item 'sol\\_gel'\n",
       "\\item 'solvothermal\\_method'\n",
       "\\item 'urea\\_self\\_combustion\\_method'\n",
       "\\item 'ac'\n",
       "\\item 'al2o3'\n",
       "\\item 'cnt'\n",
       "\\item 'ce\\_o2'\n",
       "\\item 'mg\\_o'\n",
       "\\item 'si\\_c'\n",
       "\\item 'si\\_o2'\n",
       "\\item 'ti\\_o2'\n",
       "\\item 'zr\\_o2'\n",
       "\\item 'mixed\\_oxides'\n",
       "\\item 'nosupport'\n",
       "\\item 'zeolite'\n",
       "\\item 'co2\\_conversion'\n",
       "\\item 'co\\_sel'\n",
       "\\item 'ch4\\_sel'\n",
       "\\item 'c2\\_c4'\n",
       "\\item 'c5'\n",
       "\\item 'o\\_p\\_ratio'\n",
       "\\item 'cluster'\n",
       "\\end{enumerate*}\n"
      ],
      "text/markdown": [
       "1. 'study'\n",
       "2. 'co'\n",
       "3. 'h2'\n",
       "4. 'inert'\n",
       "5. 'reactor_pressure_bar'\n",
       "6. 'reaction_temp_o_c'\n",
       "7. 'space_velocity_m_l_h'\n",
       "8. 'mass_of_catalyst'\n",
       "9. 'dilution'\n",
       "10. 'calcination_temperature'\n",
       "11. 'calcination_time'\n",
       "12. 'reduction_temperature'\n",
       "13. 'reduction_time_hr'\n",
       "14. 'bet_surface'\n",
       "15. 'pore_volume'\n",
       "16. 'pore_daimeter_nm'\n",
       "17. 'crystallite_size'\n",
       "18. 'co2_upatke'\n",
       "19. 'first_peak'\n",
       "20. 'last_reduction_peak_tpr'\n",
       "21. 'al'\n",
       "22. 'ba'\n",
       "23. 'ca'\n",
       "24. 'ce'\n",
       "25. 'co_2'\n",
       "26. 'cu'\n",
       "27. 'fe'\n",
       "28. 'mg'\n",
       "29. 'ni'\n",
       "30. 'pb'\n",
       "31. 'ti'\n",
       "32. 'zn'\n",
       "33. 'zr'\n",
       "34. 'c'\n",
       "35. 'n'\n",
       "36. 'o'\n",
       "37. 'cs'\n",
       "38. 'ga'\n",
       "39. 'in'\n",
       "40. 'k'\n",
       "41. 'la'\n",
       "42. 'li'\n",
       "43. 'mn'\n",
       "44. 'mo'\n",
       "45. 'na'\n",
       "46. 'rb'\n",
       "47. 'ru'\n",
       "48. 'w'\n",
       "49. 'y'\n",
       "50. 'support'\n",
       "51. 'co_1'\n",
       "52. 'co_h2'\n",
       "53. 'h2_1'\n",
       "54. 'co_precipitation'\n",
       "55. 'deposition_precipitation'\n",
       "56. 'impregnation'\n",
       "57. 'physical_mixing'\n",
       "58. 'pyrolysis'\n",
       "59. 'sol_gel'\n",
       "60. 'solvothermal_method'\n",
       "61. 'urea_self_combustion_method'\n",
       "62. 'ac'\n",
       "63. 'al2o3'\n",
       "64. 'cnt'\n",
       "65. 'ce_o2'\n",
       "66. 'mg_o'\n",
       "67. 'si_c'\n",
       "68. 'si_o2'\n",
       "69. 'ti_o2'\n",
       "70. 'zr_o2'\n",
       "71. 'mixed_oxides'\n",
       "72. 'nosupport'\n",
       "73. 'zeolite'\n",
       "74. 'co2_conversion'\n",
       "75. 'co_sel'\n",
       "76. 'ch4_sel'\n",
       "77. 'c2_c4'\n",
       "78. 'c5'\n",
       "79. 'o_p_ratio'\n",
       "80. 'cluster'\n",
       "\n",
       "\n"
      ],
      "text/plain": [
       " [1] \"study\"                       \"co\"                         \n",
       " [3] \"h2\"                          \"inert\"                      \n",
       " [5] \"reactor_pressure_bar\"        \"reaction_temp_o_c\"          \n",
       " [7] \"space_velocity_m_l_h\"        \"mass_of_catalyst\"           \n",
       " [9] \"dilution\"                    \"calcination_temperature\"    \n",
       "[11] \"calcination_time\"            \"reduction_temperature\"      \n",
       "[13] \"reduction_time_hr\"           \"bet_surface\"                \n",
       "[15] \"pore_volume\"                 \"pore_daimeter_nm\"           \n",
       "[17] \"crystallite_size\"            \"co2_upatke\"                 \n",
       "[19] \"first_peak\"                  \"last_reduction_peak_tpr\"    \n",
       "[21] \"al\"                          \"ba\"                         \n",
       "[23] \"ca\"                          \"ce\"                         \n",
       "[25] \"co_2\"                        \"cu\"                         \n",
       "[27] \"fe\"                          \"mg\"                         \n",
       "[29] \"ni\"                          \"pb\"                         \n",
       "[31] \"ti\"                          \"zn\"                         \n",
       "[33] \"zr\"                          \"c\"                          \n",
       "[35] \"n\"                           \"o\"                          \n",
       "[37] \"cs\"                          \"ga\"                         \n",
       "[39] \"in\"                          \"k\"                          \n",
       "[41] \"la\"                          \"li\"                         \n",
       "[43] \"mn\"                          \"mo\"                         \n",
       "[45] \"na\"                          \"rb\"                         \n",
       "[47] \"ru\"                          \"w\"                          \n",
       "[49] \"y\"                           \"support\"                    \n",
       "[51] \"co_1\"                        \"co_h2\"                      \n",
       "[53] \"h2_1\"                        \"co_precipitation\"           \n",
       "[55] \"deposition_precipitation\"    \"impregnation\"               \n",
       "[57] \"physical_mixing\"             \"pyrolysis\"                  \n",
       "[59] \"sol_gel\"                     \"solvothermal_method\"        \n",
       "[61] \"urea_self_combustion_method\" \"ac\"                         \n",
       "[63] \"al2o3\"                       \"cnt\"                        \n",
       "[65] \"ce_o2\"                       \"mg_o\"                       \n",
       "[67] \"si_c\"                        \"si_o2\"                      \n",
       "[69] \"ti_o2\"                       \"zr_o2\"                      \n",
       "[71] \"mixed_oxides\"                \"nosupport\"                  \n",
       "[73] \"zeolite\"                     \"co2_conversion\"             \n",
       "[75] \"co_sel\"                      \"ch4_sel\"                    \n",
       "[77] \"c2_c4\"                       \"c5\"                         \n",
       "[79] \"o_p_ratio\"                   \"cluster\"                    "
      ]
     },
     "metadata": {},
     "output_type": "display_data"
    }
   ],
   "source": [
    "C5_cluster_raw <- read.csv(\"C5_clusterCO2_6clusters.csv\") |>\n",
    "                  janitor::clean_names()\n",
    "colnames(C5_cluster_raw)"
   ]
  },
  {
   "cell_type": "code",
   "execution_count": 3,
   "id": "c15181a9-405b-4199-bcbb-d1bb5225dd6c",
   "metadata": {},
   "outputs": [],
   "source": [
    "response_vars <- c(\"co2_conversion\",\"co_sel\",\"ch4_sel\", \"c2_c4\",\"c5\",\"o_p_ratio\")"
   ]
  },
  {
   "cell_type": "code",
   "execution_count": 4,
   "id": "d0840c02-7a27-42c6-875e-3c74139be2f6",
   "metadata": {},
   "outputs": [
    {
     "data": {
      "text/html": [
       "<table class=\"dataframe\">\n",
       "<caption>A data.frame: 6 × 7</caption>\n",
       "<thead>\n",
       "\t<tr><th></th><th scope=col>co2_conversion</th><th scope=col>co_sel</th><th scope=col>ch4_sel</th><th scope=col>c2_c4</th><th scope=col>c5</th><th scope=col>o_p_ratio</th><th scope=col>cluster</th></tr>\n",
       "\t<tr><th></th><th scope=col>&lt;dbl&gt;</th><th scope=col>&lt;dbl&gt;</th><th scope=col>&lt;dbl&gt;</th><th scope=col>&lt;dbl&gt;</th><th scope=col>&lt;dbl&gt;</th><th scope=col>&lt;dbl&gt;</th><th scope=col>&lt;fct&gt;</th></tr>\n",
       "</thead>\n",
       "<tbody>\n",
       "\t<tr><th scope=row>1</th><td>24.05</td><td>26.20</td><td>20.91</td><td>40.97</td><td>11.91</td><td>0.8710000</td><td>1</td></tr>\n",
       "\t<tr><th scope=row>2</th><td>27.53</td><td>18.57</td><td>18.66</td><td>45.91</td><td>16.86</td><td>1.6960000</td><td>1</td></tr>\n",
       "\t<tr><th scope=row>3</th><td>23.08</td><td>37.98</td><td>16.17</td><td>35.95</td><td> 9.89</td><td>1.2340000</td><td>1</td></tr>\n",
       "\t<tr><th scope=row>4</th><td>18.79</td><td>53.39</td><td>12.94</td><td>25.37</td><td> 8.31</td><td>1.5630000</td><td>1</td></tr>\n",
       "\t<tr><th scope=row>5</th><td>16.83</td><td>59.33</td><td>13.53</td><td>21.91</td><td> 5.23</td><td>0.9070000</td><td>1</td></tr>\n",
       "\t<tr><th scope=row>6</th><td>24.05</td><td>26.20</td><td>20.91</td><td>40.97</td><td>11.91</td><td>0.8712504</td><td>1</td></tr>\n",
       "</tbody>\n",
       "</table>\n"
      ],
      "text/latex": [
       "A data.frame: 6 × 7\n",
       "\\begin{tabular}{r|lllllll}\n",
       "  & co2\\_conversion & co\\_sel & ch4\\_sel & c2\\_c4 & c5 & o\\_p\\_ratio & cluster\\\\\n",
       "  & <dbl> & <dbl> & <dbl> & <dbl> & <dbl> & <dbl> & <fct>\\\\\n",
       "\\hline\n",
       "\t1 & 24.05 & 26.20 & 20.91 & 40.97 & 11.91 & 0.8710000 & 1\\\\\n",
       "\t2 & 27.53 & 18.57 & 18.66 & 45.91 & 16.86 & 1.6960000 & 1\\\\\n",
       "\t3 & 23.08 & 37.98 & 16.17 & 35.95 &  9.89 & 1.2340000 & 1\\\\\n",
       "\t4 & 18.79 & 53.39 & 12.94 & 25.37 &  8.31 & 1.5630000 & 1\\\\\n",
       "\t5 & 16.83 & 59.33 & 13.53 & 21.91 &  5.23 & 0.9070000 & 1\\\\\n",
       "\t6 & 24.05 & 26.20 & 20.91 & 40.97 & 11.91 & 0.8712504 & 1\\\\\n",
       "\\end{tabular}\n"
      ],
      "text/markdown": [
       "\n",
       "A data.frame: 6 × 7\n",
       "\n",
       "| <!--/--> | co2_conversion &lt;dbl&gt; | co_sel &lt;dbl&gt; | ch4_sel &lt;dbl&gt; | c2_c4 &lt;dbl&gt; | c5 &lt;dbl&gt; | o_p_ratio &lt;dbl&gt; | cluster &lt;fct&gt; |\n",
       "|---|---|---|---|---|---|---|---|\n",
       "| 1 | 24.05 | 26.20 | 20.91 | 40.97 | 11.91 | 0.8710000 | 1 |\n",
       "| 2 | 27.53 | 18.57 | 18.66 | 45.91 | 16.86 | 1.6960000 | 1 |\n",
       "| 3 | 23.08 | 37.98 | 16.17 | 35.95 |  9.89 | 1.2340000 | 1 |\n",
       "| 4 | 18.79 | 53.39 | 12.94 | 25.37 |  8.31 | 1.5630000 | 1 |\n",
       "| 5 | 16.83 | 59.33 | 13.53 | 21.91 |  5.23 | 0.9070000 | 1 |\n",
       "| 6 | 24.05 | 26.20 | 20.91 | 40.97 | 11.91 | 0.8712504 | 1 |\n",
       "\n"
      ],
      "text/plain": [
       "  co2_conversion co_sel ch4_sel c2_c4 c5    o_p_ratio cluster\n",
       "1 24.05          26.20  20.91   40.97 11.91 0.8710000 1      \n",
       "2 27.53          18.57  18.66   45.91 16.86 1.6960000 1      \n",
       "3 23.08          37.98  16.17   35.95  9.89 1.2340000 1      \n",
       "4 18.79          53.39  12.94   25.37  8.31 1.5630000 1      \n",
       "5 16.83          59.33  13.53   21.91  5.23 0.9070000 1      \n",
       "6 24.05          26.20  20.91   40.97 11.91 0.8712504 1      "
      ]
     },
     "metadata": {},
     "output_type": "display_data"
    }
   ],
   "source": [
    "#Select our columns of interest only\n",
    "C5_cluster_data <- C5_cluster_raw |>  \n",
    "                   dplyr::select(all_of(c(response_vars, \"cluster\"))) |>\n",
    "                   dplyr::mutate(cluster = factor(cluster))\n",
    "head(C5_cluster_data)"
   ]
  },
  {
   "cell_type": "code",
   "execution_count": 5,
   "id": "1656e1a6-fb16-4c3c-8da6-1853d5d311b7",
   "metadata": {},
   "outputs": [
    {
     "data": {
      "text/html": [
       "<table class=\"dataframe\">\n",
       "<caption>A grouped_df: 6 × 2</caption>\n",
       "<thead>\n",
       "\t<tr><th scope=col>cluster</th><th scope=col>n</th></tr>\n",
       "\t<tr><th scope=col>&lt;fct&gt;</th><th scope=col>&lt;int&gt;</th></tr>\n",
       "</thead>\n",
       "<tbody>\n",
       "\t<tr><td>1</td><td> 10</td></tr>\n",
       "\t<tr><td>2</td><td> 37</td></tr>\n",
       "\t<tr><td>3</td><td> 95</td></tr>\n",
       "\t<tr><td>4</td><td> 80</td></tr>\n",
       "\t<tr><td>5</td><td> 47</td></tr>\n",
       "\t<tr><td>6</td><td>105</td></tr>\n",
       "</tbody>\n",
       "</table>\n"
      ],
      "text/latex": [
       "A grouped\\_df: 6 × 2\n",
       "\\begin{tabular}{ll}\n",
       " cluster & n\\\\\n",
       " <fct> & <int>\\\\\n",
       "\\hline\n",
       "\t 1 &  10\\\\\n",
       "\t 2 &  37\\\\\n",
       "\t 3 &  95\\\\\n",
       "\t 4 &  80\\\\\n",
       "\t 5 &  47\\\\\n",
       "\t 6 & 105\\\\\n",
       "\\end{tabular}\n"
      ],
      "text/markdown": [
       "\n",
       "A grouped_df: 6 × 2\n",
       "\n",
       "| cluster &lt;fct&gt; | n &lt;int&gt; |\n",
       "|---|---|\n",
       "| 1 |  10 |\n",
       "| 2 |  37 |\n",
       "| 3 |  95 |\n",
       "| 4 |  80 |\n",
       "| 5 |  47 |\n",
       "| 6 | 105 |\n",
       "\n"
      ],
      "text/plain": [
       "  cluster n  \n",
       "1 1        10\n",
       "2 2        37\n",
       "3 3        95\n",
       "4 4        80\n",
       "5 5        47\n",
       "6 6       105"
      ]
     },
     "metadata": {},
     "output_type": "display_data"
    }
   ],
   "source": [
    "#compare_cluster_sizes\n",
    "(cluste_counts <-  C5_cluster_data |> \n",
    "                  dplyr::group_by(cluster) |>\n",
    "                  dplyr::count())\n",
    "                 "
   ]
  },
  {
   "cell_type": "code",
   "execution_count": 120,
   "id": "102932bf-9c01-44fc-a4df-ad333b3aaa98",
   "metadata": {},
   "outputs": [
    {
     "name": "stderr",
     "output_type": "stream",
     "text": [
      "\u001b[1m\u001b[22mSaving 6.67 x 6.67 in image\n"
     ]
    },
    {
     "data": {
      "image/png": "[encoded data removed]",
      "text/plain": [
       "plot without title"
      ]
     },
     "metadata": {
      "image/png": {
       "height": 420,
       "width": 420
      }
     },
     "output_type": "display_data"
    }
   ],
   "source": [
    "counts_plots <-  ggbarplot(cluste_counts, \n",
    "                      x = \"cluster\",  \n",
    "                      y =  \"n\", \n",
    "                      lab.size = 6,\n",
    "                      label = TRUE,\n",
    "                      xlab = \"Cluster\", \n",
    "                      ylab = \"Data entries (n)\") + \n",
    "            theme(axis.title.x = element_text(size = 20), \n",
    "      axis.title.y = element_text(size = 20), \n",
    "      axis.text.x = element_text(size = 20),  \n",
    "      axis.text.y = element_text(size = 20)) \n",
    "\n",
    "counts_plots\n",
    "ggsave(\"plots/counts_plot.pdf\")"
   ]
  },
  {
   "cell_type": "code",
   "execution_count": 7,
   "id": "94760a82-7758-45fb-adc5-e1d3fe5c68e4",
   "metadata": {},
   "outputs": [
    {
     "name": "stderr",
     "output_type": "stream",
     "text": [
      "Using cluster as id variables\n",
      "\n"
     ]
    },
    {
     "data": {
      "text/html": [
       "<table class=\"dataframe\">\n",
       "<caption>A data.frame: 6 × 3</caption>\n",
       "<thead>\n",
       "\t<tr><th></th><th scope=col>cluster</th><th scope=col>variable</th><th scope=col>value</th></tr>\n",
       "\t<tr><th></th><th scope=col>&lt;fct&gt;</th><th scope=col>&lt;fct&gt;</th><th scope=col>&lt;dbl&gt;</th></tr>\n",
       "</thead>\n",
       "<tbody>\n",
       "\t<tr><th scope=row>1</th><td>1</td><td>co2_conversion</td><td>24.05</td></tr>\n",
       "\t<tr><th scope=row>2</th><td>1</td><td>co2_conversion</td><td>27.53</td></tr>\n",
       "\t<tr><th scope=row>3</th><td>1</td><td>co2_conversion</td><td>23.08</td></tr>\n",
       "\t<tr><th scope=row>4</th><td>1</td><td>co2_conversion</td><td>18.79</td></tr>\n",
       "\t<tr><th scope=row>5</th><td>1</td><td>co2_conversion</td><td>16.83</td></tr>\n",
       "\t<tr><th scope=row>6</th><td>1</td><td>co2_conversion</td><td>24.05</td></tr>\n",
       "</tbody>\n",
       "</table>\n"
      ],
      "text/latex": [
       "A data.frame: 6 × 3\n",
       "\\begin{tabular}{r|lll}\n",
       "  & cluster & variable & value\\\\\n",
       "  & <fct> & <fct> & <dbl>\\\\\n",
       "\\hline\n",
       "\t1 & 1 & co2\\_conversion & 24.05\\\\\n",
       "\t2 & 1 & co2\\_conversion & 27.53\\\\\n",
       "\t3 & 1 & co2\\_conversion & 23.08\\\\\n",
       "\t4 & 1 & co2\\_conversion & 18.79\\\\\n",
       "\t5 & 1 & co2\\_conversion & 16.83\\\\\n",
       "\t6 & 1 & co2\\_conversion & 24.05\\\\\n",
       "\\end{tabular}\n"
      ],
      "text/markdown": [
       "\n",
       "A data.frame: 6 × 3\n",
       "\n",
       "| <!--/--> | cluster &lt;fct&gt; | variable &lt;fct&gt; | value &lt;dbl&gt; |\n",
       "|---|---|---|---|\n",
       "| 1 | 1 | co2_conversion | 24.05 |\n",
       "| 2 | 1 | co2_conversion | 27.53 |\n",
       "| 3 | 1 | co2_conversion | 23.08 |\n",
       "| 4 | 1 | co2_conversion | 18.79 |\n",
       "| 5 | 1 | co2_conversion | 16.83 |\n",
       "| 6 | 1 | co2_conversion | 24.05 |\n",
       "\n"
      ],
      "text/plain": [
       "  cluster variable       value\n",
       "1 1       co2_conversion 24.05\n",
       "2 1       co2_conversion 27.53\n",
       "3 1       co2_conversion 23.08\n",
       "4 1       co2_conversion 18.79\n",
       "5 1       co2_conversion 16.83\n",
       "6 1       co2_conversion 24.05"
      ]
     },
     "metadata": {},
     "output_type": "display_data"
    }
   ],
   "source": [
    "#convert the data into wide format\n",
    "cluster_melted <- C5_cluster_data |> \n",
    "                  reshape2::melt()\n",
    "\n",
    "head(cluster_melted)"
   ]
  },
  {
   "cell_type": "code",
   "execution_count": 8,
   "id": "4ba10775-f53a-4ec7-bb4a-91d5e9cafdd8",
   "metadata": {},
   "outputs": [
    {
     "data": {
      "text/html": [
       "<table class=\"dataframe\">\n",
       "<caption>A grouped_df: 5 × 3</caption>\n",
       "<thead>\n",
       "\t<tr><th scope=col>cluster</th><th scope=col>variable</th><th scope=col>n</th></tr>\n",
       "\t<tr><th scope=col>&lt;fct&gt;</th><th scope=col>&lt;fct&gt;</th><th scope=col>&lt;int&gt;</th></tr>\n",
       "</thead>\n",
       "<tbody>\n",
       "\t<tr><td>2</td><td>o_p_ratio</td><td> 6</td></tr>\n",
       "\t<tr><td>3</td><td>o_p_ratio</td><td>21</td></tr>\n",
       "\t<tr><td>4</td><td>o_p_ratio</td><td> 7</td></tr>\n",
       "\t<tr><td>5</td><td>o_p_ratio</td><td>13</td></tr>\n",
       "\t<tr><td>6</td><td>o_p_ratio</td><td>16</td></tr>\n",
       "</tbody>\n",
       "</table>\n"
      ],
      "text/latex": [
       "A grouped\\_df: 5 × 3\n",
       "\\begin{tabular}{lll}\n",
       " cluster & variable & n\\\\\n",
       " <fct> & <fct> & <int>\\\\\n",
       "\\hline\n",
       "\t 2 & o\\_p\\_ratio &  6\\\\\n",
       "\t 3 & o\\_p\\_ratio & 21\\\\\n",
       "\t 4 & o\\_p\\_ratio &  7\\\\\n",
       "\t 5 & o\\_p\\_ratio & 13\\\\\n",
       "\t 6 & o\\_p\\_ratio & 16\\\\\n",
       "\\end{tabular}\n"
      ],
      "text/markdown": [
       "\n",
       "A grouped_df: 5 × 3\n",
       "\n",
       "| cluster &lt;fct&gt; | variable &lt;fct&gt; | n &lt;int&gt; |\n",
       "|---|---|---|\n",
       "| 2 | o_p_ratio |  6 |\n",
       "| 3 | o_p_ratio | 21 |\n",
       "| 4 | o_p_ratio |  7 |\n",
       "| 5 | o_p_ratio | 13 |\n",
       "| 6 | o_p_ratio | 16 |\n",
       "\n"
      ],
      "text/plain": [
       "  cluster variable  n \n",
       "1 2       o_p_ratio  6\n",
       "2 3       o_p_ratio 21\n",
       "3 4       o_p_ratio  7\n",
       "4 5       o_p_ratio 13\n",
       "5 6       o_p_ratio 16"
      ]
     },
     "metadata": {},
     "output_type": "display_data"
    }
   ],
   "source": [
    "#Missing data for o_p_ratio\n",
    "(cluster_melted_NA <- cluster_melted |> \n",
    "                     dplyr::filter(is.na(value)) |>\n",
    "                     dplyr::group_by(cluster, variable) |>\n",
    "                     dplyr::count())"
   ]
  },
  {
   "cell_type": "code",
   "execution_count": 9,
   "id": "3010e884-d014-4035-9586-45623515ef47",
   "metadata": {},
   "outputs": [
    {
     "data": {
      "text/html": [
       "63"
      ],
      "text/latex": [
       "63"
      ],
      "text/markdown": [
       "63"
      ],
      "text/plain": [
       "[1] 63"
      ]
     },
     "metadata": {},
     "output_type": "display_data"
    }
   ],
   "source": [
    "sum(cluster_melted_NA$n)"
   ]
  },
  {
   "cell_type": "code",
   "execution_count": 10,
   "id": "53ddb9aa-81bb-4f66-912e-920a86d6c1ac",
   "metadata": {},
   "outputs": [
    {
     "name": "stdout",
     "output_type": "stream",
     "text": [
      "structure(1:6, levels = c(\"co2_conversion\", \"co_sel\", \"ch4_sel\", \n",
      "\"c2_c4\", \"c5\", \"o_p_ratio\"), class = \"factor\")\n"
     ]
    }
   ],
   "source": [
    "dput(unique(cluster_melted$variable))"
   ]
  },
  {
   "cell_type": "code",
   "execution_count": 11,
   "id": "d193ad24-fa55-49b5-9449-7e1f42f82aff",
   "metadata": {},
   "outputs": [],
   "source": [
    "variable_labels <- c(co2_conversion = \"CO[2]~conversion\",\n",
    "                     co_sel = \"CO~selectivity\",\n",
    "                     ch4_sel = \"CH[4]~selectivity\",\n",
    "                     c2_c4 = \"C[2]-C[4]\",\n",
    "                     c5 = \"phantom() >=C[5]\",\n",
    "                     o_p_ratio = \"O/P~ratio\")"
   ]
  },
  {
   "cell_type": "code",
   "execution_count": 12,
   "id": "a95a6363-6d7c-4484-b817-004403fd2b87",
   "metadata": {},
   "outputs": [
    {
     "data": {
      "text/html": [
       "<style>\n",
       ".dl-inline {width: auto; margin:0; padding: 0}\n",
       ".dl-inline>dt, .dl-inline>dd {float: none; width: auto; display: inline-block}\n",
       ".dl-inline>dt::after {content: \":\\0020\"; padding-right: .5ex}\n",
       ".dl-inline>dt:not(:first-of-type) {padding-left: .5ex}\n",
       "</style><dl class=dl-inline><dt>co2_conversion</dt><dd>'CO[2]~conversion'</dd><dt>co_sel</dt><dd>'CO~selectivity'</dd><dt>ch4_sel</dt><dd>'CH[4]~selectivity'</dd><dt>c2_c4</dt><dd>'C[2]-C[4]'</dd><dt>c5</dt><dd>'phantom() &gt;=C[5]'</dd><dt>o_p_ratio</dt><dd>'O/P~ratio'</dd></dl>\n"
      ],
      "text/latex": [
       "\\begin{description*}\n",
       "\\item[co2\\textbackslash{}\\_conversion] 'CO{[}2{]}\\textasciitilde{}conversion'\n",
       "\\item[co\\textbackslash{}\\_sel] 'CO\\textasciitilde{}selectivity'\n",
       "\\item[ch4\\textbackslash{}\\_sel] 'CH{[}4{]}\\textasciitilde{}selectivity'\n",
       "\\item[c2\\textbackslash{}\\_c4] 'C{[}2{]}-C{[}4{]}'\n",
       "\\item[c5] 'phantom() >=C{[}5{]}'\n",
       "\\item[o\\textbackslash{}\\_p\\textbackslash{}\\_ratio] 'O/P\\textasciitilde{}ratio'\n",
       "\\end{description*}\n"
      ],
      "text/markdown": [
       "co2_conversion\n",
       ":   'CO[2]~conversion'co_sel\n",
       ":   'CO~selectivity'ch4_sel\n",
       ":   'CH[4]~selectivity'c2_c4\n",
       ":   'C[2]-C[4]'c5\n",
       ":   'phantom() &gt;=C[5]'o_p_ratio\n",
       ":   'O/P~ratio'\n",
       "\n"
      ],
      "text/plain": [
       "     co2_conversion              co_sel             ch4_sel               c2_c4 \n",
       " \"CO[2]~conversion\"    \"CO~selectivity\" \"CH[4]~selectivity\"         \"C[2]-C[4]\" \n",
       "                 c5           o_p_ratio \n",
       " \"phantom() >=C[5]\"         \"O/P~ratio\" "
      ]
     },
     "metadata": {},
     "output_type": "display_data"
    }
   ],
   "source": [
    "variable_labels"
   ]
  },
  {
   "cell_type": "code",
   "execution_count": 13,
   "id": "0120bcfb-46a2-4eec-bf29-4cf26667f073",
   "metadata": {},
   "outputs": [],
   "source": [
    "#dput(cluster_melted$variable)"
   ]
  },
  {
   "cell_type": "code",
   "execution_count": 14,
   "id": "b0569ea5-5ac7-4db2-9800-9f57bdd3dfbb",
   "metadata": {},
   "outputs": [],
   "source": [
    "cluster_melted$variable <- factor(cluster_melted$variable, levels = c(\"co2_conversion\", \"co_sel\", \"ch4_sel\", \"c2_c4\", \"c5\", \"o_p_ratio\"))"
   ]
  },
  {
   "cell_type": "code",
   "execution_count": 15,
   "id": "be5f4247-6306-49ed-b5bc-d5cf6115a2b2",
   "metadata": {},
   "outputs": [
    {
     "name": "stderr",
     "output_type": "stream",
     "text": [
      "Warning message:\n",
      "\"\u001b[1m\u001b[22mRemoved 63 rows containing non-finite outside the scale range (`stat_boxplot()`).\"\n"
     ]
    },
    {
     "data": {
      "image/png": "[encoded data removed]",
      "text/plain": [
       "plot without title"
      ]
     },
     "metadata": {
      "image/png": {
       "height": 420,
       "width": 420
      }
     },
     "output_type": "display_data"
    }
   ],
   "source": [
    "p1 <-  ggboxplot(cluster_melted,\n",
    "          x = \"cluster\", \n",
    "          y = \"value\",\n",
    "          xlab = \"Cluster\", \n",
    "          ylab = \"Parameter value\",\n",
    "          alpha = 0.75,\n",
    "          fill = \"#00AFBB\") + \n",
    "          facet_wrap(~variable, scales = \"free_y\", labeller=as_labeller(variable_labels, label_parsed)) +\n",
    "   theme(strip.text = element_text(size = 15),\n",
    "                  axis.title.x = element_text(size = 15), \n",
    "                  axis.title.y = element_text(size = 15), \n",
    "                  axis.text.x = element_text(size = 15),\n",
    "                  axis.text.y = element_text(size = 15))\n",
    "p1"
   ]
  },
  {
   "cell_type": "code",
   "execution_count": 16,
   "id": "4680e6c1-3709-4168-b25a-6f488811c919",
   "metadata": {},
   "outputs": [
    {
     "data": {
      "text/html": [
       "<table class=\"dataframe\">\n",
       "<caption>A data.frame: 6 × 5</caption>\n",
       "<thead>\n",
       "\t<tr><th></th><th scope=col>Response_var</th><th scope=col>statistic</th><th scope=col>df</th><th scope=col>p</th><th scope=col>method</th></tr>\n",
       "\t<tr><th></th><th scope=col>&lt;chr&gt;</th><th scope=col>&lt;dbl&gt;</th><th scope=col>&lt;int&gt;</th><th scope=col>&lt;dbl&gt;</th><th scope=col>&lt;chr&gt;</th></tr>\n",
       "</thead>\n",
       "<tbody>\n",
       "\t<tr><th scope=row>Kruskal-Wallis chi-squared</th><td>co2_conversion</td><td>26.46821</td><td>5</td><td>7.238476e-05</td><td>Kruskal-Wallis rank sum test</td></tr>\n",
       "\t<tr><th scope=row>Kruskal-Wallis chi-squared1</th><td>co_sel        </td><td>79.71897</td><td>5</td><td>9.608279e-16</td><td>Kruskal-Wallis rank sum test</td></tr>\n",
       "\t<tr><th scope=row>Kruskal-Wallis chi-squared2</th><td>ch4_sel       </td><td>23.75335</td><td>5</td><td>2.421324e-04</td><td>Kruskal-Wallis rank sum test</td></tr>\n",
       "\t<tr><th scope=row>Kruskal-Wallis chi-squared3</th><td>c2_c4         </td><td>15.21729</td><td>5</td><td>9.473132e-03</td><td>Kruskal-Wallis rank sum test</td></tr>\n",
       "\t<tr><th scope=row>Kruskal-Wallis chi-squared4</th><td>c5            </td><td>96.41249</td><td>5</td><td>3.011302e-19</td><td>Kruskal-Wallis rank sum test</td></tr>\n",
       "\t<tr><th scope=row>Kruskal-Wallis chi-squared5</th><td>o_p_ratio     </td><td>17.62226</td><td>5</td><td>3.459051e-03</td><td>Kruskal-Wallis rank sum test</td></tr>\n",
       "</tbody>\n",
       "</table>\n"
      ],
      "text/latex": [
       "A data.frame: 6 × 5\n",
       "\\begin{tabular}{r|lllll}\n",
       "  & Response\\_var & statistic & df & p & method\\\\\n",
       "  & <chr> & <dbl> & <int> & <dbl> & <chr>\\\\\n",
       "\\hline\n",
       "\tKruskal-Wallis chi-squared & co2\\_conversion & 26.46821 & 5 & 7.238476e-05 & Kruskal-Wallis rank sum test\\\\\n",
       "\tKruskal-Wallis chi-squared1 & co\\_sel         & 79.71897 & 5 & 9.608279e-16 & Kruskal-Wallis rank sum test\\\\\n",
       "\tKruskal-Wallis chi-squared2 & ch4\\_sel        & 23.75335 & 5 & 2.421324e-04 & Kruskal-Wallis rank sum test\\\\\n",
       "\tKruskal-Wallis chi-squared3 & c2\\_c4          & 15.21729 & 5 & 9.473132e-03 & Kruskal-Wallis rank sum test\\\\\n",
       "\tKruskal-Wallis chi-squared4 & c5             & 96.41249 & 5 & 3.011302e-19 & Kruskal-Wallis rank sum test\\\\\n",
       "\tKruskal-Wallis chi-squared5 & o\\_p\\_ratio      & 17.62226 & 5 & 3.459051e-03 & Kruskal-Wallis rank sum test\\\\\n",
       "\\end{tabular}\n"
      ],
      "text/markdown": [
       "\n",
       "A data.frame: 6 × 5\n",
       "\n",
       "| <!--/--> | Response_var &lt;chr&gt; | statistic &lt;dbl&gt; | df &lt;int&gt; | p &lt;dbl&gt; | method &lt;chr&gt; |\n",
       "|---|---|---|---|---|---|\n",
       "| Kruskal-Wallis chi-squared | co2_conversion | 26.46821 | 5 | 7.238476e-05 | Kruskal-Wallis rank sum test |\n",
       "| Kruskal-Wallis chi-squared1 | co_sel         | 79.71897 | 5 | 9.608279e-16 | Kruskal-Wallis rank sum test |\n",
       "| Kruskal-Wallis chi-squared2 | ch4_sel        | 23.75335 | 5 | 2.421324e-04 | Kruskal-Wallis rank sum test |\n",
       "| Kruskal-Wallis chi-squared3 | c2_c4          | 15.21729 | 5 | 9.473132e-03 | Kruskal-Wallis rank sum test |\n",
       "| Kruskal-Wallis chi-squared4 | c5             | 96.41249 | 5 | 3.011302e-19 | Kruskal-Wallis rank sum test |\n",
       "| Kruskal-Wallis chi-squared5 | o_p_ratio      | 17.62226 | 5 | 3.459051e-03 | Kruskal-Wallis rank sum test |\n",
       "\n"
      ],
      "text/plain": [
       "                            Response_var   statistic df p           \n",
       "Kruskal-Wallis chi-squared  co2_conversion 26.46821  5  7.238476e-05\n",
       "Kruskal-Wallis chi-squared1 co_sel         79.71897  5  9.608279e-16\n",
       "Kruskal-Wallis chi-squared2 ch4_sel        23.75335  5  2.421324e-04\n",
       "Kruskal-Wallis chi-squared3 c2_c4          15.21729  5  9.473132e-03\n",
       "Kruskal-Wallis chi-squared4 c5             96.41249  5  3.011302e-19\n",
       "Kruskal-Wallis chi-squared5 o_p_ratio      17.62226  5  3.459051e-03\n",
       "                            method                      \n",
       "Kruskal-Wallis chi-squared  Kruskal-Wallis rank sum test\n",
       "Kruskal-Wallis chi-squared1 Kruskal-Wallis rank sum test\n",
       "Kruskal-Wallis chi-squared2 Kruskal-Wallis rank sum test\n",
       "Kruskal-Wallis chi-squared3 Kruskal-Wallis rank sum test\n",
       "Kruskal-Wallis chi-squared4 Kruskal-Wallis rank sum test\n",
       "Kruskal-Wallis chi-squared5 Kruskal-Wallis rank sum test"
      ]
     },
     "metadata": {},
     "output_type": "display_data"
    }
   ],
   "source": [
    "Kruskal_Wallis_results <- lapply(response_vars, function(col){\n",
    "    \n",
    "         kruskal_results <-  kruskal.test(C5_cluster_data[[col]], C5_cluster_data$cluster)\n",
    "         data.frame(Response_var = col,\n",
    "         statistic = kruskal_results$statistic, \n",
    "         df = kruskal_results$parameter[['df']], \n",
    "         p = kruskal_results$p.value,  \n",
    "         method = kruskal_results$method)\n",
    "    \n",
    "})\n",
    "\n",
    "#Kruskal_Wallis_results\n",
    "do.call(rbind, Kruskal_Wallis_results)"
   ]
  },
  {
   "cell_type": "code",
   "execution_count": 17,
   "id": "edaa772c-0d8f-428b-992a-e6bb052acf28",
   "metadata": {},
   "outputs": [
    {
     "name": "stderr",
     "output_type": "stream",
     "text": [
      "\u001b[1m\u001b[22m`summarise()` has grouped output by 'cluster'. You can override using the `.groups` argument.\n"
     ]
    }
   ],
   "source": [
    "#This is hack to force the clusters to be ranked based on means\n",
    "tag_names<- cluster_melted |>\n",
    "            dplyr::group_by(cluster, variable) |>\n",
    "            dplyr::summarise(ymax = max(value, na.rm = TRUE), ymean = max(value, na.rm = TRUE)) |>\n",
    "            dplyr::mutate(cluster_tag = glue::glue(\"c{cluster}_{variable}_{ymean}\"))"
   ]
  },
  {
   "cell_type": "code",
   "execution_count": 18,
   "id": "565fbd53-9fe6-440a-9df3-4af8906bb1e1",
   "metadata": {},
   "outputs": [
    {
     "data": {
      "text/html": [
       "<style>\n",
       ".list-inline {list-style: none; margin:0; padding: 0}\n",
       ".list-inline>li {display: inline-block}\n",
       ".list-inline>li:not(:last-child)::after {content: \"\\00b7\"; padding: 0 .5ex}\n",
       "</style>\n",
       "<ol class=list-inline><li>2244</li><li>3</li></ol>\n"
      ],
      "text/latex": [
       "\\begin{enumerate*}\n",
       "\\item 2244\n",
       "\\item 3\n",
       "\\end{enumerate*}\n"
      ],
      "text/markdown": [
       "1. 2244\n",
       "2. 3\n",
       "\n",
       "\n"
      ],
      "text/plain": [
       "[1] 2244    3"
      ]
     },
     "metadata": {},
     "output_type": "display_data"
    }
   ],
   "source": [
    "dim(cluster_melted)"
   ]
  },
  {
   "cell_type": "code",
   "execution_count": 19,
   "id": "91bb20b6-b1af-48de-9ec8-e72153b28093",
   "metadata": {},
   "outputs": [
    {
     "data": {
      "text/html": [
       "<table class=\"dataframe\">\n",
       "<caption>A grouped_df: 6 × 5</caption>\n",
       "<thead>\n",
       "\t<tr><th scope=col>cluster</th><th scope=col>variable</th><th scope=col>ymax</th><th scope=col>ymean</th><th scope=col>cluster_tag</th></tr>\n",
       "\t<tr><th scope=col>&lt;fct&gt;</th><th scope=col>&lt;fct&gt;</th><th scope=col>&lt;dbl&gt;</th><th scope=col>&lt;dbl&gt;</th><th scope=col>&lt;glue&gt;</th></tr>\n",
       "</thead>\n",
       "<tbody>\n",
       "\t<tr><td>1</td><td>co2_conversion</td><td>27.530000</td><td>27.530000</td><td>c1_co2_conversion_27.53 </td></tr>\n",
       "\t<tr><td>1</td><td>co_sel        </td><td>59.330000</td><td>59.330000</td><td>c1_co_sel_59.33         </td></tr>\n",
       "\t<tr><td>1</td><td>ch4_sel       </td><td>20.910000</td><td>20.910000</td><td>c1_ch4_sel_20.91        </td></tr>\n",
       "\t<tr><td>1</td><td>c2_c4         </td><td>45.910000</td><td>45.910000</td><td>c1_c2_c4_45.91          </td></tr>\n",
       "\t<tr><td>1</td><td>c5            </td><td>16.860000</td><td>16.860000</td><td>c1_c5_16.86             </td></tr>\n",
       "\t<tr><td>1</td><td>o_p_ratio     </td><td> 1.696318</td><td> 1.696318</td><td>c1_o_p_ratio_1.696317551</td></tr>\n",
       "</tbody>\n",
       "</table>\n"
      ],
      "text/latex": [
       "A grouped\\_df: 6 × 5\n",
       "\\begin{tabular}{lllll}\n",
       " cluster & variable & ymax & ymean & cluster\\_tag\\\\\n",
       " <fct> & <fct> & <dbl> & <dbl> & <glue>\\\\\n",
       "\\hline\n",
       "\t 1 & co2\\_conversion & 27.530000 & 27.530000 & c1\\_co2\\_conversion\\_27.53 \\\\\n",
       "\t 1 & co\\_sel         & 59.330000 & 59.330000 & c1\\_co\\_sel\\_59.33         \\\\\n",
       "\t 1 & ch4\\_sel        & 20.910000 & 20.910000 & c1\\_ch4\\_sel\\_20.91        \\\\\n",
       "\t 1 & c2\\_c4          & 45.910000 & 45.910000 & c1\\_c2\\_c4\\_45.91          \\\\\n",
       "\t 1 & c5             & 16.860000 & 16.860000 & c1\\_c5\\_16.86             \\\\\n",
       "\t 1 & o\\_p\\_ratio      &  1.696318 &  1.696318 & c1\\_o\\_p\\_ratio\\_1.696317551\\\\\n",
       "\\end{tabular}\n"
      ],
      "text/markdown": [
       "\n",
       "A grouped_df: 6 × 5\n",
       "\n",
       "| cluster &lt;fct&gt; | variable &lt;fct&gt; | ymax &lt;dbl&gt; | ymean &lt;dbl&gt; | cluster_tag &lt;glue&gt; |\n",
       "|---|---|---|---|---|\n",
       "| 1 | co2_conversion | 27.530000 | 27.530000 | c1_co2_conversion_27.53  |\n",
       "| 1 | co_sel         | 59.330000 | 59.330000 | c1_co_sel_59.33          |\n",
       "| 1 | ch4_sel        | 20.910000 | 20.910000 | c1_ch4_sel_20.91         |\n",
       "| 1 | c2_c4          | 45.910000 | 45.910000 | c1_c2_c4_45.91           |\n",
       "| 1 | c5             | 16.860000 | 16.860000 | c1_c5_16.86              |\n",
       "| 1 | o_p_ratio      |  1.696318 |  1.696318 | c1_o_p_ratio_1.696317551 |\n",
       "\n"
      ],
      "text/plain": [
       "  cluster variable       ymax      ymean     cluster_tag             \n",
       "1 1       co2_conversion 27.530000 27.530000 c1_co2_conversion_27.53 \n",
       "2 1       co_sel         59.330000 59.330000 c1_co_sel_59.33         \n",
       "3 1       ch4_sel        20.910000 20.910000 c1_ch4_sel_20.91        \n",
       "4 1       c2_c4          45.910000 45.910000 c1_c2_c4_45.91          \n",
       "5 1       c5             16.860000 16.860000 c1_c5_16.86             \n",
       "6 1       o_p_ratio       1.696318  1.696318 c1_o_p_ratio_1.696317551"
      ]
     },
     "metadata": {},
     "output_type": "display_data"
    }
   ],
   "source": [
    "head(tag_names)"
   ]
  },
  {
   "cell_type": "code",
   "execution_count": 58,
   "id": "294d8d03-e47f-49ac-bfea-0c25711484ab",
   "metadata": {},
   "outputs": [],
   "source": []
  },
  {
   "cell_type": "code",
   "execution_count": 92,
   "id": "a1221e67-f40f-4942-82c2-e49965b66645",
   "metadata": {},
   "outputs": [],
   "source": [
    "rev_rank <- function(ranking ){  (max(ranking) + 1) - ranking  }\n",
    "\n",
    "get_dunn <- function(col){\n",
    "\n",
    "        subset_dat <- C5_cluster_data |> dplyr::select(all_of(c(col, \"cluster\")))\n",
    "        for (clust_id in  unique(subset_dat$cluster)){\n",
    "            cluster_median <- round(median(subset_dat[subset_dat$cluster == clust_id,col],  na.rm = TRUE), 1)\n",
    "            subset_dat[subset_dat$cluster == clust_id,\"cluster_median\"] <- cluster_median }\n",
    "        \n",
    "        subset_dat_ranked <- subset_dat |>\n",
    "                             dplyr::group_by(cluster_median) |>\n",
    "                             dplyr::mutate(cluster_rank = cur_group_id()) |>\n",
    "                             dplyr::ungroup() |>\n",
    "                             dplyr::mutate(Group = as.factor(glue::glue(\"c_rank_{cluster_rank}_{cluster_median}_C{cluster}\"))) \n",
    "\n",
    "        ranked <- dplyr::distinct(subset_dat_ranked[c(\"cluster\", \"Group\")])\n",
    "        ranked$cluster <- factor(ranked$cluster, levels = ranked$cluster)\n",
    "        #Pairwise Dunn Test to find out which clusters is higher\n",
    "        posthoc_dunn <- FSA::dunnTest(subset_dat_ranked[[col]], subset_dat_ranked$Group, method = \"bonferroni\")\n",
    "        cld <- cldList(comparison = posthoc_dunn$res$Comparison,  p.value = posthoc_dunn$res$P.adj, threshold = 0.05, remove.zero = FALSE) |>\n",
    "               dplyr::left_join(ranked) |>\n",
    "               dplyr::mutate(variable = col) |>\n",
    "               dplyr::mutate(rank = rank(MonoLetter, ties.method = \"min\")) |>\n",
    "               dplyr::select(Group, Letter, MonoLetter,\tcluster, variable, rank) |>\n",
    "               dplyr::arrange(rank)\n",
    "\n",
    "        if (col %in% c(\"co_sel\",\"ch4_sel\")){ cld$rank <- rev_rank(cld$rank) }\n",
    "\n",
    "    \n",
    "   return(cld)\n",
    "\n",
    "}"
   ]
  },
  {
   "cell_type": "code",
   "execution_count": 93,
   "id": "bb3dcea5-792b-48da-850d-d71130384f41",
   "metadata": {},
   "outputs": [
    {
     "name": "stderr",
     "output_type": "stream",
     "text": [
      "\u001b[1m\u001b[22mJoining with `by = join_by(Group)`\n",
      "\u001b[1m\u001b[22mJoining with `by = join_by(Group)`\n",
      "\u001b[1m\u001b[22mJoining with `by = join_by(Group)`\n",
      "\u001b[1m\u001b[22mJoining with `by = join_by(Group)`\n",
      "\u001b[1m\u001b[22mJoining with `by = join_by(Group)`\n",
      "Warning message:\n",
      "\"Some rows deleted from 'x' and 'g' because missing data.\"\n",
      "\u001b[1m\u001b[22mJoining with `by = join_by(Group)`\n"
     ]
    }
   ],
   "source": [
    "DunnTest_results <- lapply(response_vars, get_dunn)"
   ]
  },
  {
   "cell_type": "code",
   "execution_count": 94,
   "id": "958d8685-3bf2-4370-bacb-61ccfb93c07f",
   "metadata": {},
   "outputs": [
    {
     "data": {
      "text/html": [
       "<table class=\"dataframe\">\n",
       "<caption>A grouped_df: 6 × 5</caption>\n",
       "<thead>\n",
       "\t<tr><th scope=col>cluster</th><th scope=col>variable</th><th scope=col>ymax</th><th scope=col>ymean</th><th scope=col>cluster_tag</th></tr>\n",
       "\t<tr><th scope=col>&lt;fct&gt;</th><th scope=col>&lt;fct&gt;</th><th scope=col>&lt;dbl&gt;</th><th scope=col>&lt;dbl&gt;</th><th scope=col>&lt;glue&gt;</th></tr>\n",
       "</thead>\n",
       "<tbody>\n",
       "\t<tr><td>1</td><td>co2_conversion</td><td>27.530000</td><td>27.530000</td><td>c1_co2_conversion_27.53 </td></tr>\n",
       "\t<tr><td>1</td><td>co_sel        </td><td>59.330000</td><td>59.330000</td><td>c1_co_sel_59.33         </td></tr>\n",
       "\t<tr><td>1</td><td>ch4_sel       </td><td>20.910000</td><td>20.910000</td><td>c1_ch4_sel_20.91        </td></tr>\n",
       "\t<tr><td>1</td><td>c2_c4         </td><td>45.910000</td><td>45.910000</td><td>c1_c2_c4_45.91          </td></tr>\n",
       "\t<tr><td>1</td><td>c5            </td><td>16.860000</td><td>16.860000</td><td>c1_c5_16.86             </td></tr>\n",
       "\t<tr><td>1</td><td>o_p_ratio     </td><td> 1.696318</td><td> 1.696318</td><td>c1_o_p_ratio_1.696317551</td></tr>\n",
       "</tbody>\n",
       "</table>\n"
      ],
      "text/latex": [
       "A grouped\\_df: 6 × 5\n",
       "\\begin{tabular}{lllll}\n",
       " cluster & variable & ymax & ymean & cluster\\_tag\\\\\n",
       " <fct> & <fct> & <dbl> & <dbl> & <glue>\\\\\n",
       "\\hline\n",
       "\t 1 & co2\\_conversion & 27.530000 & 27.530000 & c1\\_co2\\_conversion\\_27.53 \\\\\n",
       "\t 1 & co\\_sel         & 59.330000 & 59.330000 & c1\\_co\\_sel\\_59.33         \\\\\n",
       "\t 1 & ch4\\_sel        & 20.910000 & 20.910000 & c1\\_ch4\\_sel\\_20.91        \\\\\n",
       "\t 1 & c2\\_c4          & 45.910000 & 45.910000 & c1\\_c2\\_c4\\_45.91          \\\\\n",
       "\t 1 & c5             & 16.860000 & 16.860000 & c1\\_c5\\_16.86             \\\\\n",
       "\t 1 & o\\_p\\_ratio      &  1.696318 &  1.696318 & c1\\_o\\_p\\_ratio\\_1.696317551\\\\\n",
       "\\end{tabular}\n"
      ],
      "text/markdown": [
       "\n",
       "A grouped_df: 6 × 5\n",
       "\n",
       "| cluster &lt;fct&gt; | variable &lt;fct&gt; | ymax &lt;dbl&gt; | ymean &lt;dbl&gt; | cluster_tag &lt;glue&gt; |\n",
       "|---|---|---|---|---|\n",
       "| 1 | co2_conversion | 27.530000 | 27.530000 | c1_co2_conversion_27.53  |\n",
       "| 1 | co_sel         | 59.330000 | 59.330000 | c1_co_sel_59.33          |\n",
       "| 1 | ch4_sel        | 20.910000 | 20.910000 | c1_ch4_sel_20.91         |\n",
       "| 1 | c2_c4          | 45.910000 | 45.910000 | c1_c2_c4_45.91           |\n",
       "| 1 | c5             | 16.860000 | 16.860000 | c1_c5_16.86              |\n",
       "| 1 | o_p_ratio      |  1.696318 |  1.696318 | c1_o_p_ratio_1.696317551 |\n",
       "\n"
      ],
      "text/plain": [
       "  cluster variable       ymax      ymean     cluster_tag             \n",
       "1 1       co2_conversion 27.530000 27.530000 c1_co2_conversion_27.53 \n",
       "2 1       co_sel         59.330000 59.330000 c1_co_sel_59.33         \n",
       "3 1       ch4_sel        20.910000 20.910000 c1_ch4_sel_20.91        \n",
       "4 1       c2_c4          45.910000 45.910000 c1_c2_c4_45.91          \n",
       "5 1       c5             16.860000 16.860000 c1_c5_16.86             \n",
       "6 1       o_p_ratio       1.696318  1.696318 c1_o_p_ratio_1.696317551"
      ]
     },
     "metadata": {},
     "output_type": "display_data"
    }
   ],
   "source": [
    "head(tag_names)"
   ]
  },
  {
   "cell_type": "code",
   "execution_count": 95,
   "id": "01a7fb75-3b49-495f-8466-0a3a89809315",
   "metadata": {},
   "outputs": [
    {
     "name": "stderr",
     "output_type": "stream",
     "text": [
      "\u001b[1m\u001b[22mJoining with `by = join_by(cluster, variable)`\n"
     ]
    },
    {
     "data": {
      "text/html": [
       "<table class=\"dataframe\">\n",
       "<caption>A data.frame: 36 × 9</caption>\n",
       "<thead>\n",
       "\t<tr><th scope=col>Group</th><th scope=col>Letter</th><th scope=col>MonoLetter</th><th scope=col>cluster</th><th scope=col>variable</th><th scope=col>rank</th><th scope=col>ymax</th><th scope=col>ymean</th><th scope=col>cluster_tag</th></tr>\n",
       "\t<tr><th scope=col>&lt;chr&gt;</th><th scope=col>&lt;chr&gt;</th><th scope=col>&lt;chr&gt;</th><th scope=col>&lt;fct&gt;</th><th scope=col>&lt;chr&gt;</th><th scope=col>&lt;dbl&gt;</th><th scope=col>&lt;dbl&gt;</th><th scope=col>&lt;dbl&gt;</th><th scope=col>&lt;glue&gt;</th></tr>\n",
       "</thead>\n",
       "<tbody>\n",
       "\t<tr><td>c_rank_5_35.4_C5</td><td>b  </td><td> b  </td><td>5</td><td>c2_c4         </td><td>1</td><td> 62.240000</td><td> 62.240000</td><td>c5_c2_c4_62.24          </td></tr>\n",
       "\t<tr><td>c_rank_1_29.2_C3</td><td>a  </td><td>a   </td><td>3</td><td>c2_c4         </td><td>2</td><td> 64.200000</td><td> 64.200000</td><td>c3_c2_c4_64.2           </td></tr>\n",
       "\t<tr><td>c_rank_2_32.2_C4</td><td>ab </td><td>ab  </td><td>4</td><td>c2_c4         </td><td>3</td><td> 53.200000</td><td> 53.200000</td><td>c4_c2_c4_53.2           </td></tr>\n",
       "\t<tr><td>c_rank_3_32.3_C2</td><td>ab </td><td>ab  </td><td>2</td><td>c2_c4         </td><td>3</td><td> 42.000000</td><td> 42.000000</td><td>c2_c2_c4_42             </td></tr>\n",
       "\t<tr><td>c_rank_4_33.4_C6</td><td>ab </td><td>ab  </td><td>6</td><td>c2_c4         </td><td>3</td><td> 76.240000</td><td> 76.240000</td><td>c6_c2_c4_76.24          </td></tr>\n",
       "\t<tr><td>c_rank_6_36_C1  </td><td>ab </td><td>ab  </td><td>1</td><td>c2_c4         </td><td>3</td><td> 45.910000</td><td> 45.910000</td><td>c1_c2_c4_45.91          </td></tr>\n",
       "\t<tr><td>c_rank_5_40.3_C2</td><td>d  </td><td>   d</td><td>2</td><td>c5            </td><td>1</td><td> 56.340000</td><td> 56.340000</td><td>c2_c5_56.34             </td></tr>\n",
       "\t<tr><td>c_rank_4_34.8_C5</td><td>cd </td><td>  cd</td><td>5</td><td>c5            </td><td>2</td><td> 56.360000</td><td> 56.360000</td><td>c5_c5_56.36             </td></tr>\n",
       "\t<tr><td>c_rank_3_22.2_C6</td><td>bc </td><td> bc </td><td>6</td><td>c5            </td><td>3</td><td> 71.510000</td><td> 71.510000</td><td>c6_c5_71.51             </td></tr>\n",
       "\t<tr><td>c_rank_1_8.9_C4 </td><td>a  </td><td>a   </td><td>4</td><td>c5            </td><td>4</td><td> 46.740000</td><td> 46.740000</td><td>c4_c5_46.74             </td></tr>\n",
       "\t<tr><td>c_rank_2_9.9_C3 </td><td>a  </td><td>a   </td><td>3</td><td>c5            </td><td>4</td><td> 56.200000</td><td> 56.200000</td><td>c3_c5_56.2              </td></tr>\n",
       "\t<tr><td>c_rank_2_9.9_C1 </td><td>ab </td><td>ab  </td><td>1</td><td>c5            </td><td>6</td><td> 16.860000</td><td> 16.860000</td><td>c1_c5_16.86             </td></tr>\n",
       "\t<tr><td>c_rank_3_16.2_C1</td><td>abc</td><td>abc </td><td>1</td><td>ch4_sel       </td><td>1</td><td> 20.910000</td><td> 20.910000</td><td>c1_ch4_sel_20.91        </td></tr>\n",
       "\t<tr><td>c_rank_4_16.3_C2</td><td>abc</td><td>abc </td><td>2</td><td>ch4_sel       </td><td>1</td><td> 41.400000</td><td> 41.400000</td><td>c2_ch4_sel_41.4         </td></tr>\n",
       "\t<tr><td>c_rank_1_13.6_C5</td><td>ab </td><td>ab  </td><td>5</td><td>ch4_sel       </td><td>2</td><td> 41.160000</td><td> 41.160000</td><td>c5_ch4_sel_41.16        </td></tr>\n",
       "\t<tr><td>c_rank_2_15.4_C6</td><td>a  </td><td>a   </td><td>6</td><td>ch4_sel       </td><td>3</td><td> 88.340000</td><td> 88.340000</td><td>c6_ch4_sel_88.34        </td></tr>\n",
       "\t<tr><td>c_rank_5_21_C3  </td><td>bc </td><td> bc </td><td>3</td><td>ch4_sel       </td><td>4</td><td> 97.000000</td><td> 97.000000</td><td>c3_ch4_sel_97           </td></tr>\n",
       "\t<tr><td>c_rank_6_28.5_C4</td><td>c  </td><td>  c </td><td>4</td><td>ch4_sel       </td><td>5</td><td> 68.523200</td><td> 68.523200</td><td>c4_ch4_sel_68.5232      </td></tr>\n",
       "\t<tr><td>c_rank_6_41_C2  </td><td>c  </td><td>  c </td><td>2</td><td>co2_conversion</td><td>1</td><td> 53.740000</td><td> 53.740000</td><td>c2_co2_conversion_53.74 </td></tr>\n",
       "\t<tr><td>c_rank_5_36.4_C5</td><td>bc </td><td> bc </td><td>5</td><td>co2_conversion</td><td>2</td><td> 85.390000</td><td> 85.390000</td><td>c5_co2_conversion_85.39 </td></tr>\n",
       "\t<tr><td>c_rank_1_23.1_C1</td><td>a  </td><td>a   </td><td>1</td><td>co2_conversion</td><td>3</td><td> 27.530000</td><td> 27.530000</td><td>c1_co2_conversion_27.53 </td></tr>\n",
       "\t<tr><td>c_rank_2_32.7_C4</td><td>ab </td><td>ab  </td><td>4</td><td>co2_conversion</td><td>4</td><td> 48.500000</td><td> 48.500000</td><td>c4_co2_conversion_48.5  </td></tr>\n",
       "\t<tr><td>c_rank_3_34_C3  </td><td>ab </td><td>ab  </td><td>3</td><td>co2_conversion</td><td>4</td><td> 69.600000</td><td> 69.600000</td><td>c3_co2_conversion_69.6  </td></tr>\n",
       "\t<tr><td>c_rank_4_35_C6  </td><td>abc</td><td>abc </td><td>6</td><td>co2_conversion</td><td>6</td><td> 57.390000</td><td> 57.390000</td><td>c6_co2_conversion_57.39 </td></tr>\n",
       "\t<tr><td>c_rank_1_10_C2  </td><td>a  </td><td>a   </td><td>2</td><td>co_sel        </td><td>1</td><td> 27.500000</td><td> 27.500000</td><td>c2_co_sel_27.5          </td></tr>\n",
       "\t<tr><td>c_rank_2_11.3_C5</td><td>a  </td><td>a   </td><td>5</td><td>co_sel        </td><td>1</td><td> 31.900000</td><td> 31.900000</td><td>c5_co_sel_31.9          </td></tr>\n",
       "\t<tr><td>c_rank_3_13.5_C6</td><td>a  </td><td>a   </td><td>6</td><td>co_sel        </td><td>1</td><td> 95.200000</td><td> 95.200000</td><td>c6_co_sel_95.2          </td></tr>\n",
       "\t<tr><td>c_rank_4_22_C4  </td><td>b  </td><td> b  </td><td>4</td><td>co_sel        </td><td>4</td><td> 87.600000</td><td> 87.600000</td><td>c4_co_sel_87.6          </td></tr>\n",
       "\t<tr><td>c_rank_5_26.6_C3</td><td>b  </td><td> b  </td><td>3</td><td>co_sel        </td><td>4</td><td>100.000000</td><td>100.000000</td><td>c3_co_sel_100           </td></tr>\n",
       "\t<tr><td>c_rank_6_38_C1  </td><td>b  </td><td> b  </td><td>1</td><td>co_sel        </td><td>4</td><td> 59.330000</td><td> 59.330000</td><td>c1_co_sel_59.33         </td></tr>\n",
       "\t<tr><td>c_rank_1_1.2_C1 </td><td>a  </td><td>a   </td><td>1</td><td>o_p_ratio     </td><td>1</td><td>  1.696318</td><td>  1.696318</td><td>c1_o_p_ratio_1.696317551</td></tr>\n",
       "\t<tr><td>c_rank_2_1.5_C4 </td><td>a  </td><td>a   </td><td>4</td><td>o_p_ratio     </td><td>1</td><td> 26.500000</td><td> 26.500000</td><td>c4_o_p_ratio_26.5       </td></tr>\n",
       "\t<tr><td>c_rank_3_1.9_C3 </td><td>a  </td><td>a   </td><td>3</td><td>o_p_ratio     </td><td>1</td><td> 26.208000</td><td> 26.208000</td><td>c3_o_p_ratio_26.208     </td></tr>\n",
       "\t<tr><td>c_rank_4_2.3_C2 </td><td>a  </td><td>a   </td><td>2</td><td>o_p_ratio     </td><td>1</td><td>  6.740000</td><td>  6.740000</td><td>c2_o_p_ratio_6.74       </td></tr>\n",
       "\t<tr><td>c_rank_5_4_C6   </td><td>a  </td><td>a   </td><td>6</td><td>o_p_ratio     </td><td>1</td><td>  9.350000</td><td>  9.350000</td><td>c6_o_p_ratio_9.35       </td></tr>\n",
       "\t<tr><td>c_rank_6_6.2_C5 </td><td>a  </td><td>a   </td><td>5</td><td>o_p_ratio     </td><td>1</td><td> 83.600000</td><td> 83.600000</td><td>c5_o_p_ratio_83.6       </td></tr>\n",
       "</tbody>\n",
       "</table>\n"
      ],
      "text/latex": [
       "A data.frame: 36 × 9\n",
       "\\begin{tabular}{lllllllll}\n",
       " Group & Letter & MonoLetter & cluster & variable & rank & ymax & ymean & cluster\\_tag\\\\\n",
       " <chr> & <chr> & <chr> & <fct> & <chr> & <dbl> & <dbl> & <dbl> & <glue>\\\\\n",
       "\\hline\n",
       "\t c\\_rank\\_5\\_35.4\\_C5 & b   &  b   & 5 & c2\\_c4          & 1 &  62.240000 &  62.240000 & c5\\_c2\\_c4\\_62.24          \\\\\n",
       "\t c\\_rank\\_1\\_29.2\\_C3 & a   & a    & 3 & c2\\_c4          & 2 &  64.200000 &  64.200000 & c3\\_c2\\_c4\\_64.2           \\\\\n",
       "\t c\\_rank\\_2\\_32.2\\_C4 & ab  & ab   & 4 & c2\\_c4          & 3 &  53.200000 &  53.200000 & c4\\_c2\\_c4\\_53.2           \\\\\n",
       "\t c\\_rank\\_3\\_32.3\\_C2 & ab  & ab   & 2 & c2\\_c4          & 3 &  42.000000 &  42.000000 & c2\\_c2\\_c4\\_42             \\\\\n",
       "\t c\\_rank\\_4\\_33.4\\_C6 & ab  & ab   & 6 & c2\\_c4          & 3 &  76.240000 &  76.240000 & c6\\_c2\\_c4\\_76.24          \\\\\n",
       "\t c\\_rank\\_6\\_36\\_C1   & ab  & ab   & 1 & c2\\_c4          & 3 &  45.910000 &  45.910000 & c1\\_c2\\_c4\\_45.91          \\\\\n",
       "\t c\\_rank\\_5\\_40.3\\_C2 & d   &    d & 2 & c5             & 1 &  56.340000 &  56.340000 & c2\\_c5\\_56.34             \\\\\n",
       "\t c\\_rank\\_4\\_34.8\\_C5 & cd  &   cd & 5 & c5             & 2 &  56.360000 &  56.360000 & c5\\_c5\\_56.36             \\\\\n",
       "\t c\\_rank\\_3\\_22.2\\_C6 & bc  &  bc  & 6 & c5             & 3 &  71.510000 &  71.510000 & c6\\_c5\\_71.51             \\\\\n",
       "\t c\\_rank\\_1\\_8.9\\_C4  & a   & a    & 4 & c5             & 4 &  46.740000 &  46.740000 & c4\\_c5\\_46.74             \\\\\n",
       "\t c\\_rank\\_2\\_9.9\\_C3  & a   & a    & 3 & c5             & 4 &  56.200000 &  56.200000 & c3\\_c5\\_56.2              \\\\\n",
       "\t c\\_rank\\_2\\_9.9\\_C1  & ab  & ab   & 1 & c5             & 6 &  16.860000 &  16.860000 & c1\\_c5\\_16.86             \\\\\n",
       "\t c\\_rank\\_3\\_16.2\\_C1 & abc & abc  & 1 & ch4\\_sel        & 1 &  20.910000 &  20.910000 & c1\\_ch4\\_sel\\_20.91        \\\\\n",
       "\t c\\_rank\\_4\\_16.3\\_C2 & abc & abc  & 2 & ch4\\_sel        & 1 &  41.400000 &  41.400000 & c2\\_ch4\\_sel\\_41.4         \\\\\n",
       "\t c\\_rank\\_1\\_13.6\\_C5 & ab  & ab   & 5 & ch4\\_sel        & 2 &  41.160000 &  41.160000 & c5\\_ch4\\_sel\\_41.16        \\\\\n",
       "\t c\\_rank\\_2\\_15.4\\_C6 & a   & a    & 6 & ch4\\_sel        & 3 &  88.340000 &  88.340000 & c6\\_ch4\\_sel\\_88.34        \\\\\n",
       "\t c\\_rank\\_5\\_21\\_C3   & bc  &  bc  & 3 & ch4\\_sel        & 4 &  97.000000 &  97.000000 & c3\\_ch4\\_sel\\_97           \\\\\n",
       "\t c\\_rank\\_6\\_28.5\\_C4 & c   &   c  & 4 & ch4\\_sel        & 5 &  68.523200 &  68.523200 & c4\\_ch4\\_sel\\_68.5232      \\\\\n",
       "\t c\\_rank\\_6\\_41\\_C2   & c   &   c  & 2 & co2\\_conversion & 1 &  53.740000 &  53.740000 & c2\\_co2\\_conversion\\_53.74 \\\\\n",
       "\t c\\_rank\\_5\\_36.4\\_C5 & bc  &  bc  & 5 & co2\\_conversion & 2 &  85.390000 &  85.390000 & c5\\_co2\\_conversion\\_85.39 \\\\\n",
       "\t c\\_rank\\_1\\_23.1\\_C1 & a   & a    & 1 & co2\\_conversion & 3 &  27.530000 &  27.530000 & c1\\_co2\\_conversion\\_27.53 \\\\\n",
       "\t c\\_rank\\_2\\_32.7\\_C4 & ab  & ab   & 4 & co2\\_conversion & 4 &  48.500000 &  48.500000 & c4\\_co2\\_conversion\\_48.5  \\\\\n",
       "\t c\\_rank\\_3\\_34\\_C3   & ab  & ab   & 3 & co2\\_conversion & 4 &  69.600000 &  69.600000 & c3\\_co2\\_conversion\\_69.6  \\\\\n",
       "\t c\\_rank\\_4\\_35\\_C6   & abc & abc  & 6 & co2\\_conversion & 6 &  57.390000 &  57.390000 & c6\\_co2\\_conversion\\_57.39 \\\\\n",
       "\t c\\_rank\\_1\\_10\\_C2   & a   & a    & 2 & co\\_sel         & 1 &  27.500000 &  27.500000 & c2\\_co\\_sel\\_27.5          \\\\\n",
       "\t c\\_rank\\_2\\_11.3\\_C5 & a   & a    & 5 & co\\_sel         & 1 &  31.900000 &  31.900000 & c5\\_co\\_sel\\_31.9          \\\\\n",
       "\t c\\_rank\\_3\\_13.5\\_C6 & a   & a    & 6 & co\\_sel         & 1 &  95.200000 &  95.200000 & c6\\_co\\_sel\\_95.2          \\\\\n",
       "\t c\\_rank\\_4\\_22\\_C4   & b   &  b   & 4 & co\\_sel         & 4 &  87.600000 &  87.600000 & c4\\_co\\_sel\\_87.6          \\\\\n",
       "\t c\\_rank\\_5\\_26.6\\_C3 & b   &  b   & 3 & co\\_sel         & 4 & 100.000000 & 100.000000 & c3\\_co\\_sel\\_100           \\\\\n",
       "\t c\\_rank\\_6\\_38\\_C1   & b   &  b   & 1 & co\\_sel         & 4 &  59.330000 &  59.330000 & c1\\_co\\_sel\\_59.33         \\\\\n",
       "\t c\\_rank\\_1\\_1.2\\_C1  & a   & a    & 1 & o\\_p\\_ratio      & 1 &   1.696318 &   1.696318 & c1\\_o\\_p\\_ratio\\_1.696317551\\\\\n",
       "\t c\\_rank\\_2\\_1.5\\_C4  & a   & a    & 4 & o\\_p\\_ratio      & 1 &  26.500000 &  26.500000 & c4\\_o\\_p\\_ratio\\_26.5       \\\\\n",
       "\t c\\_rank\\_3\\_1.9\\_C3  & a   & a    & 3 & o\\_p\\_ratio      & 1 &  26.208000 &  26.208000 & c3\\_o\\_p\\_ratio\\_26.208     \\\\\n",
       "\t c\\_rank\\_4\\_2.3\\_C2  & a   & a    & 2 & o\\_p\\_ratio      & 1 &   6.740000 &   6.740000 & c2\\_o\\_p\\_ratio\\_6.74       \\\\\n",
       "\t c\\_rank\\_5\\_4\\_C6    & a   & a    & 6 & o\\_p\\_ratio      & 1 &   9.350000 &   9.350000 & c6\\_o\\_p\\_ratio\\_9.35       \\\\\n",
       "\t c\\_rank\\_6\\_6.2\\_C5  & a   & a    & 5 & o\\_p\\_ratio      & 1 &  83.600000 &  83.600000 & c5\\_o\\_p\\_ratio\\_83.6       \\\\\n",
       "\\end{tabular}\n"
      ],
      "text/markdown": [
       "\n",
       "A data.frame: 36 × 9\n",
       "\n",
       "| Group &lt;chr&gt; | Letter &lt;chr&gt; | MonoLetter &lt;chr&gt; | cluster &lt;fct&gt; | variable &lt;chr&gt; | rank &lt;dbl&gt; | ymax &lt;dbl&gt; | ymean &lt;dbl&gt; | cluster_tag &lt;glue&gt; |\n",
       "|---|---|---|---|---|---|---|---|---|\n",
       "| c_rank_5_35.4_C5 | b   |  b   | 5 | c2_c4          | 1 |  62.240000 |  62.240000 | c5_c2_c4_62.24           |\n",
       "| c_rank_1_29.2_C3 | a   | a    | 3 | c2_c4          | 2 |  64.200000 |  64.200000 | c3_c2_c4_64.2            |\n",
       "| c_rank_2_32.2_C4 | ab  | ab   | 4 | c2_c4          | 3 |  53.200000 |  53.200000 | c4_c2_c4_53.2            |\n",
       "| c_rank_3_32.3_C2 | ab  | ab   | 2 | c2_c4          | 3 |  42.000000 |  42.000000 | c2_c2_c4_42              |\n",
       "| c_rank_4_33.4_C6 | ab  | ab   | 6 | c2_c4          | 3 |  76.240000 |  76.240000 | c6_c2_c4_76.24           |\n",
       "| c_rank_6_36_C1   | ab  | ab   | 1 | c2_c4          | 3 |  45.910000 |  45.910000 | c1_c2_c4_45.91           |\n",
       "| c_rank_5_40.3_C2 | d   |    d | 2 | c5             | 1 |  56.340000 |  56.340000 | c2_c5_56.34              |\n",
       "| c_rank_4_34.8_C5 | cd  |   cd | 5 | c5             | 2 |  56.360000 |  56.360000 | c5_c5_56.36              |\n",
       "| c_rank_3_22.2_C6 | bc  |  bc  | 6 | c5             | 3 |  71.510000 |  71.510000 | c6_c5_71.51              |\n",
       "| c_rank_1_8.9_C4  | a   | a    | 4 | c5             | 4 |  46.740000 |  46.740000 | c4_c5_46.74              |\n",
       "| c_rank_2_9.9_C3  | a   | a    | 3 | c5             | 4 |  56.200000 |  56.200000 | c3_c5_56.2               |\n",
       "| c_rank_2_9.9_C1  | ab  | ab   | 1 | c5             | 6 |  16.860000 |  16.860000 | c1_c5_16.86              |\n",
       "| c_rank_3_16.2_C1 | abc | abc  | 1 | ch4_sel        | 1 |  20.910000 |  20.910000 | c1_ch4_sel_20.91         |\n",
       "| c_rank_4_16.3_C2 | abc | abc  | 2 | ch4_sel        | 1 |  41.400000 |  41.400000 | c2_ch4_sel_41.4          |\n",
       "| c_rank_1_13.6_C5 | ab  | ab   | 5 | ch4_sel        | 2 |  41.160000 |  41.160000 | c5_ch4_sel_41.16         |\n",
       "| c_rank_2_15.4_C6 | a   | a    | 6 | ch4_sel        | 3 |  88.340000 |  88.340000 | c6_ch4_sel_88.34         |\n",
       "| c_rank_5_21_C3   | bc  |  bc  | 3 | ch4_sel        | 4 |  97.000000 |  97.000000 | c3_ch4_sel_97            |\n",
       "| c_rank_6_28.5_C4 | c   |   c  | 4 | ch4_sel        | 5 |  68.523200 |  68.523200 | c4_ch4_sel_68.5232       |\n",
       "| c_rank_6_41_C2   | c   |   c  | 2 | co2_conversion | 1 |  53.740000 |  53.740000 | c2_co2_conversion_53.74  |\n",
       "| c_rank_5_36.4_C5 | bc  |  bc  | 5 | co2_conversion | 2 |  85.390000 |  85.390000 | c5_co2_conversion_85.39  |\n",
       "| c_rank_1_23.1_C1 | a   | a    | 1 | co2_conversion | 3 |  27.530000 |  27.530000 | c1_co2_conversion_27.53  |\n",
       "| c_rank_2_32.7_C4 | ab  | ab   | 4 | co2_conversion | 4 |  48.500000 |  48.500000 | c4_co2_conversion_48.5   |\n",
       "| c_rank_3_34_C3   | ab  | ab   | 3 | co2_conversion | 4 |  69.600000 |  69.600000 | c3_co2_conversion_69.6   |\n",
       "| c_rank_4_35_C6   | abc | abc  | 6 | co2_conversion | 6 |  57.390000 |  57.390000 | c6_co2_conversion_57.39  |\n",
       "| c_rank_1_10_C2   | a   | a    | 2 | co_sel         | 1 |  27.500000 |  27.500000 | c2_co_sel_27.5           |\n",
       "| c_rank_2_11.3_C5 | a   | a    | 5 | co_sel         | 1 |  31.900000 |  31.900000 | c5_co_sel_31.9           |\n",
       "| c_rank_3_13.5_C6 | a   | a    | 6 | co_sel         | 1 |  95.200000 |  95.200000 | c6_co_sel_95.2           |\n",
       "| c_rank_4_22_C4   | b   |  b   | 4 | co_sel         | 4 |  87.600000 |  87.600000 | c4_co_sel_87.6           |\n",
       "| c_rank_5_26.6_C3 | b   |  b   | 3 | co_sel         | 4 | 100.000000 | 100.000000 | c3_co_sel_100            |\n",
       "| c_rank_6_38_C1   | b   |  b   | 1 | co_sel         | 4 |  59.330000 |  59.330000 | c1_co_sel_59.33          |\n",
       "| c_rank_1_1.2_C1  | a   | a    | 1 | o_p_ratio      | 1 |   1.696318 |   1.696318 | c1_o_p_ratio_1.696317551 |\n",
       "| c_rank_2_1.5_C4  | a   | a    | 4 | o_p_ratio      | 1 |  26.500000 |  26.500000 | c4_o_p_ratio_26.5        |\n",
       "| c_rank_3_1.9_C3  | a   | a    | 3 | o_p_ratio      | 1 |  26.208000 |  26.208000 | c3_o_p_ratio_26.208      |\n",
       "| c_rank_4_2.3_C2  | a   | a    | 2 | o_p_ratio      | 1 |   6.740000 |   6.740000 | c2_o_p_ratio_6.74        |\n",
       "| c_rank_5_4_C6    | a   | a    | 6 | o_p_ratio      | 1 |   9.350000 |   9.350000 | c6_o_p_ratio_9.35        |\n",
       "| c_rank_6_6.2_C5  | a   | a    | 5 | o_p_ratio      | 1 |  83.600000 |  83.600000 | c5_o_p_ratio_83.6        |\n",
       "\n"
      ],
      "text/plain": [
       "   Group            Letter MonoLetter cluster variable       rank ymax      \n",
       "1  c_rank_5_35.4_C5 b       b         5       c2_c4          1     62.240000\n",
       "2  c_rank_1_29.2_C3 a      a          3       c2_c4          2     64.200000\n",
       "3  c_rank_2_32.2_C4 ab     ab         4       c2_c4          3     53.200000\n",
       "4  c_rank_3_32.3_C2 ab     ab         2       c2_c4          3     42.000000\n",
       "5  c_rank_4_33.4_C6 ab     ab         6       c2_c4          3     76.240000\n",
       "6  c_rank_6_36_C1   ab     ab         1       c2_c4          3     45.910000\n",
       "7  c_rank_5_40.3_C2 d         d       2       c5             1     56.340000\n",
       "8  c_rank_4_34.8_C5 cd       cd       5       c5             2     56.360000\n",
       "9  c_rank_3_22.2_C6 bc      bc        6       c5             3     71.510000\n",
       "10 c_rank_1_8.9_C4  a      a          4       c5             4     46.740000\n",
       "11 c_rank_2_9.9_C3  a      a          3       c5             4     56.200000\n",
       "12 c_rank_2_9.9_C1  ab     ab         1       c5             6     16.860000\n",
       "13 c_rank_3_16.2_C1 abc    abc        1       ch4_sel        1     20.910000\n",
       "14 c_rank_4_16.3_C2 abc    abc        2       ch4_sel        1     41.400000\n",
       "15 c_rank_1_13.6_C5 ab     ab         5       ch4_sel        2     41.160000\n",
       "16 c_rank_2_15.4_C6 a      a          6       ch4_sel        3     88.340000\n",
       "17 c_rank_5_21_C3   bc      bc        3       ch4_sel        4     97.000000\n",
       "18 c_rank_6_28.5_C4 c        c        4       ch4_sel        5     68.523200\n",
       "19 c_rank_6_41_C2   c        c        2       co2_conversion 1     53.740000\n",
       "20 c_rank_5_36.4_C5 bc      bc        5       co2_conversion 2     85.390000\n",
       "21 c_rank_1_23.1_C1 a      a          1       co2_conversion 3     27.530000\n",
       "22 c_rank_2_32.7_C4 ab     ab         4       co2_conversion 4     48.500000\n",
       "23 c_rank_3_34_C3   ab     ab         3       co2_conversion 4     69.600000\n",
       "24 c_rank_4_35_C6   abc    abc        6       co2_conversion 6     57.390000\n",
       "25 c_rank_1_10_C2   a      a          2       co_sel         1     27.500000\n",
       "26 c_rank_2_11.3_C5 a      a          5       co_sel         1     31.900000\n",
       "27 c_rank_3_13.5_C6 a      a          6       co_sel         1     95.200000\n",
       "28 c_rank_4_22_C4   b       b         4       co_sel         4     87.600000\n",
       "29 c_rank_5_26.6_C3 b       b         3       co_sel         4    100.000000\n",
       "30 c_rank_6_38_C1   b       b         1       co_sel         4     59.330000\n",
       "31 c_rank_1_1.2_C1  a      a          1       o_p_ratio      1      1.696318\n",
       "32 c_rank_2_1.5_C4  a      a          4       o_p_ratio      1     26.500000\n",
       "33 c_rank_3_1.9_C3  a      a          3       o_p_ratio      1     26.208000\n",
       "34 c_rank_4_2.3_C2  a      a          2       o_p_ratio      1      6.740000\n",
       "35 c_rank_5_4_C6    a      a          6       o_p_ratio      1      9.350000\n",
       "36 c_rank_6_6.2_C5  a      a          5       o_p_ratio      1     83.600000\n",
       "   ymean      cluster_tag             \n",
       "1   62.240000 c5_c2_c4_62.24          \n",
       "2   64.200000 c3_c2_c4_64.2           \n",
       "3   53.200000 c4_c2_c4_53.2           \n",
       "4   42.000000 c2_c2_c4_42             \n",
       "5   76.240000 c6_c2_c4_76.24          \n",
       "6   45.910000 c1_c2_c4_45.91          \n",
       "7   56.340000 c2_c5_56.34             \n",
       "8   56.360000 c5_c5_56.36             \n",
       "9   71.510000 c6_c5_71.51             \n",
       "10  46.740000 c4_c5_46.74             \n",
       "11  56.200000 c3_c5_56.2              \n",
       "12  16.860000 c1_c5_16.86             \n",
       "13  20.910000 c1_ch4_sel_20.91        \n",
       "14  41.400000 c2_ch4_sel_41.4         \n",
       "15  41.160000 c5_ch4_sel_41.16        \n",
       "16  88.340000 c6_ch4_sel_88.34        \n",
       "17  97.000000 c3_ch4_sel_97           \n",
       "18  68.523200 c4_ch4_sel_68.5232      \n",
       "19  53.740000 c2_co2_conversion_53.74 \n",
       "20  85.390000 c5_co2_conversion_85.39 \n",
       "21  27.530000 c1_co2_conversion_27.53 \n",
       "22  48.500000 c4_co2_conversion_48.5  \n",
       "23  69.600000 c3_co2_conversion_69.6  \n",
       "24  57.390000 c6_co2_conversion_57.39 \n",
       "25  27.500000 c2_co_sel_27.5          \n",
       "26  31.900000 c5_co_sel_31.9          \n",
       "27  95.200000 c6_co_sel_95.2          \n",
       "28  87.600000 c4_co_sel_87.6          \n",
       "29 100.000000 c3_co_sel_100           \n",
       "30  59.330000 c1_co_sel_59.33         \n",
       "31   1.696318 c1_o_p_ratio_1.696317551\n",
       "32  26.500000 c4_o_p_ratio_26.5       \n",
       "33  26.208000 c3_o_p_ratio_26.208     \n",
       "34   6.740000 c2_o_p_ratio_6.74       \n",
       "35   9.350000 c6_o_p_ratio_9.35       \n",
       "36  83.600000 c5_o_p_ratio_83.6       "
      ]
     },
     "metadata": {},
     "output_type": "display_data"
    }
   ],
   "source": [
    "(signif_letters <- do.call(rbind, DunnTest_results) |>\n",
    "                   left_join(tag_names) |>\n",
    "dplyr::arrange(variable, rank))"
   ]
  },
  {
   "cell_type": "code",
   "execution_count": 96,
   "id": "ada6959a-e690-4647-81c6-db82b4642b19",
   "metadata": {},
   "outputs": [
    {
     "name": "stderr",
     "output_type": "stream",
     "text": [
      "\u001b[1m\u001b[22mJoining with `by = join_by(cluster, variable)`\n"
     ]
    },
    {
     "data": {
      "text/html": [
       "<table class=\"dataframe\">\n",
       "<caption>A data.frame: 36 × 9</caption>\n",
       "<thead>\n",
       "\t<tr><th scope=col>Group</th><th scope=col>Letter</th><th scope=col>MonoLetter</th><th scope=col>cluster</th><th scope=col>variable</th><th scope=col>rank</th><th scope=col>ymax</th><th scope=col>ymean</th><th scope=col>cluster_tag</th></tr>\n",
       "\t<tr><th scope=col>&lt;chr&gt;</th><th scope=col>&lt;chr&gt;</th><th scope=col>&lt;chr&gt;</th><th scope=col>&lt;fct&gt;</th><th scope=col>&lt;chr&gt;</th><th scope=col>&lt;dbl&gt;</th><th scope=col>&lt;dbl&gt;</th><th scope=col>&lt;dbl&gt;</th><th scope=col>&lt;glue&gt;</th></tr>\n",
       "</thead>\n",
       "<tbody>\n",
       "\t<tr><td>c_rank_5_35.4_C5</td><td>b  </td><td> b  </td><td>5</td><td>c2_c4         </td><td>1</td><td> 62.240000</td><td> 62.240000</td><td>c5_c2_c4_62.24          </td></tr>\n",
       "\t<tr><td>c_rank_1_29.2_C3</td><td>a  </td><td>a   </td><td>3</td><td>c2_c4         </td><td>2</td><td> 64.200000</td><td> 64.200000</td><td>c3_c2_c4_64.2           </td></tr>\n",
       "\t<tr><td>c_rank_2_32.2_C4</td><td>ab </td><td>ab  </td><td>4</td><td>c2_c4         </td><td>3</td><td> 53.200000</td><td> 53.200000</td><td>c4_c2_c4_53.2           </td></tr>\n",
       "\t<tr><td>c_rank_3_32.3_C2</td><td>ab </td><td>ab  </td><td>2</td><td>c2_c4         </td><td>3</td><td> 42.000000</td><td> 42.000000</td><td>c2_c2_c4_42             </td></tr>\n",
       "\t<tr><td>c_rank_4_33.4_C6</td><td>ab </td><td>ab  </td><td>6</td><td>c2_c4         </td><td>3</td><td> 76.240000</td><td> 76.240000</td><td>c6_c2_c4_76.24          </td></tr>\n",
       "\t<tr><td>c_rank_6_36_C1  </td><td>ab </td><td>ab  </td><td>1</td><td>c2_c4         </td><td>3</td><td> 45.910000</td><td> 45.910000</td><td>c1_c2_c4_45.91          </td></tr>\n",
       "\t<tr><td>c_rank_5_40.3_C2</td><td>d  </td><td>   d</td><td>2</td><td>c5            </td><td>1</td><td> 56.340000</td><td> 56.340000</td><td>c2_c5_56.34             </td></tr>\n",
       "\t<tr><td>c_rank_4_34.8_C5</td><td>cd </td><td>  cd</td><td>5</td><td>c5            </td><td>2</td><td> 56.360000</td><td> 56.360000</td><td>c5_c5_56.36             </td></tr>\n",
       "\t<tr><td>c_rank_3_22.2_C6</td><td>bc </td><td> bc </td><td>6</td><td>c5            </td><td>3</td><td> 71.510000</td><td> 71.510000</td><td>c6_c5_71.51             </td></tr>\n",
       "\t<tr><td>c_rank_1_8.9_C4 </td><td>a  </td><td>a   </td><td>4</td><td>c5            </td><td>4</td><td> 46.740000</td><td> 46.740000</td><td>c4_c5_46.74             </td></tr>\n",
       "\t<tr><td>c_rank_2_9.9_C3 </td><td>a  </td><td>a   </td><td>3</td><td>c5            </td><td>4</td><td> 56.200000</td><td> 56.200000</td><td>c3_c5_56.2              </td></tr>\n",
       "\t<tr><td>c_rank_2_9.9_C1 </td><td>ab </td><td>ab  </td><td>1</td><td>c5            </td><td>6</td><td> 16.860000</td><td> 16.860000</td><td>c1_c5_16.86             </td></tr>\n",
       "\t<tr><td>c_rank_3_16.2_C1</td><td>abc</td><td>abc </td><td>1</td><td>ch4_sel       </td><td>1</td><td> 20.910000</td><td> 20.910000</td><td>c1_ch4_sel_20.91        </td></tr>\n",
       "\t<tr><td>c_rank_4_16.3_C2</td><td>abc</td><td>abc </td><td>2</td><td>ch4_sel       </td><td>1</td><td> 41.400000</td><td> 41.400000</td><td>c2_ch4_sel_41.4         </td></tr>\n",
       "\t<tr><td>c_rank_1_13.6_C5</td><td>ab </td><td>ab  </td><td>5</td><td>ch4_sel       </td><td>2</td><td> 41.160000</td><td> 41.160000</td><td>c5_ch4_sel_41.16        </td></tr>\n",
       "\t<tr><td>c_rank_2_15.4_C6</td><td>a  </td><td>a   </td><td>6</td><td>ch4_sel       </td><td>3</td><td> 88.340000</td><td> 88.340000</td><td>c6_ch4_sel_88.34        </td></tr>\n",
       "\t<tr><td>c_rank_5_21_C3  </td><td>bc </td><td> bc </td><td>3</td><td>ch4_sel       </td><td>4</td><td> 97.000000</td><td> 97.000000</td><td>c3_ch4_sel_97           </td></tr>\n",
       "\t<tr><td>c_rank_6_28.5_C4</td><td>c  </td><td>  c </td><td>4</td><td>ch4_sel       </td><td>5</td><td> 68.523200</td><td> 68.523200</td><td>c4_ch4_sel_68.5232      </td></tr>\n",
       "\t<tr><td>c_rank_6_41_C2  </td><td>c  </td><td>  c </td><td>2</td><td>co2_conversion</td><td>1</td><td> 53.740000</td><td> 53.740000</td><td>c2_co2_conversion_53.74 </td></tr>\n",
       "\t<tr><td>c_rank_5_36.4_C5</td><td>bc </td><td> bc </td><td>5</td><td>co2_conversion</td><td>2</td><td> 85.390000</td><td> 85.390000</td><td>c5_co2_conversion_85.39 </td></tr>\n",
       "\t<tr><td>c_rank_1_23.1_C1</td><td>a  </td><td>a   </td><td>1</td><td>co2_conversion</td><td>3</td><td> 27.530000</td><td> 27.530000</td><td>c1_co2_conversion_27.53 </td></tr>\n",
       "\t<tr><td>c_rank_2_32.7_C4</td><td>ab </td><td>ab  </td><td>4</td><td>co2_conversion</td><td>4</td><td> 48.500000</td><td> 48.500000</td><td>c4_co2_conversion_48.5  </td></tr>\n",
       "\t<tr><td>c_rank_3_34_C3  </td><td>ab </td><td>ab  </td><td>3</td><td>co2_conversion</td><td>4</td><td> 69.600000</td><td> 69.600000</td><td>c3_co2_conversion_69.6  </td></tr>\n",
       "\t<tr><td>c_rank_4_35_C6  </td><td>abc</td><td>abc </td><td>6</td><td>co2_conversion</td><td>6</td><td> 57.390000</td><td> 57.390000</td><td>c6_co2_conversion_57.39 </td></tr>\n",
       "\t<tr><td>c_rank_1_10_C2  </td><td>a  </td><td>a   </td><td>2</td><td>co_sel        </td><td>1</td><td> 27.500000</td><td> 27.500000</td><td>c2_co_sel_27.5          </td></tr>\n",
       "\t<tr><td>c_rank_2_11.3_C5</td><td>a  </td><td>a   </td><td>5</td><td>co_sel        </td><td>1</td><td> 31.900000</td><td> 31.900000</td><td>c5_co_sel_31.9          </td></tr>\n",
       "\t<tr><td>c_rank_3_13.5_C6</td><td>a  </td><td>a   </td><td>6</td><td>co_sel        </td><td>1</td><td> 95.200000</td><td> 95.200000</td><td>c6_co_sel_95.2          </td></tr>\n",
       "\t<tr><td>c_rank_4_22_C4  </td><td>b  </td><td> b  </td><td>4</td><td>co_sel        </td><td>4</td><td> 87.600000</td><td> 87.600000</td><td>c4_co_sel_87.6          </td></tr>\n",
       "\t<tr><td>c_rank_5_26.6_C3</td><td>b  </td><td> b  </td><td>3</td><td>co_sel        </td><td>4</td><td>100.000000</td><td>100.000000</td><td>c3_co_sel_100           </td></tr>\n",
       "\t<tr><td>c_rank_6_38_C1  </td><td>b  </td><td> b  </td><td>1</td><td>co_sel        </td><td>4</td><td> 59.330000</td><td> 59.330000</td><td>c1_co_sel_59.33         </td></tr>\n",
       "\t<tr><td>c_rank_1_1.2_C1 </td><td>a  </td><td>a   </td><td>1</td><td>o_p_ratio     </td><td>1</td><td>  1.696318</td><td>  1.696318</td><td>c1_o_p_ratio_1.696317551</td></tr>\n",
       "\t<tr><td>c_rank_2_1.5_C4 </td><td>a  </td><td>a   </td><td>4</td><td>o_p_ratio     </td><td>1</td><td> 26.500000</td><td> 26.500000</td><td>c4_o_p_ratio_26.5       </td></tr>\n",
       "\t<tr><td>c_rank_3_1.9_C3 </td><td>a  </td><td>a   </td><td>3</td><td>o_p_ratio     </td><td>1</td><td> 26.208000</td><td> 26.208000</td><td>c3_o_p_ratio_26.208     </td></tr>\n",
       "\t<tr><td>c_rank_4_2.3_C2 </td><td>a  </td><td>a   </td><td>2</td><td>o_p_ratio     </td><td>1</td><td>  6.740000</td><td>  6.740000</td><td>c2_o_p_ratio_6.74       </td></tr>\n",
       "\t<tr><td>c_rank_5_4_C6   </td><td>a  </td><td>a   </td><td>6</td><td>o_p_ratio     </td><td>1</td><td>  9.350000</td><td>  9.350000</td><td>c6_o_p_ratio_9.35       </td></tr>\n",
       "\t<tr><td>c_rank_6_6.2_C5 </td><td>a  </td><td>a   </td><td>5</td><td>o_p_ratio     </td><td>1</td><td> 83.600000</td><td> 83.600000</td><td>c5_o_p_ratio_83.6       </td></tr>\n",
       "</tbody>\n",
       "</table>\n"
      ],
      "text/latex": [
       "A data.frame: 36 × 9\n",
       "\\begin{tabular}{lllllllll}\n",
       " Group & Letter & MonoLetter & cluster & variable & rank & ymax & ymean & cluster\\_tag\\\\\n",
       " <chr> & <chr> & <chr> & <fct> & <chr> & <dbl> & <dbl> & <dbl> & <glue>\\\\\n",
       "\\hline\n",
       "\t c\\_rank\\_5\\_35.4\\_C5 & b   &  b   & 5 & c2\\_c4          & 1 &  62.240000 &  62.240000 & c5\\_c2\\_c4\\_62.24          \\\\\n",
       "\t c\\_rank\\_1\\_29.2\\_C3 & a   & a    & 3 & c2\\_c4          & 2 &  64.200000 &  64.200000 & c3\\_c2\\_c4\\_64.2           \\\\\n",
       "\t c\\_rank\\_2\\_32.2\\_C4 & ab  & ab   & 4 & c2\\_c4          & 3 &  53.200000 &  53.200000 & c4\\_c2\\_c4\\_53.2           \\\\\n",
       "\t c\\_rank\\_3\\_32.3\\_C2 & ab  & ab   & 2 & c2\\_c4          & 3 &  42.000000 &  42.000000 & c2\\_c2\\_c4\\_42             \\\\\n",
       "\t c\\_rank\\_4\\_33.4\\_C6 & ab  & ab   & 6 & c2\\_c4          & 3 &  76.240000 &  76.240000 & c6\\_c2\\_c4\\_76.24          \\\\\n",
       "\t c\\_rank\\_6\\_36\\_C1   & ab  & ab   & 1 & c2\\_c4          & 3 &  45.910000 &  45.910000 & c1\\_c2\\_c4\\_45.91          \\\\\n",
       "\t c\\_rank\\_5\\_40.3\\_C2 & d   &    d & 2 & c5             & 1 &  56.340000 &  56.340000 & c2\\_c5\\_56.34             \\\\\n",
       "\t c\\_rank\\_4\\_34.8\\_C5 & cd  &   cd & 5 & c5             & 2 &  56.360000 &  56.360000 & c5\\_c5\\_56.36             \\\\\n",
       "\t c\\_rank\\_3\\_22.2\\_C6 & bc  &  bc  & 6 & c5             & 3 &  71.510000 &  71.510000 & c6\\_c5\\_71.51             \\\\\n",
       "\t c\\_rank\\_1\\_8.9\\_C4  & a   & a    & 4 & c5             & 4 &  46.740000 &  46.740000 & c4\\_c5\\_46.74             \\\\\n",
       "\t c\\_rank\\_2\\_9.9\\_C3  & a   & a    & 3 & c5             & 4 &  56.200000 &  56.200000 & c3\\_c5\\_56.2              \\\\\n",
       "\t c\\_rank\\_2\\_9.9\\_C1  & ab  & ab   & 1 & c5             & 6 &  16.860000 &  16.860000 & c1\\_c5\\_16.86             \\\\\n",
       "\t c\\_rank\\_3\\_16.2\\_C1 & abc & abc  & 1 & ch4\\_sel        & 1 &  20.910000 &  20.910000 & c1\\_ch4\\_sel\\_20.91        \\\\\n",
       "\t c\\_rank\\_4\\_16.3\\_C2 & abc & abc  & 2 & ch4\\_sel        & 1 &  41.400000 &  41.400000 & c2\\_ch4\\_sel\\_41.4         \\\\\n",
       "\t c\\_rank\\_1\\_13.6\\_C5 & ab  & ab   & 5 & ch4\\_sel        & 2 &  41.160000 &  41.160000 & c5\\_ch4\\_sel\\_41.16        \\\\\n",
       "\t c\\_rank\\_2\\_15.4\\_C6 & a   & a    & 6 & ch4\\_sel        & 3 &  88.340000 &  88.340000 & c6\\_ch4\\_sel\\_88.34        \\\\\n",
       "\t c\\_rank\\_5\\_21\\_C3   & bc  &  bc  & 3 & ch4\\_sel        & 4 &  97.000000 &  97.000000 & c3\\_ch4\\_sel\\_97           \\\\\n",
       "\t c\\_rank\\_6\\_28.5\\_C4 & c   &   c  & 4 & ch4\\_sel        & 5 &  68.523200 &  68.523200 & c4\\_ch4\\_sel\\_68.5232      \\\\\n",
       "\t c\\_rank\\_6\\_41\\_C2   & c   &   c  & 2 & co2\\_conversion & 1 &  53.740000 &  53.740000 & c2\\_co2\\_conversion\\_53.74 \\\\\n",
       "\t c\\_rank\\_5\\_36.4\\_C5 & bc  &  bc  & 5 & co2\\_conversion & 2 &  85.390000 &  85.390000 & c5\\_co2\\_conversion\\_85.39 \\\\\n",
       "\t c\\_rank\\_1\\_23.1\\_C1 & a   & a    & 1 & co2\\_conversion & 3 &  27.530000 &  27.530000 & c1\\_co2\\_conversion\\_27.53 \\\\\n",
       "\t c\\_rank\\_2\\_32.7\\_C4 & ab  & ab   & 4 & co2\\_conversion & 4 &  48.500000 &  48.500000 & c4\\_co2\\_conversion\\_48.5  \\\\\n",
       "\t c\\_rank\\_3\\_34\\_C3   & ab  & ab   & 3 & co2\\_conversion & 4 &  69.600000 &  69.600000 & c3\\_co2\\_conversion\\_69.6  \\\\\n",
       "\t c\\_rank\\_4\\_35\\_C6   & abc & abc  & 6 & co2\\_conversion & 6 &  57.390000 &  57.390000 & c6\\_co2\\_conversion\\_57.39 \\\\\n",
       "\t c\\_rank\\_1\\_10\\_C2   & a   & a    & 2 & co\\_sel         & 1 &  27.500000 &  27.500000 & c2\\_co\\_sel\\_27.5          \\\\\n",
       "\t c\\_rank\\_2\\_11.3\\_C5 & a   & a    & 5 & co\\_sel         & 1 &  31.900000 &  31.900000 & c5\\_co\\_sel\\_31.9          \\\\\n",
       "\t c\\_rank\\_3\\_13.5\\_C6 & a   & a    & 6 & co\\_sel         & 1 &  95.200000 &  95.200000 & c6\\_co\\_sel\\_95.2          \\\\\n",
       "\t c\\_rank\\_4\\_22\\_C4   & b   &  b   & 4 & co\\_sel         & 4 &  87.600000 &  87.600000 & c4\\_co\\_sel\\_87.6          \\\\\n",
       "\t c\\_rank\\_5\\_26.6\\_C3 & b   &  b   & 3 & co\\_sel         & 4 & 100.000000 & 100.000000 & c3\\_co\\_sel\\_100           \\\\\n",
       "\t c\\_rank\\_6\\_38\\_C1   & b   &  b   & 1 & co\\_sel         & 4 &  59.330000 &  59.330000 & c1\\_co\\_sel\\_59.33         \\\\\n",
       "\t c\\_rank\\_1\\_1.2\\_C1  & a   & a    & 1 & o\\_p\\_ratio      & 1 &   1.696318 &   1.696318 & c1\\_o\\_p\\_ratio\\_1.696317551\\\\\n",
       "\t c\\_rank\\_2\\_1.5\\_C4  & a   & a    & 4 & o\\_p\\_ratio      & 1 &  26.500000 &  26.500000 & c4\\_o\\_p\\_ratio\\_26.5       \\\\\n",
       "\t c\\_rank\\_3\\_1.9\\_C3  & a   & a    & 3 & o\\_p\\_ratio      & 1 &  26.208000 &  26.208000 & c3\\_o\\_p\\_ratio\\_26.208     \\\\\n",
       "\t c\\_rank\\_4\\_2.3\\_C2  & a   & a    & 2 & o\\_p\\_ratio      & 1 &   6.740000 &   6.740000 & c2\\_o\\_p\\_ratio\\_6.74       \\\\\n",
       "\t c\\_rank\\_5\\_4\\_C6    & a   & a    & 6 & o\\_p\\_ratio      & 1 &   9.350000 &   9.350000 & c6\\_o\\_p\\_ratio\\_9.35       \\\\\n",
       "\t c\\_rank\\_6\\_6.2\\_C5  & a   & a    & 5 & o\\_p\\_ratio      & 1 &  83.600000 &  83.600000 & c5\\_o\\_p\\_ratio\\_83.6       \\\\\n",
       "\\end{tabular}\n"
      ],
      "text/markdown": [
       "\n",
       "A data.frame: 36 × 9\n",
       "\n",
       "| Group &lt;chr&gt; | Letter &lt;chr&gt; | MonoLetter &lt;chr&gt; | cluster &lt;fct&gt; | variable &lt;chr&gt; | rank &lt;dbl&gt; | ymax &lt;dbl&gt; | ymean &lt;dbl&gt; | cluster_tag &lt;glue&gt; |\n",
       "|---|---|---|---|---|---|---|---|---|\n",
       "| c_rank_5_35.4_C5 | b   |  b   | 5 | c2_c4          | 1 |  62.240000 |  62.240000 | c5_c2_c4_62.24           |\n",
       "| c_rank_1_29.2_C3 | a   | a    | 3 | c2_c4          | 2 |  64.200000 |  64.200000 | c3_c2_c4_64.2            |\n",
       "| c_rank_2_32.2_C4 | ab  | ab   | 4 | c2_c4          | 3 |  53.200000 |  53.200000 | c4_c2_c4_53.2            |\n",
       "| c_rank_3_32.3_C2 | ab  | ab   | 2 | c2_c4          | 3 |  42.000000 |  42.000000 | c2_c2_c4_42              |\n",
       "| c_rank_4_33.4_C6 | ab  | ab   | 6 | c2_c4          | 3 |  76.240000 |  76.240000 | c6_c2_c4_76.24           |\n",
       "| c_rank_6_36_C1   | ab  | ab   | 1 | c2_c4          | 3 |  45.910000 |  45.910000 | c1_c2_c4_45.91           |\n",
       "| c_rank_5_40.3_C2 | d   |    d | 2 | c5             | 1 |  56.340000 |  56.340000 | c2_c5_56.34              |\n",
       "| c_rank_4_34.8_C5 | cd  |   cd | 5 | c5             | 2 |  56.360000 |  56.360000 | c5_c5_56.36              |\n",
       "| c_rank_3_22.2_C6 | bc  |  bc  | 6 | c5             | 3 |  71.510000 |  71.510000 | c6_c5_71.51              |\n",
       "| c_rank_1_8.9_C4  | a   | a    | 4 | c5             | 4 |  46.740000 |  46.740000 | c4_c5_46.74              |\n",
       "| c_rank_2_9.9_C3  | a   | a    | 3 | c5             | 4 |  56.200000 |  56.200000 | c3_c5_56.2               |\n",
       "| c_rank_2_9.9_C1  | ab  | ab   | 1 | c5             | 6 |  16.860000 |  16.860000 | c1_c5_16.86              |\n",
       "| c_rank_3_16.2_C1 | abc | abc  | 1 | ch4_sel        | 1 |  20.910000 |  20.910000 | c1_ch4_sel_20.91         |\n",
       "| c_rank_4_16.3_C2 | abc | abc  | 2 | ch4_sel        | 1 |  41.400000 |  41.400000 | c2_ch4_sel_41.4          |\n",
       "| c_rank_1_13.6_C5 | ab  | ab   | 5 | ch4_sel        | 2 |  41.160000 |  41.160000 | c5_ch4_sel_41.16         |\n",
       "| c_rank_2_15.4_C6 | a   | a    | 6 | ch4_sel        | 3 |  88.340000 |  88.340000 | c6_ch4_sel_88.34         |\n",
       "| c_rank_5_21_C3   | bc  |  bc  | 3 | ch4_sel        | 4 |  97.000000 |  97.000000 | c3_ch4_sel_97            |\n",
       "| c_rank_6_28.5_C4 | c   |   c  | 4 | ch4_sel        | 5 |  68.523200 |  68.523200 | c4_ch4_sel_68.5232       |\n",
       "| c_rank_6_41_C2   | c   |   c  | 2 | co2_conversion | 1 |  53.740000 |  53.740000 | c2_co2_conversion_53.74  |\n",
       "| c_rank_5_36.4_C5 | bc  |  bc  | 5 | co2_conversion | 2 |  85.390000 |  85.390000 | c5_co2_conversion_85.39  |\n",
       "| c_rank_1_23.1_C1 | a   | a    | 1 | co2_conversion | 3 |  27.530000 |  27.530000 | c1_co2_conversion_27.53  |\n",
       "| c_rank_2_32.7_C4 | ab  | ab   | 4 | co2_conversion | 4 |  48.500000 |  48.500000 | c4_co2_conversion_48.5   |\n",
       "| c_rank_3_34_C3   | ab  | ab   | 3 | co2_conversion | 4 |  69.600000 |  69.600000 | c3_co2_conversion_69.6   |\n",
       "| c_rank_4_35_C6   | abc | abc  | 6 | co2_conversion | 6 |  57.390000 |  57.390000 | c6_co2_conversion_57.39  |\n",
       "| c_rank_1_10_C2   | a   | a    | 2 | co_sel         | 1 |  27.500000 |  27.500000 | c2_co_sel_27.5           |\n",
       "| c_rank_2_11.3_C5 | a   | a    | 5 | co_sel         | 1 |  31.900000 |  31.900000 | c5_co_sel_31.9           |\n",
       "| c_rank_3_13.5_C6 | a   | a    | 6 | co_sel         | 1 |  95.200000 |  95.200000 | c6_co_sel_95.2           |\n",
       "| c_rank_4_22_C4   | b   |  b   | 4 | co_sel         | 4 |  87.600000 |  87.600000 | c4_co_sel_87.6           |\n",
       "| c_rank_5_26.6_C3 | b   |  b   | 3 | co_sel         | 4 | 100.000000 | 100.000000 | c3_co_sel_100            |\n",
       "| c_rank_6_38_C1   | b   |  b   | 1 | co_sel         | 4 |  59.330000 |  59.330000 | c1_co_sel_59.33          |\n",
       "| c_rank_1_1.2_C1  | a   | a    | 1 | o_p_ratio      | 1 |   1.696318 |   1.696318 | c1_o_p_ratio_1.696317551 |\n",
       "| c_rank_2_1.5_C4  | a   | a    | 4 | o_p_ratio      | 1 |  26.500000 |  26.500000 | c4_o_p_ratio_26.5        |\n",
       "| c_rank_3_1.9_C3  | a   | a    | 3 | o_p_ratio      | 1 |  26.208000 |  26.208000 | c3_o_p_ratio_26.208      |\n",
       "| c_rank_4_2.3_C2  | a   | a    | 2 | o_p_ratio      | 1 |   6.740000 |   6.740000 | c2_o_p_ratio_6.74        |\n",
       "| c_rank_5_4_C6    | a   | a    | 6 | o_p_ratio      | 1 |   9.350000 |   9.350000 | c6_o_p_ratio_9.35        |\n",
       "| c_rank_6_6.2_C5  | a   | a    | 5 | o_p_ratio      | 1 |  83.600000 |  83.600000 | c5_o_p_ratio_83.6        |\n",
       "\n"
      ],
      "text/plain": [
       "   Group            Letter MonoLetter cluster variable       rank ymax      \n",
       "1  c_rank_5_35.4_C5 b       b         5       c2_c4          1     62.240000\n",
       "2  c_rank_1_29.2_C3 a      a          3       c2_c4          2     64.200000\n",
       "3  c_rank_2_32.2_C4 ab     ab         4       c2_c4          3     53.200000\n",
       "4  c_rank_3_32.3_C2 ab     ab         2       c2_c4          3     42.000000\n",
       "5  c_rank_4_33.4_C6 ab     ab         6       c2_c4          3     76.240000\n",
       "6  c_rank_6_36_C1   ab     ab         1       c2_c4          3     45.910000\n",
       "7  c_rank_5_40.3_C2 d         d       2       c5             1     56.340000\n",
       "8  c_rank_4_34.8_C5 cd       cd       5       c5             2     56.360000\n",
       "9  c_rank_3_22.2_C6 bc      bc        6       c5             3     71.510000\n",
       "10 c_rank_1_8.9_C4  a      a          4       c5             4     46.740000\n",
       "11 c_rank_2_9.9_C3  a      a          3       c5             4     56.200000\n",
       "12 c_rank_2_9.9_C1  ab     ab         1       c5             6     16.860000\n",
       "13 c_rank_3_16.2_C1 abc    abc        1       ch4_sel        1     20.910000\n",
       "14 c_rank_4_16.3_C2 abc    abc        2       ch4_sel        1     41.400000\n",
       "15 c_rank_1_13.6_C5 ab     ab         5       ch4_sel        2     41.160000\n",
       "16 c_rank_2_15.4_C6 a      a          6       ch4_sel        3     88.340000\n",
       "17 c_rank_5_21_C3   bc      bc        3       ch4_sel        4     97.000000\n",
       "18 c_rank_6_28.5_C4 c        c        4       ch4_sel        5     68.523200\n",
       "19 c_rank_6_41_C2   c        c        2       co2_conversion 1     53.740000\n",
       "20 c_rank_5_36.4_C5 bc      bc        5       co2_conversion 2     85.390000\n",
       "21 c_rank_1_23.1_C1 a      a          1       co2_conversion 3     27.530000\n",
       "22 c_rank_2_32.7_C4 ab     ab         4       co2_conversion 4     48.500000\n",
       "23 c_rank_3_34_C3   ab     ab         3       co2_conversion 4     69.600000\n",
       "24 c_rank_4_35_C6   abc    abc        6       co2_conversion 6     57.390000\n",
       "25 c_rank_1_10_C2   a      a          2       co_sel         1     27.500000\n",
       "26 c_rank_2_11.3_C5 a      a          5       co_sel         1     31.900000\n",
       "27 c_rank_3_13.5_C6 a      a          6       co_sel         1     95.200000\n",
       "28 c_rank_4_22_C4   b       b         4       co_sel         4     87.600000\n",
       "29 c_rank_5_26.6_C3 b       b         3       co_sel         4    100.000000\n",
       "30 c_rank_6_38_C1   b       b         1       co_sel         4     59.330000\n",
       "31 c_rank_1_1.2_C1  a      a          1       o_p_ratio      1      1.696318\n",
       "32 c_rank_2_1.5_C4  a      a          4       o_p_ratio      1     26.500000\n",
       "33 c_rank_3_1.9_C3  a      a          3       o_p_ratio      1     26.208000\n",
       "34 c_rank_4_2.3_C2  a      a          2       o_p_ratio      1      6.740000\n",
       "35 c_rank_5_4_C6    a      a          6       o_p_ratio      1      9.350000\n",
       "36 c_rank_6_6.2_C5  a      a          5       o_p_ratio      1     83.600000\n",
       "   ymean      cluster_tag             \n",
       "1   62.240000 c5_c2_c4_62.24          \n",
       "2   64.200000 c3_c2_c4_64.2           \n",
       "3   53.200000 c4_c2_c4_53.2           \n",
       "4   42.000000 c2_c2_c4_42             \n",
       "5   76.240000 c6_c2_c4_76.24          \n",
       "6   45.910000 c1_c2_c4_45.91          \n",
       "7   56.340000 c2_c5_56.34             \n",
       "8   56.360000 c5_c5_56.36             \n",
       "9   71.510000 c6_c5_71.51             \n",
       "10  46.740000 c4_c5_46.74             \n",
       "11  56.200000 c3_c5_56.2              \n",
       "12  16.860000 c1_c5_16.86             \n",
       "13  20.910000 c1_ch4_sel_20.91        \n",
       "14  41.400000 c2_ch4_sel_41.4         \n",
       "15  41.160000 c5_ch4_sel_41.16        \n",
       "16  88.340000 c6_ch4_sel_88.34        \n",
       "17  97.000000 c3_ch4_sel_97           \n",
       "18  68.523200 c4_ch4_sel_68.5232      \n",
       "19  53.740000 c2_co2_conversion_53.74 \n",
       "20  85.390000 c5_co2_conversion_85.39 \n",
       "21  27.530000 c1_co2_conversion_27.53 \n",
       "22  48.500000 c4_co2_conversion_48.5  \n",
       "23  69.600000 c3_co2_conversion_69.6  \n",
       "24  57.390000 c6_co2_conversion_57.39 \n",
       "25  27.500000 c2_co_sel_27.5          \n",
       "26  31.900000 c5_co_sel_31.9          \n",
       "27  95.200000 c6_co_sel_95.2          \n",
       "28  87.600000 c4_co_sel_87.6          \n",
       "29 100.000000 c3_co_sel_100           \n",
       "30  59.330000 c1_co_sel_59.33         \n",
       "31   1.696318 c1_o_p_ratio_1.696317551\n",
       "32  26.500000 c4_o_p_ratio_26.5       \n",
       "33  26.208000 c3_o_p_ratio_26.208     \n",
       "34   6.740000 c2_o_p_ratio_6.74       \n",
       "35   9.350000 c6_o_p_ratio_9.35       \n",
       "36  83.600000 c5_o_p_ratio_83.6       "
      ]
     },
     "metadata": {},
     "output_type": "display_data"
    }
   ],
   "source": [
    "(signif_letters <- do.call(rbind, DunnTest_results) |>\n",
    "                   left_join(tag_names) |>\n",
    "dplyr::arrange(variable, rank))"
   ]
  },
  {
   "cell_type": "code",
   "execution_count": 121,
   "id": "1a5613da-e901-4950-bae1-42cb1a49e114",
   "metadata": {},
   "outputs": [
    {
     "name": "stderr",
     "output_type": "stream",
     "text": [
      "Warning message:\n",
      "\"\u001b[1m\u001b[22mRemoved 63 rows containing non-finite outside the scale range (`stat_boxplot()`).\"\n",
      "Warning message:\n",
      "\"\u001b[1m\u001b[22mRemoved 63 rows containing non-finite outside the scale range (`stat_boxplot()`).\"\n"
     ]
    },
    {
     "data": {
      "image/png": "[encoded data removed]",
      "text/plain": [
       "plot without title"
      ]
     },
     "metadata": {
      "image/png": {
       "height": 420,
       "width": 420
      }
     },
     "output_type": "display_data"
    }
   ],
   "source": [
    "# Plots available in plots folder\n",
    "p1 + \n",
    "geom_text(data = signif_letters, aes(x = cluster, y = ymax + 10, label = Letter), size = 5, colour =\"#239bf0\") +\n",
    "geom_text(data = signif_letters, aes(x = cluster, y = ymax + 20, label = rank), size = 5, colour = \"#6b6e77\" ) \n",
    "\n",
    "ggsave(\"plots/var_distributions.pdf\", width = 8, height = 8)"
   ]
  },
  {
   "cell_type": "code",
   "execution_count": 99,
   "id": "59c2db30-56b7-483f-8ea4-a0619e0ca828",
   "metadata": {
    "scrolled": true
   },
   "outputs": [
    {
     "data": {
      "text/html": [
       "<table class=\"dataframe\">\n",
       "<caption>A data.frame: 6 × 9</caption>\n",
       "<thead>\n",
       "\t<tr><th></th><th scope=col>Group</th><th scope=col>Letter</th><th scope=col>MonoLetter</th><th scope=col>cluster</th><th scope=col>variable</th><th scope=col>rank</th><th scope=col>ymax</th><th scope=col>ymean</th><th scope=col>cluster_tag</th></tr>\n",
       "\t<tr><th></th><th scope=col>&lt;chr&gt;</th><th scope=col>&lt;chr&gt;</th><th scope=col>&lt;chr&gt;</th><th scope=col>&lt;fct&gt;</th><th scope=col>&lt;chr&gt;</th><th scope=col>&lt;dbl&gt;</th><th scope=col>&lt;dbl&gt;</th><th scope=col>&lt;dbl&gt;</th><th scope=col>&lt;glue&gt;</th></tr>\n",
       "</thead>\n",
       "<tbody>\n",
       "\t<tr><th scope=row>1</th><td>c_rank_5_35.4_C5</td><td>b </td><td> b</td><td>5</td><td>c2_c4</td><td>1</td><td>62.24</td><td>62.24</td><td>c5_c2_c4_62.24</td></tr>\n",
       "\t<tr><th scope=row>2</th><td>c_rank_1_29.2_C3</td><td>a </td><td>a </td><td>3</td><td>c2_c4</td><td>2</td><td>64.20</td><td>64.20</td><td>c3_c2_c4_64.2 </td></tr>\n",
       "\t<tr><th scope=row>3</th><td>c_rank_2_32.2_C4</td><td>ab</td><td>ab</td><td>4</td><td>c2_c4</td><td>3</td><td>53.20</td><td>53.20</td><td>c4_c2_c4_53.2 </td></tr>\n",
       "\t<tr><th scope=row>4</th><td>c_rank_3_32.3_C2</td><td>ab</td><td>ab</td><td>2</td><td>c2_c4</td><td>3</td><td>42.00</td><td>42.00</td><td>c2_c2_c4_42   </td></tr>\n",
       "\t<tr><th scope=row>5</th><td>c_rank_4_33.4_C6</td><td>ab</td><td>ab</td><td>6</td><td>c2_c4</td><td>3</td><td>76.24</td><td>76.24</td><td>c6_c2_c4_76.24</td></tr>\n",
       "\t<tr><th scope=row>6</th><td>c_rank_6_36_C1  </td><td>ab</td><td>ab</td><td>1</td><td>c2_c4</td><td>3</td><td>45.91</td><td>45.91</td><td>c1_c2_c4_45.91</td></tr>\n",
       "</tbody>\n",
       "</table>\n"
      ],
      "text/latex": [
       "A data.frame: 6 × 9\n",
       "\\begin{tabular}{r|lllllllll}\n",
       "  & Group & Letter & MonoLetter & cluster & variable & rank & ymax & ymean & cluster\\_tag\\\\\n",
       "  & <chr> & <chr> & <chr> & <fct> & <chr> & <dbl> & <dbl> & <dbl> & <glue>\\\\\n",
       "\\hline\n",
       "\t1 & c\\_rank\\_5\\_35.4\\_C5 & b  &  b & 5 & c2\\_c4 & 1 & 62.24 & 62.24 & c5\\_c2\\_c4\\_62.24\\\\\n",
       "\t2 & c\\_rank\\_1\\_29.2\\_C3 & a  & a  & 3 & c2\\_c4 & 2 & 64.20 & 64.20 & c3\\_c2\\_c4\\_64.2 \\\\\n",
       "\t3 & c\\_rank\\_2\\_32.2\\_C4 & ab & ab & 4 & c2\\_c4 & 3 & 53.20 & 53.20 & c4\\_c2\\_c4\\_53.2 \\\\\n",
       "\t4 & c\\_rank\\_3\\_32.3\\_C2 & ab & ab & 2 & c2\\_c4 & 3 & 42.00 & 42.00 & c2\\_c2\\_c4\\_42   \\\\\n",
       "\t5 & c\\_rank\\_4\\_33.4\\_C6 & ab & ab & 6 & c2\\_c4 & 3 & 76.24 & 76.24 & c6\\_c2\\_c4\\_76.24\\\\\n",
       "\t6 & c\\_rank\\_6\\_36\\_C1   & ab & ab & 1 & c2\\_c4 & 3 & 45.91 & 45.91 & c1\\_c2\\_c4\\_45.91\\\\\n",
       "\\end{tabular}\n"
      ],
      "text/markdown": [
       "\n",
       "A data.frame: 6 × 9\n",
       "\n",
       "| <!--/--> | Group &lt;chr&gt; | Letter &lt;chr&gt; | MonoLetter &lt;chr&gt; | cluster &lt;fct&gt; | variable &lt;chr&gt; | rank &lt;dbl&gt; | ymax &lt;dbl&gt; | ymean &lt;dbl&gt; | cluster_tag &lt;glue&gt; |\n",
       "|---|---|---|---|---|---|---|---|---|---|\n",
       "| 1 | c_rank_5_35.4_C5 | b  |  b | 5 | c2_c4 | 1 | 62.24 | 62.24 | c5_c2_c4_62.24 |\n",
       "| 2 | c_rank_1_29.2_C3 | a  | a  | 3 | c2_c4 | 2 | 64.20 | 64.20 | c3_c2_c4_64.2  |\n",
       "| 3 | c_rank_2_32.2_C4 | ab | ab | 4 | c2_c4 | 3 | 53.20 | 53.20 | c4_c2_c4_53.2  |\n",
       "| 4 | c_rank_3_32.3_C2 | ab | ab | 2 | c2_c4 | 3 | 42.00 | 42.00 | c2_c2_c4_42    |\n",
       "| 5 | c_rank_4_33.4_C6 | ab | ab | 6 | c2_c4 | 3 | 76.24 | 76.24 | c6_c2_c4_76.24 |\n",
       "| 6 | c_rank_6_36_C1   | ab | ab | 1 | c2_c4 | 3 | 45.91 | 45.91 | c1_c2_c4_45.91 |\n",
       "\n"
      ],
      "text/plain": [
       "  Group            Letter MonoLetter cluster variable rank ymax  ymean\n",
       "1 c_rank_5_35.4_C5 b       b         5       c2_c4    1    62.24 62.24\n",
       "2 c_rank_1_29.2_C3 a      a          3       c2_c4    2    64.20 64.20\n",
       "3 c_rank_2_32.2_C4 ab     ab         4       c2_c4    3    53.20 53.20\n",
       "4 c_rank_3_32.3_C2 ab     ab         2       c2_c4    3    42.00 42.00\n",
       "5 c_rank_4_33.4_C6 ab     ab         6       c2_c4    3    76.24 76.24\n",
       "6 c_rank_6_36_C1   ab     ab         1       c2_c4    3    45.91 45.91\n",
       "  cluster_tag   \n",
       "1 c5_c2_c4_62.24\n",
       "2 c3_c2_c4_64.2 \n",
       "3 c4_c2_c4_53.2 \n",
       "4 c2_c2_c4_42   \n",
       "5 c6_c2_c4_76.24\n",
       "6 c1_c2_c4_45.91"
      ]
     },
     "metadata": {},
     "output_type": "display_data"
    }
   ],
   "source": [
    "head(signif_letters)"
   ]
  },
  {
   "cell_type": "code",
   "execution_count": 100,
   "id": "12bfdb3e-0051-4f1c-9237-d8c1bae896e5",
   "metadata": {},
   "outputs": [
    {
     "data": {
      "text/html": [
       "<table class=\"dataframe\">\n",
       "<caption>A tibble: 6 × 7</caption>\n",
       "<thead>\n",
       "\t<tr><th scope=col>cluster</th><th scope=col>c2_c4</th><th scope=col>c5</th><th scope=col>ch4_sel</th><th scope=col>co2_conversion</th><th scope=col>co_sel</th><th scope=col>o_p_ratio</th></tr>\n",
       "\t<tr><th scope=col>&lt;fct&gt;</th><th scope=col>&lt;dbl&gt;</th><th scope=col>&lt;dbl&gt;</th><th scope=col>&lt;dbl&gt;</th><th scope=col>&lt;dbl&gt;</th><th scope=col>&lt;dbl&gt;</th><th scope=col>&lt;dbl&gt;</th></tr>\n",
       "</thead>\n",
       "<tbody>\n",
       "\t<tr><td>1</td><td>3</td><td>6</td><td>1</td><td>3</td><td>4</td><td>1</td></tr>\n",
       "\t<tr><td>2</td><td>3</td><td>1</td><td>1</td><td>1</td><td>1</td><td>1</td></tr>\n",
       "\t<tr><td>3</td><td>2</td><td>4</td><td>4</td><td>4</td><td>4</td><td>1</td></tr>\n",
       "\t<tr><td>4</td><td>3</td><td>4</td><td>5</td><td>4</td><td>4</td><td>1</td></tr>\n",
       "\t<tr><td>5</td><td>1</td><td>2</td><td>2</td><td>2</td><td>1</td><td>1</td></tr>\n",
       "\t<tr><td>6</td><td>3</td><td>3</td><td>3</td><td>6</td><td>1</td><td>1</td></tr>\n",
       "</tbody>\n",
       "</table>\n"
      ],
      "text/latex": [
       "A tibble: 6 × 7\n",
       "\\begin{tabular}{lllllll}\n",
       " cluster & c2\\_c4 & c5 & ch4\\_sel & co2\\_conversion & co\\_sel & o\\_p\\_ratio\\\\\n",
       " <fct> & <dbl> & <dbl> & <dbl> & <dbl> & <dbl> & <dbl>\\\\\n",
       "\\hline\n",
       "\t 1 & 3 & 6 & 1 & 3 & 4 & 1\\\\\n",
       "\t 2 & 3 & 1 & 1 & 1 & 1 & 1\\\\\n",
       "\t 3 & 2 & 4 & 4 & 4 & 4 & 1\\\\\n",
       "\t 4 & 3 & 4 & 5 & 4 & 4 & 1\\\\\n",
       "\t 5 & 1 & 2 & 2 & 2 & 1 & 1\\\\\n",
       "\t 6 & 3 & 3 & 3 & 6 & 1 & 1\\\\\n",
       "\\end{tabular}\n"
      ],
      "text/markdown": [
       "\n",
       "A tibble: 6 × 7\n",
       "\n",
       "| cluster &lt;fct&gt; | c2_c4 &lt;dbl&gt; | c5 &lt;dbl&gt; | ch4_sel &lt;dbl&gt; | co2_conversion &lt;dbl&gt; | co_sel &lt;dbl&gt; | o_p_ratio &lt;dbl&gt; |\n",
       "|---|---|---|---|---|---|---|\n",
       "| 1 | 3 | 6 | 1 | 3 | 4 | 1 |\n",
       "| 2 | 3 | 1 | 1 | 1 | 1 | 1 |\n",
       "| 3 | 2 | 4 | 4 | 4 | 4 | 1 |\n",
       "| 4 | 3 | 4 | 5 | 4 | 4 | 1 |\n",
       "| 5 | 1 | 2 | 2 | 2 | 1 | 1 |\n",
       "| 6 | 3 | 3 | 3 | 6 | 1 | 1 |\n",
       "\n"
      ],
      "text/plain": [
       "  cluster c2_c4 c5 ch4_sel co2_conversion co_sel o_p_ratio\n",
       "1 1       3     6  1       3              4      1        \n",
       "2 2       3     1  1       1              1      1        \n",
       "3 3       2     4  4       4              4      1        \n",
       "4 4       3     4  5       4              4      1        \n",
       "5 5       1     2  2       2              1      1        \n",
       "6 6       3     3  3       6              1      1        "
      ]
     },
     "metadata": {},
     "output_type": "display_data"
    }
   ],
   "source": [
    "(Cluster_rankings <- signif_letters |>\n",
    "                    dplyr::select(variable, cluster, rank) |>\n",
    "                    tidyr::pivot_wider(names_from = variable, values_from = rank) |>\n",
    "                    dplyr::arrange(cluster))"
   ]
  },
  {
   "cell_type": "code",
   "execution_count": 101,
   "id": "7bbadfd4-4cb3-4333-a581-9b5552f96c5d",
   "metadata": {},
   "outputs": [
    {
     "data": {
      "text/html": [
       "<table class=\"dataframe\">\n",
       "<caption>A tibble: 36 × 3</caption>\n",
       "<thead>\n",
       "\t<tr><th scope=col>cluster</th><th scope=col>response_variable</th><th scope=col>ranking</th></tr>\n",
       "\t<tr><th scope=col>&lt;fct&gt;</th><th scope=col>&lt;chr&gt;</th><th scope=col>&lt;dbl&gt;</th></tr>\n",
       "</thead>\n",
       "<tbody>\n",
       "\t<tr><td>1</td><td>c2_c4         </td><td>3</td></tr>\n",
       "\t<tr><td>2</td><td>c2_c4         </td><td>3</td></tr>\n",
       "\t<tr><td>3</td><td>c2_c4         </td><td>2</td></tr>\n",
       "\t<tr><td>4</td><td>c2_c4         </td><td>3</td></tr>\n",
       "\t<tr><td>5</td><td>c2_c4         </td><td>1</td></tr>\n",
       "\t<tr><td>6</td><td>c2_c4         </td><td>3</td></tr>\n",
       "\t<tr><td>1</td><td>c5            </td><td>6</td></tr>\n",
       "\t<tr><td>2</td><td>c5            </td><td>1</td></tr>\n",
       "\t<tr><td>3</td><td>c5            </td><td>4</td></tr>\n",
       "\t<tr><td>4</td><td>c5            </td><td>4</td></tr>\n",
       "\t<tr><td>5</td><td>c5            </td><td>2</td></tr>\n",
       "\t<tr><td>6</td><td>c5            </td><td>3</td></tr>\n",
       "\t<tr><td>1</td><td>ch4_sel       </td><td>1</td></tr>\n",
       "\t<tr><td>2</td><td>ch4_sel       </td><td>1</td></tr>\n",
       "\t<tr><td>3</td><td>ch4_sel       </td><td>4</td></tr>\n",
       "\t<tr><td>4</td><td>ch4_sel       </td><td>5</td></tr>\n",
       "\t<tr><td>5</td><td>ch4_sel       </td><td>2</td></tr>\n",
       "\t<tr><td>6</td><td>ch4_sel       </td><td>3</td></tr>\n",
       "\t<tr><td>1</td><td>co2_conversion</td><td>3</td></tr>\n",
       "\t<tr><td>2</td><td>co2_conversion</td><td>1</td></tr>\n",
       "\t<tr><td>3</td><td>co2_conversion</td><td>4</td></tr>\n",
       "\t<tr><td>4</td><td>co2_conversion</td><td>4</td></tr>\n",
       "\t<tr><td>5</td><td>co2_conversion</td><td>2</td></tr>\n",
       "\t<tr><td>6</td><td>co2_conversion</td><td>6</td></tr>\n",
       "\t<tr><td>1</td><td>co_sel        </td><td>4</td></tr>\n",
       "\t<tr><td>2</td><td>co_sel        </td><td>1</td></tr>\n",
       "\t<tr><td>3</td><td>co_sel        </td><td>4</td></tr>\n",
       "\t<tr><td>4</td><td>co_sel        </td><td>4</td></tr>\n",
       "\t<tr><td>5</td><td>co_sel        </td><td>1</td></tr>\n",
       "\t<tr><td>6</td><td>co_sel        </td><td>1</td></tr>\n",
       "\t<tr><td>1</td><td>o_p_ratio     </td><td>1</td></tr>\n",
       "\t<tr><td>2</td><td>o_p_ratio     </td><td>1</td></tr>\n",
       "\t<tr><td>3</td><td>o_p_ratio     </td><td>1</td></tr>\n",
       "\t<tr><td>4</td><td>o_p_ratio     </td><td>1</td></tr>\n",
       "\t<tr><td>5</td><td>o_p_ratio     </td><td>1</td></tr>\n",
       "\t<tr><td>6</td><td>o_p_ratio     </td><td>1</td></tr>\n",
       "</tbody>\n",
       "</table>\n"
      ],
      "text/latex": [
       "A tibble: 36 × 3\n",
       "\\begin{tabular}{lll}\n",
       " cluster & response\\_variable & ranking\\\\\n",
       " <fct> & <chr> & <dbl>\\\\\n",
       "\\hline\n",
       "\t 1 & c2\\_c4          & 3\\\\\n",
       "\t 2 & c2\\_c4          & 3\\\\\n",
       "\t 3 & c2\\_c4          & 2\\\\\n",
       "\t 4 & c2\\_c4          & 3\\\\\n",
       "\t 5 & c2\\_c4          & 1\\\\\n",
       "\t 6 & c2\\_c4          & 3\\\\\n",
       "\t 1 & c5             & 6\\\\\n",
       "\t 2 & c5             & 1\\\\\n",
       "\t 3 & c5             & 4\\\\\n",
       "\t 4 & c5             & 4\\\\\n",
       "\t 5 & c5             & 2\\\\\n",
       "\t 6 & c5             & 3\\\\\n",
       "\t 1 & ch4\\_sel        & 1\\\\\n",
       "\t 2 & ch4\\_sel        & 1\\\\\n",
       "\t 3 & ch4\\_sel        & 4\\\\\n",
       "\t 4 & ch4\\_sel        & 5\\\\\n",
       "\t 5 & ch4\\_sel        & 2\\\\\n",
       "\t 6 & ch4\\_sel        & 3\\\\\n",
       "\t 1 & co2\\_conversion & 3\\\\\n",
       "\t 2 & co2\\_conversion & 1\\\\\n",
       "\t 3 & co2\\_conversion & 4\\\\\n",
       "\t 4 & co2\\_conversion & 4\\\\\n",
       "\t 5 & co2\\_conversion & 2\\\\\n",
       "\t 6 & co2\\_conversion & 6\\\\\n",
       "\t 1 & co\\_sel         & 4\\\\\n",
       "\t 2 & co\\_sel         & 1\\\\\n",
       "\t 3 & co\\_sel         & 4\\\\\n",
       "\t 4 & co\\_sel         & 4\\\\\n",
       "\t 5 & co\\_sel         & 1\\\\\n",
       "\t 6 & co\\_sel         & 1\\\\\n",
       "\t 1 & o\\_p\\_ratio      & 1\\\\\n",
       "\t 2 & o\\_p\\_ratio      & 1\\\\\n",
       "\t 3 & o\\_p\\_ratio      & 1\\\\\n",
       "\t 4 & o\\_p\\_ratio      & 1\\\\\n",
       "\t 5 & o\\_p\\_ratio      & 1\\\\\n",
       "\t 6 & o\\_p\\_ratio      & 1\\\\\n",
       "\\end{tabular}\n"
      ],
      "text/markdown": [
       "\n",
       "A tibble: 36 × 3\n",
       "\n",
       "| cluster &lt;fct&gt; | response_variable &lt;chr&gt; | ranking &lt;dbl&gt; |\n",
       "|---|---|---|\n",
       "| 1 | c2_c4          | 3 |\n",
       "| 2 | c2_c4          | 3 |\n",
       "| 3 | c2_c4          | 2 |\n",
       "| 4 | c2_c4          | 3 |\n",
       "| 5 | c2_c4          | 1 |\n",
       "| 6 | c2_c4          | 3 |\n",
       "| 1 | c5             | 6 |\n",
       "| 2 | c5             | 1 |\n",
       "| 3 | c5             | 4 |\n",
       "| 4 | c5             | 4 |\n",
       "| 5 | c5             | 2 |\n",
       "| 6 | c5             | 3 |\n",
       "| 1 | ch4_sel        | 1 |\n",
       "| 2 | ch4_sel        | 1 |\n",
       "| 3 | ch4_sel        | 4 |\n",
       "| 4 | ch4_sel        | 5 |\n",
       "| 5 | ch4_sel        | 2 |\n",
       "| 6 | ch4_sel        | 3 |\n",
       "| 1 | co2_conversion | 3 |\n",
       "| 2 | co2_conversion | 1 |\n",
       "| 3 | co2_conversion | 4 |\n",
       "| 4 | co2_conversion | 4 |\n",
       "| 5 | co2_conversion | 2 |\n",
       "| 6 | co2_conversion | 6 |\n",
       "| 1 | co_sel         | 4 |\n",
       "| 2 | co_sel         | 1 |\n",
       "| 3 | co_sel         | 4 |\n",
       "| 4 | co_sel         | 4 |\n",
       "| 5 | co_sel         | 1 |\n",
       "| 6 | co_sel         | 1 |\n",
       "| 1 | o_p_ratio      | 1 |\n",
       "| 2 | o_p_ratio      | 1 |\n",
       "| 3 | o_p_ratio      | 1 |\n",
       "| 4 | o_p_ratio      | 1 |\n",
       "| 5 | o_p_ratio      | 1 |\n",
       "| 6 | o_p_ratio      | 1 |\n",
       "\n"
      ],
      "text/plain": [
       "   cluster response_variable ranking\n",
       "1  1       c2_c4             3      \n",
       "2  2       c2_c4             3      \n",
       "3  3       c2_c4             2      \n",
       "4  4       c2_c4             3      \n",
       "5  5       c2_c4             1      \n",
       "6  6       c2_c4             3      \n",
       "7  1       c5                6      \n",
       "8  2       c5                1      \n",
       "9  3       c5                4      \n",
       "10 4       c5                4      \n",
       "11 5       c5                2      \n",
       "12 6       c5                3      \n",
       "13 1       ch4_sel           1      \n",
       "14 2       ch4_sel           1      \n",
       "15 3       ch4_sel           4      \n",
       "16 4       ch4_sel           5      \n",
       "17 5       ch4_sel           2      \n",
       "18 6       ch4_sel           3      \n",
       "19 1       co2_conversion    3      \n",
       "20 2       co2_conversion    1      \n",
       "21 3       co2_conversion    4      \n",
       "22 4       co2_conversion    4      \n",
       "23 5       co2_conversion    2      \n",
       "24 6       co2_conversion    6      \n",
       "25 1       co_sel            4      \n",
       "26 2       co_sel            1      \n",
       "27 3       co_sel            4      \n",
       "28 4       co_sel            4      \n",
       "29 5       co_sel            1      \n",
       "30 6       co_sel            1      \n",
       "31 1       o_p_ratio         1      \n",
       "32 2       o_p_ratio         1      \n",
       "33 3       o_p_ratio         1      \n",
       "34 4       o_p_ratio         1      \n",
       "35 5       o_p_ratio         1      \n",
       "36 6       o_p_ratio         1      "
      ]
     },
     "metadata": {},
     "output_type": "display_data"
    }
   ],
   "source": [
    "(cluster_long_df <-  Cluster_rankings |>\n",
    "                 gather(key = \"response_variable\", \n",
    "                 value = \"ranking\",  \n",
    "                 c2_c4,\tc5,\tch4_sel,co2_conversion,\tco_sel, o_p_ratio))"
   ]
  },
  {
   "cell_type": "code",
   "execution_count": null,
   "id": "2b58b9c1-c13c-45c9-a5ec-19702287c998",
   "metadata": {},
   "outputs": [],
   "source": []
  },
  {
   "cell_type": "code",
   "execution_count": 186,
   "id": "1ed9cbf4-c26a-40d5-943f-60188ff133b3",
   "metadata": {},
   "outputs": [],
   "source": [
    "variable_labels <- c(co2_conversion = \"CO[2]~conversion\",\n",
    "                     co_sel = \"CO~selectivity\",\n",
    "                     ch4_sel = \"CH[4]~selectivity\",\n",
    "                     c2_c4 = \"C[2]-C[4]\",\n",
    "                     c5 = \"phantom() >=C[5]\",\n",
    "                     o_p_ratio = \"O/P~ratio\")"
   ]
  },
  {
   "cell_type": "code",
   "execution_count": 189,
   "id": "06e2c7ee-4f65-4b6b-ad70-98fe9dac2dda",
   "metadata": {},
   "outputs": [
    {
     "data": {
      "image/png": "[encoded data removed]",
      "text/plain": [
       "plot without title"
      ]
     },
     "metadata": {
      "image/png": {
       "height": 420,
       "width": 420
      }
     },
     "output_type": "display_data"
    }
   ],
   "source": [
    "ggplot(cluster_long_df) + \n",
    "geom_boxplot(aes(x = cluster, y = ranking), outlier.shape = NA) +\n",
    " geom_point(aes(x = cluster, \n",
    "                y = ranking, \n",
    "                colour =  response_variable), size = 4, alpha = 0.5, position = position_jitter(width = 0.35, height = 0.001)) + \n",
    "            theme_pubr() +\n",
    "            scale_y_continuous(limits = c(0, 7), breaks = seq(0,6,1)) +\n",
    "            labs(x = \"Cluster\", y = \"Ranking\", color = \"Response variable\") +\n",
    "            scale_color_bmj() +\n",
    "            theme(legend.position = \"right\",\n",
    "                  axis.title.x = element_text(size = 20), \n",
    "                  axis.title.y = element_text(size = 20), \n",
    "                  axis.text.x = element_text(size = 20),\n",
    "                  axis.text.y = element_text(size = 20))"
   ]
  },
  {
   "cell_type": "code",
   "execution_count": 103,
   "id": "b80c317c-13a6-4dee-9657-4be835c24ac9",
   "metadata": {},
   "outputs": [
    {
     "data": {
      "text/html": [
       "<table class=\"dataframe\">\n",
       "<caption>A rstatix_test: 1 × 6</caption>\n",
       "<thead>\n",
       "\t<tr><th></th><th scope=col>.y.</th><th scope=col>n</th><th scope=col>statistic</th><th scope=col>df</th><th scope=col>p</th><th scope=col>method</th></tr>\n",
       "\t<tr><th></th><th scope=col>&lt;chr&gt;</th><th scope=col>&lt;int&gt;</th><th scope=col>&lt;dbl&gt;</th><th scope=col>&lt;dbl&gt;</th><th scope=col>&lt;dbl&gt;</th><th scope=col>&lt;chr&gt;</th></tr>\n",
       "</thead>\n",
       "<tbody>\n",
       "\t<tr><th scope=row>Friedman chi-squared</th><td>ranking</td><td>6</td><td>11.70807</td><td>5</td><td>0.03901434</td><td>Friedman test</td></tr>\n",
       "</tbody>\n",
       "</table>\n"
      ],
      "text/latex": [
       "A rstatix\\_test: 1 × 6\n",
       "\\begin{tabular}{r|llllll}\n",
       "  & .y. & n & statistic & df & p & method\\\\\n",
       "  & <chr> & <int> & <dbl> & <dbl> & <dbl> & <chr>\\\\\n",
       "\\hline\n",
       "\tFriedman chi-squared & ranking & 6 & 11.70807 & 5 & 0.03901434 & Friedman test\\\\\n",
       "\\end{tabular}\n"
      ],
      "text/markdown": [
       "\n",
       "A rstatix_test: 1 × 6\n",
       "\n",
       "| <!--/--> | .y. &lt;chr&gt; | n &lt;int&gt; | statistic &lt;dbl&gt; | df &lt;dbl&gt; | p &lt;dbl&gt; | method &lt;chr&gt; |\n",
       "|---|---|---|---|---|---|---|\n",
       "| Friedman chi-squared | ranking | 6 | 11.70807 | 5 | 0.03901434 | Friedman test |\n",
       "\n"
      ],
      "text/plain": [
       "                     .y.     n statistic df p          method       \n",
       "Friedman chi-squared ranking 6 11.70807  5  0.03901434 Friedman test"
      ]
     },
     "metadata": {},
     "output_type": "display_data"
    }
   ],
   "source": [
    "(res_friedman <- cluster_long_df |> \n",
    "                 friedman_test(ranking ~  response_variable|cluster))"
   ]
  },
  {
   "cell_type": "code",
   "execution_count": 104,
   "id": "f7ec7e29-21e7-4dd7-ad7b-c132289c617f",
   "metadata": {},
   "outputs": [
    {
     "data": {
      "text/html": [
       "<table class=\"dataframe\">\n",
       "<caption>A data.frame: 6 × 7</caption>\n",
       "<thead>\n",
       "\t<tr><th></th><th scope=col>c2_c4</th><th scope=col>c5</th><th scope=col>ch4_sel</th><th scope=col>co2_conversion</th><th scope=col>co_sel</th><th scope=col>o_p_ratio</th><th scope=col>total_rank</th></tr>\n",
       "\t<tr><th></th><th scope=col>&lt;dbl&gt;</th><th scope=col>&lt;dbl&gt;</th><th scope=col>&lt;dbl&gt;</th><th scope=col>&lt;dbl&gt;</th><th scope=col>&lt;dbl&gt;</th><th scope=col>&lt;dbl&gt;</th><th scope=col>&lt;dbl&gt;</th></tr>\n",
       "</thead>\n",
       "<tbody>\n",
       "\t<tr><th scope=row>cluster_2</th><td>3</td><td>1</td><td>1</td><td>1</td><td>1</td><td>1</td><td> 8</td></tr>\n",
       "\t<tr><th scope=row>cluster_5</th><td>1</td><td>2</td><td>2</td><td>2</td><td>1</td><td>1</td><td> 9</td></tr>\n",
       "\t<tr><th scope=row>cluster_6</th><td>3</td><td>3</td><td>3</td><td>6</td><td>1</td><td>1</td><td>17</td></tr>\n",
       "\t<tr><th scope=row>cluster_1</th><td>3</td><td>6</td><td>1</td><td>3</td><td>4</td><td>1</td><td>18</td></tr>\n",
       "\t<tr><th scope=row>cluster_3</th><td>2</td><td>4</td><td>4</td><td>4</td><td>4</td><td>1</td><td>19</td></tr>\n",
       "\t<tr><th scope=row>cluster_4</th><td>3</td><td>4</td><td>5</td><td>4</td><td>4</td><td>1</td><td>21</td></tr>\n",
       "</tbody>\n",
       "</table>\n"
      ],
      "text/latex": [
       "A data.frame: 6 × 7\n",
       "\\begin{tabular}{r|lllllll}\n",
       "  & c2\\_c4 & c5 & ch4\\_sel & co2\\_conversion & co\\_sel & o\\_p\\_ratio & total\\_rank\\\\\n",
       "  & <dbl> & <dbl> & <dbl> & <dbl> & <dbl> & <dbl> & <dbl>\\\\\n",
       "\\hline\n",
       "\tcluster\\_2 & 3 & 1 & 1 & 1 & 1 & 1 &  8\\\\\n",
       "\tcluster\\_5 & 1 & 2 & 2 & 2 & 1 & 1 &  9\\\\\n",
       "\tcluster\\_6 & 3 & 3 & 3 & 6 & 1 & 1 & 17\\\\\n",
       "\tcluster\\_1 & 3 & 6 & 1 & 3 & 4 & 1 & 18\\\\\n",
       "\tcluster\\_3 & 2 & 4 & 4 & 4 & 4 & 1 & 19\\\\\n",
       "\tcluster\\_4 & 3 & 4 & 5 & 4 & 4 & 1 & 21\\\\\n",
       "\\end{tabular}\n"
      ],
      "text/markdown": [
       "\n",
       "A data.frame: 6 × 7\n",
       "\n",
       "| <!--/--> | c2_c4 &lt;dbl&gt; | c5 &lt;dbl&gt; | ch4_sel &lt;dbl&gt; | co2_conversion &lt;dbl&gt; | co_sel &lt;dbl&gt; | o_p_ratio &lt;dbl&gt; | total_rank &lt;dbl&gt; |\n",
       "|---|---|---|---|---|---|---|---|\n",
       "| cluster_2 | 3 | 1 | 1 | 1 | 1 | 1 |  8 |\n",
       "| cluster_5 | 1 | 2 | 2 | 2 | 1 | 1 |  9 |\n",
       "| cluster_6 | 3 | 3 | 3 | 6 | 1 | 1 | 17 |\n",
       "| cluster_1 | 3 | 6 | 1 | 3 | 4 | 1 | 18 |\n",
       "| cluster_3 | 2 | 4 | 4 | 4 | 4 | 1 | 19 |\n",
       "| cluster_4 | 3 | 4 | 5 | 4 | 4 | 1 | 21 |\n",
       "\n"
      ],
      "text/plain": [
       "          c2_c4 c5 ch4_sel co2_conversion co_sel o_p_ratio total_rank\n",
       "cluster_2 3     1  1       1              1      1          8        \n",
       "cluster_5 1     2  2       2              1      1          9        \n",
       "cluster_6 3     3  3       6              1      1         17        \n",
       "cluster_1 3     6  1       3              4      1         18        \n",
       "cluster_3 2     4  4       4              4      1         19        \n",
       "cluster_4 3     4  5       4              4      1         21        "
      ]
     },
     "metadata": {},
     "output_type": "display_data"
    }
   ],
   "source": [
    "Cluster_rankings |>\n",
    "dplyr::mutate(cluster = glue::glue(\"cluster_{cluster}\")) |>\n",
    "tibble::column_to_rownames(var = \"cluster\") |>\n",
    "dplyr::mutate(total_rank = rowSums(across(where(is.numeric)))) |>\n",
    "dplyr::arrange(total_rank)"
   ]
  },
  {
   "cell_type": "code",
   "execution_count": null,
   "id": "0d1486e3-a62e-412a-b0cb-5db8a4217b9c",
   "metadata": {},
   "outputs": [],
   "source": []
  }
 ],
 "metadata": {
  "kernelspec": {
   "display_name": "R",
   "language": "R",
   "name": "ir"
  },
  "language_info": {
   "codemirror_mode": "r",
   "file_extension": ".r",
   "mimetype": "text/x-r-source",
   "name": "R",
   "pygments_lexer": "r",
   "version": "4.3.3"
  }
 },
 "nbformat": 4,
 "nbformat_minor": 5
}
