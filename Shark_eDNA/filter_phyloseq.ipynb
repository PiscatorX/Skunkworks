{
 "cells": [
  {
   "cell_type": "code",
   "execution_count": 1,
   "id": "11dad3e5-7d87-464e-a272-e0d150c76894",
   "metadata": {
    "scrolled": true
   },
   "outputs": [
    {
     "name": "stderr",
     "output_type": "stream",
     "text": [
      "── \u001b[1mAttaching core tidyverse packages\u001b[22m ─────────────────────────────────────────────────────────────────────────────────────────────────────────────────────────────────────────────────────────── tidyverse 2.0.0 ──\n",
      "\u001b[32m✔\u001b[39m \u001b[34mdplyr    \u001b[39m 1.1.4     \u001b[32m✔\u001b[39m \u001b[34mreadr    \u001b[39m 2.1.5\n",
      "\u001b[32m✔\u001b[39m \u001b[34mforcats  \u001b[39m 1.0.0     \u001b[32m✔\u001b[39m \u001b[34mstringr  \u001b[39m 1.5.1\n",
      "\u001b[32m✔\u001b[39m \u001b[34mggplot2  \u001b[39m 3.5.1     \u001b[32m✔\u001b[39m \u001b[34mtibble   \u001b[39m 3.2.1\n",
      "\u001b[32m✔\u001b[39m \u001b[34mlubridate\u001b[39m 1.9.3     \u001b[32m✔\u001b[39m \u001b[34mtidyr    \u001b[39m 1.3.1\n",
      "\u001b[32m✔\u001b[39m \u001b[34mpurrr    \u001b[39m 1.0.2     \n",
      "── \u001b[1mConflicts\u001b[22m ───────────────────────────────────────────────────────────────────────────────────────────────────────────────────────────────────────────────────────────────────────────── tidyverse_conflicts() ──\n",
      "\u001b[31m✖\u001b[39m \u001b[34mdplyr\u001b[39m::\u001b[32mfilter()\u001b[39m masks \u001b[34mstats\u001b[39m::filter()\n",
      "\u001b[31m✖\u001b[39m \u001b[34mdplyr\u001b[39m::\u001b[32mlag()\u001b[39m    masks \u001b[34mstats\u001b[39m::lag()\n",
      "\u001b[36mℹ\u001b[39m Use the conflicted package (\u001b[3m\u001b[34m<http://conflicted.r-lib.org/>\u001b[39m\u001b[23m) to force all conflicts to become errors\n",
      "Loading required package: phyloseq\n",
      "\n",
      "\n",
      "microbiome R package (microbiome.github.com)\n",
      "    \n",
      "\n",
      "\n",
      " Copyright (C) 2011-2022 Leo Lahti, \n",
      "    Sudarshan Shetty et al. <microbiome.github.io>\n",
      "\n",
      "\n",
      "\n",
      "Attaching package: 'microbiome'\n",
      "\n",
      "\n",
      "The following object is masked from 'package:ggplot2':\n",
      "\n",
      "    alpha\n",
      "\n",
      "\n",
      "The following object is masked from 'package:base':\n",
      "\n",
      "    transform\n",
      "\n",
      "\n"
     ]
    }
   ],
   "source": [
    "library(tidyverse)\n",
    "library(microbiome)\n",
    "library(phyloseq)"
   ]
  },
  {
   "cell_type": "code",
   "execution_count": 2,
   "id": "4ed3bfbf-0c85-40e2-a8bc-5cb0322e318d",
   "metadata": {},
   "outputs": [],
   "source": [
    "phyloseq_12S <- readr::read_rds(\"phyloseq_12S.rds\")"
   ]
  },
  {
   "cell_type": "code",
   "execution_count": 3,
   "id": "3b999f53-db0a-44e1-806b-2e36f97f1f92",
   "metadata": {},
   "outputs": [
    {
     "data": {
      "text/html": [
       "<table class=\"dataframe\">\n",
       "<caption>A data.frame: 30 × 2</caption>\n",
       "<thead>\n",
       "\t<tr><th scope=col>sample_names</th><th scope=col>total_reads</th></tr>\n",
       "\t<tr><th scope=col>&lt;chr&gt;</th><th scope=col>&lt;dbl&gt;</th></tr>\n",
       "</thead>\n",
       "<tbody>\n",
       "\t<tr><td>eDNA_0046_12S_S013</td><td>     0</td></tr>\n",
       "\t<tr><td>eDNA_0046_12S_S016</td><td>     0</td></tr>\n",
       "\t<tr><td>eDNA_0046_12S_S036</td><td>     0</td></tr>\n",
       "\t<tr><td>eDNA_0046_12S_S037</td><td>     0</td></tr>\n",
       "\t<tr><td>eDNA_0046_12S_S038</td><td>     0</td></tr>\n",
       "\t<tr><td>eDNA_0046_12S_S044</td><td>     0</td></tr>\n",
       "\t<tr><td>eDNA_0046_12S_S045</td><td>     2</td></tr>\n",
       "\t<tr><td>eDNA_0046_12S_S063</td><td>     6</td></tr>\n",
       "\t<tr><td>eDNA_0046_12S_S051</td><td>    82</td></tr>\n",
       "\t<tr><td>eDNA_0046_12S_S019</td><td>    98</td></tr>\n",
       "\t<tr><td>eDNA_0046_12S_S014</td><td>   114</td></tr>\n",
       "\t<tr><td>eDNA_0046_12S_S035</td><td>   525</td></tr>\n",
       "\t<tr><td>eDNA_0046_12S_S040</td><td>   763</td></tr>\n",
       "\t<tr><td>eDNA_0046_12S_S034</td><td>   999</td></tr>\n",
       "\t<tr><td>eDNA_0046_12S_S009</td><td>  1463</td></tr>\n",
       "\t<tr><td>eDNA_0046_12S_S039</td><td>  2087</td></tr>\n",
       "\t<tr><td>eDNA_0046_12S_S010</td><td>  2662</td></tr>\n",
       "\t<tr><td>eDNA_0046_12S_S023</td><td>  4449</td></tr>\n",
       "\t<tr><td>eDNA_0046_12S_S012</td><td>  6557</td></tr>\n",
       "\t<tr><td>eDNA_0046_12S_S047</td><td>  7083</td></tr>\n",
       "\t<tr><td>eDNA_0046_12S_S015</td><td> 14270</td></tr>\n",
       "\t<tr><td>eDNA_0046_12S_S033</td><td> 15478</td></tr>\n",
       "\t<tr><td>eDNA_0046_12S_S057</td><td> 19402</td></tr>\n",
       "\t<tr><td>eDNA_0046_12S_S059</td><td> 21221</td></tr>\n",
       "\t<tr><td>eDNA_0046_12S_S011</td><td> 34975</td></tr>\n",
       "\t<tr><td>eDNA_0046_12S_S048</td><td> 48839</td></tr>\n",
       "\t<tr><td>eDNA_0046_12S_S046</td><td>143651</td></tr>\n",
       "\t<tr><td>eDNA_0046_12S_S058</td><td>159367</td></tr>\n",
       "\t<tr><td>eDNA_0046_12S_S042</td><td>687366</td></tr>\n",
       "\t<tr><td>eDNA_0046_12S_S041</td><td>813022</td></tr>\n",
       "</tbody>\n",
       "</table>\n"
      ],
      "text/latex": [
       "A data.frame: 30 × 2\n",
       "\\begin{tabular}{ll}\n",
       " sample\\_names & total\\_reads\\\\\n",
       " <chr> & <dbl>\\\\\n",
       "\\hline\n",
       "\t eDNA\\_0046\\_12S\\_S013 &      0\\\\\n",
       "\t eDNA\\_0046\\_12S\\_S016 &      0\\\\\n",
       "\t eDNA\\_0046\\_12S\\_S036 &      0\\\\\n",
       "\t eDNA\\_0046\\_12S\\_S037 &      0\\\\\n",
       "\t eDNA\\_0046\\_12S\\_S038 &      0\\\\\n",
       "\t eDNA\\_0046\\_12S\\_S044 &      0\\\\\n",
       "\t eDNA\\_0046\\_12S\\_S045 &      2\\\\\n",
       "\t eDNA\\_0046\\_12S\\_S063 &      6\\\\\n",
       "\t eDNA\\_0046\\_12S\\_S051 &     82\\\\\n",
       "\t eDNA\\_0046\\_12S\\_S019 &     98\\\\\n",
       "\t eDNA\\_0046\\_12S\\_S014 &    114\\\\\n",
       "\t eDNA\\_0046\\_12S\\_S035 &    525\\\\\n",
       "\t eDNA\\_0046\\_12S\\_S040 &    763\\\\\n",
       "\t eDNA\\_0046\\_12S\\_S034 &    999\\\\\n",
       "\t eDNA\\_0046\\_12S\\_S009 &   1463\\\\\n",
       "\t eDNA\\_0046\\_12S\\_S039 &   2087\\\\\n",
       "\t eDNA\\_0046\\_12S\\_S010 &   2662\\\\\n",
       "\t eDNA\\_0046\\_12S\\_S023 &   4449\\\\\n",
       "\t eDNA\\_0046\\_12S\\_S012 &   6557\\\\\n",
       "\t eDNA\\_0046\\_12S\\_S047 &   7083\\\\\n",
       "\t eDNA\\_0046\\_12S\\_S015 &  14270\\\\\n",
       "\t eDNA\\_0046\\_12S\\_S033 &  15478\\\\\n",
       "\t eDNA\\_0046\\_12S\\_S057 &  19402\\\\\n",
       "\t eDNA\\_0046\\_12S\\_S059 &  21221\\\\\n",
       "\t eDNA\\_0046\\_12S\\_S011 &  34975\\\\\n",
       "\t eDNA\\_0046\\_12S\\_S048 &  48839\\\\\n",
       "\t eDNA\\_0046\\_12S\\_S046 & 143651\\\\\n",
       "\t eDNA\\_0046\\_12S\\_S058 & 159367\\\\\n",
       "\t eDNA\\_0046\\_12S\\_S042 & 687366\\\\\n",
       "\t eDNA\\_0046\\_12S\\_S041 & 813022\\\\\n",
       "\\end{tabular}\n"
      ],
      "text/markdown": [
       "\n",
       "A data.frame: 30 × 2\n",
       "\n",
       "| sample_names &lt;chr&gt; | total_reads &lt;dbl&gt; |\n",
       "|---|---|\n",
       "| eDNA_0046_12S_S013 |      0 |\n",
       "| eDNA_0046_12S_S016 |      0 |\n",
       "| eDNA_0046_12S_S036 |      0 |\n",
       "| eDNA_0046_12S_S037 |      0 |\n",
       "| eDNA_0046_12S_S038 |      0 |\n",
       "| eDNA_0046_12S_S044 |      0 |\n",
       "| eDNA_0046_12S_S045 |      2 |\n",
       "| eDNA_0046_12S_S063 |      6 |\n",
       "| eDNA_0046_12S_S051 |     82 |\n",
       "| eDNA_0046_12S_S019 |     98 |\n",
       "| eDNA_0046_12S_S014 |    114 |\n",
       "| eDNA_0046_12S_S035 |    525 |\n",
       "| eDNA_0046_12S_S040 |    763 |\n",
       "| eDNA_0046_12S_S034 |    999 |\n",
       "| eDNA_0046_12S_S009 |   1463 |\n",
       "| eDNA_0046_12S_S039 |   2087 |\n",
       "| eDNA_0046_12S_S010 |   2662 |\n",
       "| eDNA_0046_12S_S023 |   4449 |\n",
       "| eDNA_0046_12S_S012 |   6557 |\n",
       "| eDNA_0046_12S_S047 |   7083 |\n",
       "| eDNA_0046_12S_S015 |  14270 |\n",
       "| eDNA_0046_12S_S033 |  15478 |\n",
       "| eDNA_0046_12S_S057 |  19402 |\n",
       "| eDNA_0046_12S_S059 |  21221 |\n",
       "| eDNA_0046_12S_S011 |  34975 |\n",
       "| eDNA_0046_12S_S048 |  48839 |\n",
       "| eDNA_0046_12S_S046 | 143651 |\n",
       "| eDNA_0046_12S_S058 | 159367 |\n",
       "| eDNA_0046_12S_S042 | 687366 |\n",
       "| eDNA_0046_12S_S041 | 813022 |\n",
       "\n"
      ],
      "text/plain": [
       "   sample_names       total_reads\n",
       "1  eDNA_0046_12S_S013      0     \n",
       "2  eDNA_0046_12S_S016      0     \n",
       "3  eDNA_0046_12S_S036      0     \n",
       "4  eDNA_0046_12S_S037      0     \n",
       "5  eDNA_0046_12S_S038      0     \n",
       "6  eDNA_0046_12S_S044      0     \n",
       "7  eDNA_0046_12S_S045      2     \n",
       "8  eDNA_0046_12S_S063      6     \n",
       "9  eDNA_0046_12S_S051     82     \n",
       "10 eDNA_0046_12S_S019     98     \n",
       "11 eDNA_0046_12S_S014    114     \n",
       "12 eDNA_0046_12S_S035    525     \n",
       "13 eDNA_0046_12S_S040    763     \n",
       "14 eDNA_0046_12S_S034    999     \n",
       "15 eDNA_0046_12S_S009   1463     \n",
       "16 eDNA_0046_12S_S039   2087     \n",
       "17 eDNA_0046_12S_S010   2662     \n",
       "18 eDNA_0046_12S_S023   4449     \n",
       "19 eDNA_0046_12S_S012   6557     \n",
       "20 eDNA_0046_12S_S047   7083     \n",
       "21 eDNA_0046_12S_S015  14270     \n",
       "22 eDNA_0046_12S_S033  15478     \n",
       "23 eDNA_0046_12S_S057  19402     \n",
       "24 eDNA_0046_12S_S059  21221     \n",
       "25 eDNA_0046_12S_S011  34975     \n",
       "26 eDNA_0046_12S_S048  48839     \n",
       "27 eDNA_0046_12S_S046 143651     \n",
       "28 eDNA_0046_12S_S058 159367     \n",
       "29 eDNA_0046_12S_S042 687366     \n",
       "30 eDNA_0046_12S_S041 813022     "
      ]
     },
     "metadata": {},
     "output_type": "display_data"
    }
   ],
   "source": [
    "(sample_totals  <- phyloseq::sample_sums(phyloseq_12S) |>\n",
    "                  data.frame() |> \n",
    "                  `colnames<-`(c(\"total_reads\")) |>\n",
    "                  dplyr::arrange(total_reads) |>\n",
    "                  tibble::rownames_to_column(var = \"sample_names\"))"
   ]
  },
  {
   "cell_type": "code",
   "execution_count": 4,
   "id": "c45cdc30-5836-4f87-ba76-7a4b77736ac5",
   "metadata": {},
   "outputs": [
    {
     "data": {
      "text/html": [
       "<table class=\"dataframe\">\n",
       "<caption>A data.frame: 24 × 2</caption>\n",
       "<thead>\n",
       "\t<tr><th></th><th scope=col>sample_names</th><th scope=col>total_reads</th></tr>\n",
       "\t<tr><th></th><th scope=col>&lt;chr&gt;</th><th scope=col>&lt;dbl&gt;</th></tr>\n",
       "</thead>\n",
       "<tbody>\n",
       "\t<tr><th scope=row>7</th><td>eDNA_0046_12S_S045</td><td>     2</td></tr>\n",
       "\t<tr><th scope=row>8</th><td>eDNA_0046_12S_S063</td><td>     6</td></tr>\n",
       "\t<tr><th scope=row>9</th><td>eDNA_0046_12S_S051</td><td>    82</td></tr>\n",
       "\t<tr><th scope=row>10</th><td>eDNA_0046_12S_S019</td><td>    98</td></tr>\n",
       "\t<tr><th scope=row>11</th><td>eDNA_0046_12S_S014</td><td>   114</td></tr>\n",
       "\t<tr><th scope=row>12</th><td>eDNA_0046_12S_S035</td><td>   525</td></tr>\n",
       "\t<tr><th scope=row>13</th><td>eDNA_0046_12S_S040</td><td>   763</td></tr>\n",
       "\t<tr><th scope=row>14</th><td>eDNA_0046_12S_S034</td><td>   999</td></tr>\n",
       "\t<tr><th scope=row>15</th><td>eDNA_0046_12S_S009</td><td>  1463</td></tr>\n",
       "\t<tr><th scope=row>16</th><td>eDNA_0046_12S_S039</td><td>  2087</td></tr>\n",
       "\t<tr><th scope=row>17</th><td>eDNA_0046_12S_S010</td><td>  2662</td></tr>\n",
       "\t<tr><th scope=row>18</th><td>eDNA_0046_12S_S023</td><td>  4449</td></tr>\n",
       "\t<tr><th scope=row>19</th><td>eDNA_0046_12S_S012</td><td>  6557</td></tr>\n",
       "\t<tr><th scope=row>20</th><td>eDNA_0046_12S_S047</td><td>  7083</td></tr>\n",
       "\t<tr><th scope=row>21</th><td>eDNA_0046_12S_S015</td><td> 14270</td></tr>\n",
       "\t<tr><th scope=row>22</th><td>eDNA_0046_12S_S033</td><td> 15478</td></tr>\n",
       "\t<tr><th scope=row>23</th><td>eDNA_0046_12S_S057</td><td> 19402</td></tr>\n",
       "\t<tr><th scope=row>24</th><td>eDNA_0046_12S_S059</td><td> 21221</td></tr>\n",
       "\t<tr><th scope=row>25</th><td>eDNA_0046_12S_S011</td><td> 34975</td></tr>\n",
       "\t<tr><th scope=row>26</th><td>eDNA_0046_12S_S048</td><td> 48839</td></tr>\n",
       "\t<tr><th scope=row>27</th><td>eDNA_0046_12S_S046</td><td>143651</td></tr>\n",
       "\t<tr><th scope=row>28</th><td>eDNA_0046_12S_S058</td><td>159367</td></tr>\n",
       "\t<tr><th scope=row>29</th><td>eDNA_0046_12S_S042</td><td>687366</td></tr>\n",
       "\t<tr><th scope=row>30</th><td>eDNA_0046_12S_S041</td><td>813022</td></tr>\n",
       "</tbody>\n",
       "</table>\n"
      ],
      "text/latex": [
       "A data.frame: 24 × 2\n",
       "\\begin{tabular}{r|ll}\n",
       "  & sample\\_names & total\\_reads\\\\\n",
       "  & <chr> & <dbl>\\\\\n",
       "\\hline\n",
       "\t7 & eDNA\\_0046\\_12S\\_S045 &      2\\\\\n",
       "\t8 & eDNA\\_0046\\_12S\\_S063 &      6\\\\\n",
       "\t9 & eDNA\\_0046\\_12S\\_S051 &     82\\\\\n",
       "\t10 & eDNA\\_0046\\_12S\\_S019 &     98\\\\\n",
       "\t11 & eDNA\\_0046\\_12S\\_S014 &    114\\\\\n",
       "\t12 & eDNA\\_0046\\_12S\\_S035 &    525\\\\\n",
       "\t13 & eDNA\\_0046\\_12S\\_S040 &    763\\\\\n",
       "\t14 & eDNA\\_0046\\_12S\\_S034 &    999\\\\\n",
       "\t15 & eDNA\\_0046\\_12S\\_S009 &   1463\\\\\n",
       "\t16 & eDNA\\_0046\\_12S\\_S039 &   2087\\\\\n",
       "\t17 & eDNA\\_0046\\_12S\\_S010 &   2662\\\\\n",
       "\t18 & eDNA\\_0046\\_12S\\_S023 &   4449\\\\\n",
       "\t19 & eDNA\\_0046\\_12S\\_S012 &   6557\\\\\n",
       "\t20 & eDNA\\_0046\\_12S\\_S047 &   7083\\\\\n",
       "\t21 & eDNA\\_0046\\_12S\\_S015 &  14270\\\\\n",
       "\t22 & eDNA\\_0046\\_12S\\_S033 &  15478\\\\\n",
       "\t23 & eDNA\\_0046\\_12S\\_S057 &  19402\\\\\n",
       "\t24 & eDNA\\_0046\\_12S\\_S059 &  21221\\\\\n",
       "\t25 & eDNA\\_0046\\_12S\\_S011 &  34975\\\\\n",
       "\t26 & eDNA\\_0046\\_12S\\_S048 &  48839\\\\\n",
       "\t27 & eDNA\\_0046\\_12S\\_S046 & 143651\\\\\n",
       "\t28 & eDNA\\_0046\\_12S\\_S058 & 159367\\\\\n",
       "\t29 & eDNA\\_0046\\_12S\\_S042 & 687366\\\\\n",
       "\t30 & eDNA\\_0046\\_12S\\_S041 & 813022\\\\\n",
       "\\end{tabular}\n"
      ],
      "text/markdown": [
       "\n",
       "A data.frame: 24 × 2\n",
       "\n",
       "| <!--/--> | sample_names &lt;chr&gt; | total_reads &lt;dbl&gt; |\n",
       "|---|---|---|\n",
       "| 7 | eDNA_0046_12S_S045 |      2 |\n",
       "| 8 | eDNA_0046_12S_S063 |      6 |\n",
       "| 9 | eDNA_0046_12S_S051 |     82 |\n",
       "| 10 | eDNA_0046_12S_S019 |     98 |\n",
       "| 11 | eDNA_0046_12S_S014 |    114 |\n",
       "| 12 | eDNA_0046_12S_S035 |    525 |\n",
       "| 13 | eDNA_0046_12S_S040 |    763 |\n",
       "| 14 | eDNA_0046_12S_S034 |    999 |\n",
       "| 15 | eDNA_0046_12S_S009 |   1463 |\n",
       "| 16 | eDNA_0046_12S_S039 |   2087 |\n",
       "| 17 | eDNA_0046_12S_S010 |   2662 |\n",
       "| 18 | eDNA_0046_12S_S023 |   4449 |\n",
       "| 19 | eDNA_0046_12S_S012 |   6557 |\n",
       "| 20 | eDNA_0046_12S_S047 |   7083 |\n",
       "| 21 | eDNA_0046_12S_S015 |  14270 |\n",
       "| 22 | eDNA_0046_12S_S033 |  15478 |\n",
       "| 23 | eDNA_0046_12S_S057 |  19402 |\n",
       "| 24 | eDNA_0046_12S_S059 |  21221 |\n",
       "| 25 | eDNA_0046_12S_S011 |  34975 |\n",
       "| 26 | eDNA_0046_12S_S048 |  48839 |\n",
       "| 27 | eDNA_0046_12S_S046 | 143651 |\n",
       "| 28 | eDNA_0046_12S_S058 | 159367 |\n",
       "| 29 | eDNA_0046_12S_S042 | 687366 |\n",
       "| 30 | eDNA_0046_12S_S041 | 813022 |\n",
       "\n"
      ],
      "text/plain": [
       "   sample_names       total_reads\n",
       "7  eDNA_0046_12S_S045      2     \n",
       "8  eDNA_0046_12S_S063      6     \n",
       "9  eDNA_0046_12S_S051     82     \n",
       "10 eDNA_0046_12S_S019     98     \n",
       "11 eDNA_0046_12S_S014    114     \n",
       "12 eDNA_0046_12S_S035    525     \n",
       "13 eDNA_0046_12S_S040    763     \n",
       "14 eDNA_0046_12S_S034    999     \n",
       "15 eDNA_0046_12S_S009   1463     \n",
       "16 eDNA_0046_12S_S039   2087     \n",
       "17 eDNA_0046_12S_S010   2662     \n",
       "18 eDNA_0046_12S_S023   4449     \n",
       "19 eDNA_0046_12S_S012   6557     \n",
       "20 eDNA_0046_12S_S047   7083     \n",
       "21 eDNA_0046_12S_S015  14270     \n",
       "22 eDNA_0046_12S_S033  15478     \n",
       "23 eDNA_0046_12S_S057  19402     \n",
       "24 eDNA_0046_12S_S059  21221     \n",
       "25 eDNA_0046_12S_S011  34975     \n",
       "26 eDNA_0046_12S_S048  48839     \n",
       "27 eDNA_0046_12S_S046 143651     \n",
       "28 eDNA_0046_12S_S058 159367     \n",
       "29 eDNA_0046_12S_S042 687366     \n",
       "30 eDNA_0046_12S_S041 813022     "
      ]
     },
     "metadata": {},
     "output_type": "display_data"
    }
   ],
   "source": [
    "#extract none zero counts\n",
    "(non_zero_samples <-  sample_totals[sample_totals$total_reads != 0,] )"
   ]
  },
  {
   "cell_type": "code",
   "execution_count": 5,
   "id": "268f3ee3-e4cc-4f09-a257-b09e59422c24",
   "metadata": {},
   "outputs": [
    {
     "data": {
      "text/plain": [
       "phyloseq-class experiment-level object\n",
       "otu_table()   OTU Table:         [ 174 taxa and 24 samples ]\n",
       "sample_data() Sample Data:       [ 24 samples by 18 sample variables ]\n",
       "tax_table()   Taxonomy Table:    [ 174 taxa by 6 taxonomic ranks ]"
      ]
     },
     "metadata": {},
     "output_type": "display_data"
    }
   ],
   "source": [
    "(phyloseq_12S_clean <- phyloseq::prune_samples(non_zero_samples$sample_names,  phyloseq_12S))"
   ]
  },
  {
   "cell_type": "code",
   "execution_count": 6,
   "id": "a3bb86cd-4a98-4787-a08c-c944474038de",
   "metadata": {
    "scrolled": true
   },
   "outputs": [],
   "source": [
    "#convert read counts to presence and absences\n",
    "phyloseq_12S_pa <- microbiome::transform(phyloseq_12S_clean, transform = \"pa\")"
   ]
  },
  {
   "cell_type": "code",
   "execution_count": 7,
   "id": "bab94824-1856-4d43-89ad-1d015c27b587",
   "metadata": {},
   "outputs": [
    {
     "data": {
      "text/html": [
       "<table class=\"dataframe\">\n",
       "<caption>A sample_data: 6 × 18</caption>\n",
       "<thead>\n",
       "\t<tr><th></th><th scope=col>SampleID_for_DataAnalysis</th><th scope=col>Original_SampleName</th><th scope=col>I7_Index_ID</th><th scope=col>index</th><th scope=col>I5_Index_ID</th><th scope=col>index2</th><th scope=col>I7_Index_ID.1</th><th scope=col>index3</th><th scope=col>I5_Index_ID.1</th><th scope=col>index4</th><th scope=col>Location</th><th scope=col>Average_depths</th><th scope=col>Average_water_temp</th><th scope=col>Wildlife_seen</th><th scope=col>DNA_conc_after_1stPCR..ng.ul.</th><th scope=col>total_reads</th><th scope=col>dilution_ratio</th><th scope=col>X19</th></tr>\n",
       "\t<tr><th></th><th scope=col>&lt;chr&gt;</th><th scope=col>&lt;chr&gt;</th><th scope=col>&lt;chr&gt;</th><th scope=col>&lt;chr&gt;</th><th scope=col>&lt;chr&gt;</th><th scope=col>&lt;chr&gt;</th><th scope=col>&lt;chr&gt;</th><th scope=col>&lt;chr&gt;</th><th scope=col>&lt;chr&gt;</th><th scope=col>&lt;chr&gt;</th><th scope=col>&lt;chr&gt;</th><th scope=col>&lt;dbl&gt;</th><th scope=col>&lt;dbl&gt;</th><th scope=col>&lt;chr&gt;</th><th scope=col>&lt;dbl&gt;</th><th scope=col>&lt;dbl&gt;</th><th scope=col>&lt;chr&gt;</th><th scope=col>&lt;chr&gt;</th></tr>\n",
       "</thead>\n",
       "<tbody>\n",
       "\t<tr><th scope=row>eDNA_0046_12S_S009</th><td>S009</td><td>dH2O ABS</td><td>eDNA1st_Elas02-f_IPg0009_F</td><td>TAGATTTA</td><td>eDNA1st_Elas02-r_IPg009_R</td><td>TAGATTTA</td><td>PCR_IPg0183_R</td><td>CTGAAAAG</td><td>PCR_IPg0183_F</td><td>CTTTTCAG</td><td>Field blank</td><td>NA</td><td>NA</td><td>NA</td><td>0.1472174</td><td> 1805</td><td>1/1</td><td>NA</td></tr>\n",
       "\t<tr><th scope=row>eDNA_0046_12S_S010</th><td>S010</td><td>dH2O DBS</td><td>eDNA1st_Elas02-f_IPg0010_F</td><td>AATGCGTA</td><td>eDNA1st_Elas02-r_IPg010_R</td><td>AATGCGTA</td><td>PCR_IPg0183_R</td><td>CTGAAAAG</td><td>PCR_IPg0183_F</td><td>CTTTTCAG</td><td>Field blank</td><td>NA</td><td>NA</td><td>NA</td><td>1.3211515</td><td> 6538</td><td>1/1</td><td>NA</td></tr>\n",
       "\t<tr><th scope=row>eDNA_0046_12S_S011</th><td>S011</td><td>dH2O FBS</td><td>eDNA1st_Elas02-f_IPg0011_F</td><td>CATAAGCA</td><td>eDNA1st_Elas02-r_IPg011_R</td><td>CATAAGCA</td><td>PCR_IPg0183_R</td><td>CTGAAAAG</td><td>PCR_IPg0183_F</td><td>CTTTTCAG</td><td>Field blank</td><td>NA</td><td>NA</td><td>NA</td><td>1.3718793</td><td>39935</td><td>1/1</td><td>NA</td></tr>\n",
       "\t<tr><th scope=row>eDNA_0046_12S_S012</th><td>S012</td><td>dH2O GBS</td><td>eDNA1st_Elas02-f_IPg0012_F</td><td>CGTGTTGT</td><td>eDNA1st_Elas02-r_IPg012_R</td><td>CGTGTTGT</td><td>PCR_IPg0183_R</td><td>CTGAAAAG</td><td>PCR_IPg0183_F</td><td>CTTTTCAG</td><td>Field blank</td><td>NA</td><td>NA</td><td>NA</td><td>0.6299005</td><td> 7196</td><td>1/1</td><td>NA</td></tr>\n",
       "\t<tr><th scope=row>eDNA_0046_12S_S014</th><td>S014</td><td>dH2O PBS</td><td>eDNA1st_Elas02-f_IPg0014_F</td><td>GCTACGAA</td><td>eDNA1st_Elas02-r_IPg014_R</td><td>GCTACGAA</td><td>PCR_IPg0183_R</td><td>CTGAAAAG</td><td>PCR_IPg0183_F</td><td>CTTTTCAG</td><td>Field blank</td><td>NA</td><td>NA</td><td>NA</td><td>0.2663063</td><td>  117</td><td>1/1</td><td>NA</td></tr>\n",
       "\t<tr><th scope=row>eDNA_0046_12S_S015</th><td>S015</td><td>dH2O PNS</td><td>eDNA1st_Elas02-f_IPg0015_F</td><td>ACCCTGGT</td><td>eDNA1st_Elas02-r_IPg015_R</td><td>ACCCTGGT</td><td>PCR_IPg0183_R</td><td>CTGAAAAG</td><td>PCR_IPg0183_F</td><td>CTTTTCAG</td><td>Field blank</td><td>NA</td><td>NA</td><td>NA</td><td>1.6995953</td><td>18093</td><td>1/1</td><td>NA</td></tr>\n",
       "</tbody>\n",
       "</table>\n"
      ],
      "text/latex": [
       "A sample\\_data: 6 × 18\n",
       "\\begin{tabular}{r|llllllllllllllllll}\n",
       "  & SampleID\\_for\\_DataAnalysis & Original\\_SampleName & I7\\_Index\\_ID & index & I5\\_Index\\_ID & index2 & I7\\_Index\\_ID.1 & index3 & I5\\_Index\\_ID.1 & index4 & Location & Average\\_depths & Average\\_water\\_temp & Wildlife\\_seen & DNA\\_conc\\_after\\_1stPCR..ng.ul. & total\\_reads & dilution\\_ratio & X19\\\\\n",
       "  & <chr> & <chr> & <chr> & <chr> & <chr> & <chr> & <chr> & <chr> & <chr> & <chr> & <chr> & <dbl> & <dbl> & <chr> & <dbl> & <dbl> & <chr> & <chr>\\\\\n",
       "\\hline\n",
       "\teDNA\\_0046\\_12S\\_S009 & S009 & dH2O ABS & eDNA1st\\_Elas02-f\\_IPg0009\\_F & TAGATTTA & eDNA1st\\_Elas02-r\\_IPg009\\_R & TAGATTTA & PCR\\_IPg0183\\_R & CTGAAAAG & PCR\\_IPg0183\\_F & CTTTTCAG & Field blank & NA & NA & NA & 0.1472174 &  1805 & 1/1 & NA\\\\\n",
       "\teDNA\\_0046\\_12S\\_S010 & S010 & dH2O DBS & eDNA1st\\_Elas02-f\\_IPg0010\\_F & AATGCGTA & eDNA1st\\_Elas02-r\\_IPg010\\_R & AATGCGTA & PCR\\_IPg0183\\_R & CTGAAAAG & PCR\\_IPg0183\\_F & CTTTTCAG & Field blank & NA & NA & NA & 1.3211515 &  6538 & 1/1 & NA\\\\\n",
       "\teDNA\\_0046\\_12S\\_S011 & S011 & dH2O FBS & eDNA1st\\_Elas02-f\\_IPg0011\\_F & CATAAGCA & eDNA1st\\_Elas02-r\\_IPg011\\_R & CATAAGCA & PCR\\_IPg0183\\_R & CTGAAAAG & PCR\\_IPg0183\\_F & CTTTTCAG & Field blank & NA & NA & NA & 1.3718793 & 39935 & 1/1 & NA\\\\\n",
       "\teDNA\\_0046\\_12S\\_S012 & S012 & dH2O GBS & eDNA1st\\_Elas02-f\\_IPg0012\\_F & CGTGTTGT & eDNA1st\\_Elas02-r\\_IPg012\\_R & CGTGTTGT & PCR\\_IPg0183\\_R & CTGAAAAG & PCR\\_IPg0183\\_F & CTTTTCAG & Field blank & NA & NA & NA & 0.6299005 &  7196 & 1/1 & NA\\\\\n",
       "\teDNA\\_0046\\_12S\\_S014 & S014 & dH2O PBS & eDNA1st\\_Elas02-f\\_IPg0014\\_F & GCTACGAA & eDNA1st\\_Elas02-r\\_IPg014\\_R & GCTACGAA & PCR\\_IPg0183\\_R & CTGAAAAG & PCR\\_IPg0183\\_F & CTTTTCAG & Field blank & NA & NA & NA & 0.2663063 &   117 & 1/1 & NA\\\\\n",
       "\teDNA\\_0046\\_12S\\_S015 & S015 & dH2O PNS & eDNA1st\\_Elas02-f\\_IPg0015\\_F & ACCCTGGT & eDNA1st\\_Elas02-r\\_IPg015\\_R & ACCCTGGT & PCR\\_IPg0183\\_R & CTGAAAAG & PCR\\_IPg0183\\_F & CTTTTCAG & Field blank & NA & NA & NA & 1.6995953 & 18093 & 1/1 & NA\\\\\n",
       "\\end{tabular}\n"
      ],
      "text/markdown": [
       "\n",
       "A sample_data: 6 × 18\n",
       "\n",
       "| <!--/--> | SampleID_for_DataAnalysis &lt;chr&gt; | Original_SampleName &lt;chr&gt; | I7_Index_ID &lt;chr&gt; | index &lt;chr&gt; | I5_Index_ID &lt;chr&gt; | index2 &lt;chr&gt; | I7_Index_ID.1 &lt;chr&gt; | index3 &lt;chr&gt; | I5_Index_ID.1 &lt;chr&gt; | index4 &lt;chr&gt; | Location &lt;chr&gt; | Average_depths &lt;dbl&gt; | Average_water_temp &lt;dbl&gt; | Wildlife_seen &lt;chr&gt; | DNA_conc_after_1stPCR..ng.ul. &lt;dbl&gt; | total_reads &lt;dbl&gt; | dilution_ratio &lt;chr&gt; | X19 &lt;chr&gt; |\n",
       "|---|---|---|---|---|---|---|---|---|---|---|---|---|---|---|---|---|---|---|\n",
       "| eDNA_0046_12S_S009 | S009 | dH2O ABS | eDNA1st_Elas02-f_IPg0009_F | TAGATTTA | eDNA1st_Elas02-r_IPg009_R | TAGATTTA | PCR_IPg0183_R | CTGAAAAG | PCR_IPg0183_F | CTTTTCAG | Field blank | NA | NA | NA | 0.1472174 |  1805 | 1/1 | NA |\n",
       "| eDNA_0046_12S_S010 | S010 | dH2O DBS | eDNA1st_Elas02-f_IPg0010_F | AATGCGTA | eDNA1st_Elas02-r_IPg010_R | AATGCGTA | PCR_IPg0183_R | CTGAAAAG | PCR_IPg0183_F | CTTTTCAG | Field blank | NA | NA | NA | 1.3211515 |  6538 | 1/1 | NA |\n",
       "| eDNA_0046_12S_S011 | S011 | dH2O FBS | eDNA1st_Elas02-f_IPg0011_F | CATAAGCA | eDNA1st_Elas02-r_IPg011_R | CATAAGCA | PCR_IPg0183_R | CTGAAAAG | PCR_IPg0183_F | CTTTTCAG | Field blank | NA | NA | NA | 1.3718793 | 39935 | 1/1 | NA |\n",
       "| eDNA_0046_12S_S012 | S012 | dH2O GBS | eDNA1st_Elas02-f_IPg0012_F | CGTGTTGT | eDNA1st_Elas02-r_IPg012_R | CGTGTTGT | PCR_IPg0183_R | CTGAAAAG | PCR_IPg0183_F | CTTTTCAG | Field blank | NA | NA | NA | 0.6299005 |  7196 | 1/1 | NA |\n",
       "| eDNA_0046_12S_S014 | S014 | dH2O PBS | eDNA1st_Elas02-f_IPg0014_F | GCTACGAA | eDNA1st_Elas02-r_IPg014_R | GCTACGAA | PCR_IPg0183_R | CTGAAAAG | PCR_IPg0183_F | CTTTTCAG | Field blank | NA | NA | NA | 0.2663063 |   117 | 1/1 | NA |\n",
       "| eDNA_0046_12S_S015 | S015 | dH2O PNS | eDNA1st_Elas02-f_IPg0015_F | ACCCTGGT | eDNA1st_Elas02-r_IPg015_R | ACCCTGGT | PCR_IPg0183_R | CTGAAAAG | PCR_IPg0183_F | CTTTTCAG | Field blank | NA | NA | NA | 1.6995953 | 18093 | 1/1 | NA |\n",
       "\n"
      ],
      "text/plain": [
       "                   SampleID_for_DataAnalysis Original_SampleName\n",
       "eDNA_0046_12S_S009 S009                      dH2O ABS           \n",
       "eDNA_0046_12S_S010 S010                      dH2O DBS           \n",
       "eDNA_0046_12S_S011 S011                      dH2O FBS           \n",
       "eDNA_0046_12S_S012 S012                      dH2O GBS           \n",
       "eDNA_0046_12S_S014 S014                      dH2O PBS           \n",
       "eDNA_0046_12S_S015 S015                      dH2O PNS           \n",
       "                   I7_Index_ID                index   \n",
       "eDNA_0046_12S_S009 eDNA1st_Elas02-f_IPg0009_F TAGATTTA\n",
       "eDNA_0046_12S_S010 eDNA1st_Elas02-f_IPg0010_F AATGCGTA\n",
       "eDNA_0046_12S_S011 eDNA1st_Elas02-f_IPg0011_F CATAAGCA\n",
       "eDNA_0046_12S_S012 eDNA1st_Elas02-f_IPg0012_F CGTGTTGT\n",
       "eDNA_0046_12S_S014 eDNA1st_Elas02-f_IPg0014_F GCTACGAA\n",
       "eDNA_0046_12S_S015 eDNA1st_Elas02-f_IPg0015_F ACCCTGGT\n",
       "                   I5_Index_ID               index2   I7_Index_ID.1 index3  \n",
       "eDNA_0046_12S_S009 eDNA1st_Elas02-r_IPg009_R TAGATTTA PCR_IPg0183_R CTGAAAAG\n",
       "eDNA_0046_12S_S010 eDNA1st_Elas02-r_IPg010_R AATGCGTA PCR_IPg0183_R CTGAAAAG\n",
       "eDNA_0046_12S_S011 eDNA1st_Elas02-r_IPg011_R CATAAGCA PCR_IPg0183_R CTGAAAAG\n",
       "eDNA_0046_12S_S012 eDNA1st_Elas02-r_IPg012_R CGTGTTGT PCR_IPg0183_R CTGAAAAG\n",
       "eDNA_0046_12S_S014 eDNA1st_Elas02-r_IPg014_R GCTACGAA PCR_IPg0183_R CTGAAAAG\n",
       "eDNA_0046_12S_S015 eDNA1st_Elas02-r_IPg015_R ACCCTGGT PCR_IPg0183_R CTGAAAAG\n",
       "                   I5_Index_ID.1 index4   Location    Average_depths\n",
       "eDNA_0046_12S_S009 PCR_IPg0183_F CTTTTCAG Field blank NA            \n",
       "eDNA_0046_12S_S010 PCR_IPg0183_F CTTTTCAG Field blank NA            \n",
       "eDNA_0046_12S_S011 PCR_IPg0183_F CTTTTCAG Field blank NA            \n",
       "eDNA_0046_12S_S012 PCR_IPg0183_F CTTTTCAG Field blank NA            \n",
       "eDNA_0046_12S_S014 PCR_IPg0183_F CTTTTCAG Field blank NA            \n",
       "eDNA_0046_12S_S015 PCR_IPg0183_F CTTTTCAG Field blank NA            \n",
       "                   Average_water_temp Wildlife_seen\n",
       "eDNA_0046_12S_S009 NA                 NA           \n",
       "eDNA_0046_12S_S010 NA                 NA           \n",
       "eDNA_0046_12S_S011 NA                 NA           \n",
       "eDNA_0046_12S_S012 NA                 NA           \n",
       "eDNA_0046_12S_S014 NA                 NA           \n",
       "eDNA_0046_12S_S015 NA                 NA           \n",
       "                   DNA_conc_after_1stPCR..ng.ul. total_reads dilution_ratio X19\n",
       "eDNA_0046_12S_S009 0.1472174                      1805       1/1            NA \n",
       "eDNA_0046_12S_S010 1.3211515                      6538       1/1            NA \n",
       "eDNA_0046_12S_S011 1.3718793                     39935       1/1            NA \n",
       "eDNA_0046_12S_S012 0.6299005                      7196       1/1            NA \n",
       "eDNA_0046_12S_S014 0.2663063                       117       1/1            NA \n",
       "eDNA_0046_12S_S015 1.6995953                     18093       1/1            NA "
      ]
     },
     "metadata": {},
     "output_type": "display_data"
    }
   ],
   "source": [
    "phyloseq::sample_data(phyloseq_12S_clean) |>  head()"
   ]
  },
  {
   "cell_type": "code",
   "execution_count": 8,
   "id": "900a6cf6-4678-491c-ac6f-16d2f5a0a086",
   "metadata": {},
   "outputs": [],
   "source": [
    "ord_jaccard <- ordinate(phyloseq_12S_pa, \"PCoA\", \"jaccard\")"
   ]
  },
  {
   "cell_type": "code",
   "execution_count": 9,
   "id": "f53125c8-cb85-450f-b522-08c72f0b8e0f",
   "metadata": {},
   "outputs": [
    {
     "data": {
      "image/png": "[encoded data removed]",
      "text/plain": [
       "plot without title"
      ]
     },
     "metadata": {
      "image/png": {
       "height": 420,
       "width": 420
      }
     },
     "output_type": "display_data"
    }
   ],
   "source": [
    "plot_ordination(phyloseq_12S_clean, ord_jaccard, color = \"Location\") + geom_point(size = 5) + theme_bw()"
   ]
  }
 ],
 "metadata": {
  "kernelspec": {
   "display_name": "R",
   "language": "R",
   "name": "ir"
  },
  "language_info": {
   "codemirror_mode": "r",
   "file_extension": ".r",
   "mimetype": "text/x-r-source",
   "name": "R",
   "pygments_lexer": "r",
   "version": "4.3.3"
  }
 },
 "nbformat": 4,
 "nbformat_minor": 5
}
