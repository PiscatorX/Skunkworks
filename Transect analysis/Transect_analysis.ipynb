{
 "cells": [
  {
   "cell_type": "code",
   "execution_count": 1,
   "id": "187927b0-481b-42c2-be81-8a259dc4bf36",
   "metadata": {
    "tags": []
   },
   "outputs": [
    {
     "name": "stderr",
     "output_type": "stream",
     "text": [
      "── \u001b[1mAttaching core tidyverse packages\u001b[22m ──────────────────────────────────────────────── tidyverse 2.0.0 ──\n",
      "\u001b[32m✔\u001b[39m \u001b[34mdplyr    \u001b[39m 1.1.4     \u001b[32m✔\u001b[39m \u001b[34mreadr    \u001b[39m 2.1.5\n",
      "\u001b[32m✔\u001b[39m \u001b[34mforcats  \u001b[39m 1.0.0     \u001b[32m✔\u001b[39m \u001b[34mstringr  \u001b[39m 1.5.1\n",
      "\u001b[32m✔\u001b[39m \u001b[34mggplot2  \u001b[39m 3.5.0     \u001b[32m✔\u001b[39m \u001b[34mtibble   \u001b[39m 3.2.1\n",
      "\u001b[32m✔\u001b[39m \u001b[34mlubridate\u001b[39m 1.9.3     \u001b[32m✔\u001b[39m \u001b[34mtidyr    \u001b[39m 1.3.1\n",
      "\u001b[32m✔\u001b[39m \u001b[34mpurrr    \u001b[39m 1.0.2     \n",
      "── \u001b[1mConflicts\u001b[22m ────────────────────────────────────────────────────────────────── tidyverse_conflicts() ──\n",
      "\u001b[31m✖\u001b[39m \u001b[34mdplyr\u001b[39m::\u001b[32mfilter()\u001b[39m masks \u001b[34mstats\u001b[39m::filter()\n",
      "\u001b[31m✖\u001b[39m \u001b[34mdplyr\u001b[39m::\u001b[32mlag()\u001b[39m    masks \u001b[34mstats\u001b[39m::lag()\n",
      "\u001b[36mℹ\u001b[39m Use the conflicted package (\u001b[3m\u001b[34m<http://conflicted.r-lib.org/>\u001b[39m\u001b[23m) to force all conflicts to become errors\n",
      "\n",
      "Attaching package: 'magrittr'\n",
      "\n",
      "\n",
      "The following object is masked from 'package:purrr':\n",
      "\n",
      "    set_names\n",
      "\n",
      "\n",
      "The following object is masked from 'package:tidyr':\n",
      "\n",
      "    extract\n",
      "\n",
      "\n",
      "\n",
      "Attaching package: 'reshape2'\n",
      "\n",
      "\n",
      "The following object is masked from 'package:tidyr':\n",
      "\n",
      "    smiths\n",
      "\n",
      "\n",
      "Loading required package: mvtnorm\n",
      "\n",
      "Loading required package: survival\n",
      "\n",
      "Loading required package: TH.data\n",
      "\n",
      "Loading required package: MASS\n",
      "\n",
      "\n",
      "Attaching package: 'MASS'\n",
      "\n",
      "\n",
      "The following object is masked from 'package:dplyr':\n",
      "\n",
      "    select\n",
      "\n",
      "\n",
      "\n",
      "Attaching package: 'TH.data'\n",
      "\n",
      "\n",
      "The following object is masked from 'package:MASS':\n",
      "\n",
      "    geyser\n",
      "\n",
      "\n",
      "\n",
      "Attaching package: 'rstatix'\n",
      "\n",
      "\n",
      "The following object is masked from 'package:MASS':\n",
      "\n",
      "    select\n",
      "\n",
      "\n",
      "The following object is masked from 'package:stats':\n",
      "\n",
      "    filter\n",
      "\n",
      "\n",
      "Loading required package: lme4\n",
      "\n",
      "Loading required package: Matrix\n",
      "\n",
      "\n",
      "Attaching package: 'Matrix'\n",
      "\n",
      "\n",
      "The following objects are masked from 'package:tidyr':\n",
      "\n",
      "    expand, pack, unpack\n",
      "\n",
      "\n",
      "\n",
      "Attaching package: 'lmerTest'\n",
      "\n",
      "\n",
      "The following object is masked from 'package:lme4':\n",
      "\n",
      "    lmer\n",
      "\n",
      "\n",
      "The following object is masked from 'package:stats':\n",
      "\n",
      "    step\n",
      "\n",
      "\n",
      "\n",
      "Attaching package: 'nlme'\n",
      "\n",
      "\n",
      "The following object is masked from 'package:lme4':\n",
      "\n",
      "    lmList\n",
      "\n",
      "\n",
      "The following object is masked from 'package:dplyr':\n",
      "\n",
      "    collapse\n",
      "\n",
      "\n"
     ]
    }
   ],
   "source": [
    "library(tidyverse)\n",
    "library(magrittr)\n",
    "library(reshape2)\n",
    "library(multcomp)\n",
    "library(rstatix)\n",
    "library(lmerTest)\n",
    "library(readxl)\n",
    "library(ggpubr)\n",
    "library(nlme)\n",
    "library(lme4)"
   ]
  },
  {
   "cell_type": "code",
   "execution_count": 2,
   "id": "4305f0b9-8647-47ee-b9ed-5bab0fc7d1f7",
   "metadata": {
    "tags": []
   },
   "outputs": [],
   "source": [
    "CHNS_raw <- readxl::read_xlsx(\"CHNS_Dataset_SM&INT.xlsx\")"
   ]
  },
  {
   "cell_type": "code",
   "execution_count": 3,
   "id": "d9e44a9e-7dd0-4e46-8821-8c1692cd6981",
   "metadata": {
    "tags": []
   },
   "outputs": [
    {
     "name": "stdout",
     "output_type": "stream",
     "text": [
      "tibble [81 × 17] (S3: tbl_df/tbl/data.frame)\n",
      " $ Tray_Number   : chr [1:81] \"Tiaan Tray1 A1\" \"Tiaan Tray1 A2\" \"Tiaan Tray1 A3\" \"Tiaan Tray1 A4\" ...\n",
      " $ Sample_ID     : chr [1:81] \"SM1-T1-D5\" \"SM1-T1-D3\" \"SM1-T1-D1\" \"SM1-T1-D0.5\" ...\n",
      " $ Habitat       : chr [1:81] \"Saltmarsh\" \"Saltmarsh\" \"Saltmarsh\" \"Saltmarsh\" ...\n",
      " $ Veg           : chr [1:81] \"Saltmarsh\" \"Saltmarsh\" \"Saltmarsh\" \"Saltmarsh\" ...\n",
      " $ Site          : chr [1:81] \"Upper\" \"Upper\" \"Upper\" \"Upper\" ...\n",
      " $ Transect      : chr [1:81] \"T1\" \"T1\" \"T1\" \"T1\" ...\n",
      " $ Distance      : num [1:81] 5 3 1 0.5 0 5 3 1 0.5 0 ...\n",
      " $ Number        : num [1:81] 1 2 3 4 5 6 7 8 9 10 ...\n",
      " $ Weight_mg     : num [1:81] 81.2 61.1 60.9 68.1 64.4 ...\n",
      " $ N_percent     : num [1:81] 0.66 0.55 0.48 0.42 0.32 0.66 0.94 0.51 0.43 0.41 ...\n",
      " $ C_percent     : num [1:81] 5.82 4.83 3.82 3.3 1.97 5.22 8.79 3.89 3.24 2.36 ...\n",
      " $ H_percent     : num [1:81] 1.53 1.59 1.43 1.6 1.14 ...\n",
      " $ S_percent     : num [1:81] 0.177 0.195 0.146 0.12 0.066 0.187 0.26 0.147 0.214 0.109 ...\n",
      " $ Wet_mass      : num [1:81] 24.7 25 26 26.2 26.7 ...\n",
      " $ Dry_mass      : num [1:81] 9.86 9.69 10.98 11.84 13.62 ...\n",
      " $ Volume        : num [1:81] 20 20 20 20 20 20 19 20 20 20 ...\n",
      " $ Depth_interval: num [1:81] 5 5 5 5 5 5 5 5 5 5 ...\n"
     ]
    }
   ],
   "source": [
    "str(CHNS_raw)"
   ]
  },
  {
   "cell_type": "code",
   "execution_count": 4,
   "id": "c8299d89-6707-43ff-a11b-92b538c5670d",
   "metadata": {
    "tags": []
   },
   "outputs": [
    {
     "data": {
      "text/plain": [
       ", , Site = Lower\n",
       "\n",
       "           Transect\n",
       "Habitat     T1 T2 T3\n",
       "  Saltmarsh  5  5  5\n",
       "  Seagrass   4  4  4\n",
       "\n",
       ", , Site = Middle\n",
       "\n",
       "           Transect\n",
       "Habitat     T1 T2 T3\n",
       "  Saltmarsh  5  5  5\n",
       "  Seagrass   4  4  4\n",
       "\n",
       ", , Site = Upper\n",
       "\n",
       "           Transect\n",
       "Habitat     T1 T2 T3\n",
       "  Saltmarsh  5  5  5\n",
       "  Seagrass   4  4  4\n"
      ]
     },
     "metadata": {},
     "output_type": "display_data"
    }
   ],
   "source": [
    "xtabs(~ Habitat + Transect + Site , data = CHNS_raw)"
   ]
  },
  {
   "cell_type": "code",
   "execution_count": 5,
   "id": "76debb98-27a2-4273-a28a-6f9db93971f4",
   "metadata": {
    "tags": []
   },
   "outputs": [
    {
     "name": "stdout",
     "output_type": "stream",
     "text": [
      "tibble [81 × 19] (S3: tbl_df/tbl/data.frame)\n",
      " $ Tray_Number   : Factor w/ 81 levels \"Tiaan Tray1 A1\",..: 27 26 25 35 34 40 39 38 37 36 ...\n",
      " $ Sample_ID     : Factor w/ 81 levels \"INT1-T1-D0.5\",..: 67 68 69 70 71 72 73 74 75 76 ...\n",
      " $ Habitat       : Factor w/ 2 levels \"Saltmarsh\",\"Seagrass\": 1 1 1 1 1 1 1 1 1 1 ...\n",
      " $ Veg           : Factor w/ 2 levels \"IntertidalSeagrass\",..: 2 2 2 2 2 2 2 2 2 2 ...\n",
      " $ Site          : Factor w/ 3 levels \"Lower\",\"Middle\",..: 1 1 1 1 1 1 1 1 1 1 ...\n",
      " $ Transect      : Factor w/ 3 levels \"T1\",\"T2\",\"T3\": 1 1 1 1 1 2 2 2 2 2 ...\n",
      " $ Distance      : num [1:81] 0 0.5 1 3 5 0 0.5 1 3 5 ...\n",
      " $ Number        : num [1:81] 35 34 33 32 31 40 39 38 37 36 ...\n",
      " $ Weight_mg     : num [1:81] 64.7 62.8 61.9 62.7 61.4 ...\n",
      " $ N_percent     : num [1:81] 0.22 0.09 0.14 0.09 0.24 0.09 0.09 0.07 0.13 0.08 ...\n",
      " $ C_percent     : num [1:81] 1.55 0.48 0.94 0.47 1.83 0.57 0.44 0.41 1.18 0.73 ...\n",
      " $ H_percent     : num [1:81] 0.754 0.413 0.57 0.367 0.77 0.459 0.362 0.307 0.648 0.355 ...\n",
      " $ S_percent     : num [1:81] 0.088 0.083 0.059 0.077 0.091 0.064 0.062 0.061 0.11 0.049 ...\n",
      " $ Wet_mass      : num [1:81] 31.9 33.6 28.5 26.1 26.7 ...\n",
      " $ Dry_mass      : num [1:81] 20.6 23.3 15.9 12.2 12.5 ...\n",
      " $ Volume        : num [1:81] 20 20 20 20 20 20 20 20 20 20 ...\n",
      " $ Depth_interval: num [1:81] 5 5 5 5 5 5 5 5 5 5 ...\n",
      " $ DBD           : num [1:81] 1.032 1.164 0.796 0.61 0.623 ...\n",
      " $ log_C_percent : num [1:81] 0.4383 -0.734 -0.0619 -0.755 0.6043 ...\n"
     ]
    }
   ],
   "source": [
    "CHNS_Dataset <- CHNS_raw |>\n",
    "                dplyr::mutate(DBD = Dry_mass / Volume ) |>\n",
    "                dplyr::mutate_if(is.character, factor) |>\n",
    "                dplyr::mutate(log_C_percent = log(C_percent)) |>\n",
    "                dplyr::arrange(Habitat, Veg, Site, Transect, Distance) \n",
    "str(CHNS_Dataset)"
   ]
  },
  {
   "cell_type": "code",
   "execution_count": 6,
   "id": "74983f07-7726-4b2e-a6e8-7a031838a0a4",
   "metadata": {
    "tags": []
   },
   "outputs": [
    {
     "data": {
      "text/html": [
       "<table class=\"dataframe\">\n",
       "<caption>A tibble: 6 × 6</caption>\n",
       "<thead>\n",
       "\t<tr><th scope=col>Habitat</th><th scope=col>Site</th><th scope=col>variable</th><th scope=col>n</th><th scope=col>mean</th><th scope=col>sd</th></tr>\n",
       "\t<tr><th scope=col>&lt;fct&gt;</th><th scope=col>&lt;fct&gt;</th><th scope=col>&lt;fct&gt;</th><th scope=col>&lt;dbl&gt;</th><th scope=col>&lt;dbl&gt;</th><th scope=col>&lt;dbl&gt;</th></tr>\n",
       "</thead>\n",
       "<tbody>\n",
       "\t<tr><td>Saltmarsh</td><td>Lower </td><td>C_percent</td><td>15</td><td>0.775</td><td>0.436</td></tr>\n",
       "\t<tr><td>Saltmarsh</td><td>Middle</td><td>C_percent</td><td>15</td><td>7.196</td><td>4.970</td></tr>\n",
       "\t<tr><td>Saltmarsh</td><td>Upper </td><td>C_percent</td><td>15</td><td>4.255</td><td>2.150</td></tr>\n",
       "\t<tr><td>Seagrass </td><td>Lower </td><td>C_percent</td><td>12</td><td>0.511</td><td>0.312</td></tr>\n",
       "\t<tr><td>Seagrass </td><td>Middle</td><td>C_percent</td><td>12</td><td>0.311</td><td>0.172</td></tr>\n",
       "\t<tr><td>Seagrass </td><td>Upper </td><td>C_percent</td><td>12</td><td>0.915</td><td>0.334</td></tr>\n",
       "</tbody>\n",
       "</table>\n"
      ],
      "text/latex": [
       "A tibble: 6 × 6\n",
       "\\begin{tabular}{llllll}\n",
       " Habitat & Site & variable & n & mean & sd\\\\\n",
       " <fct> & <fct> & <fct> & <dbl> & <dbl> & <dbl>\\\\\n",
       "\\hline\n",
       "\t Saltmarsh & Lower  & C\\_percent & 15 & 0.775 & 0.436\\\\\n",
       "\t Saltmarsh & Middle & C\\_percent & 15 & 7.196 & 4.970\\\\\n",
       "\t Saltmarsh & Upper  & C\\_percent & 15 & 4.255 & 2.150\\\\\n",
       "\t Seagrass  & Lower  & C\\_percent & 12 & 0.511 & 0.312\\\\\n",
       "\t Seagrass  & Middle & C\\_percent & 12 & 0.311 & 0.172\\\\\n",
       "\t Seagrass  & Upper  & C\\_percent & 12 & 0.915 & 0.334\\\\\n",
       "\\end{tabular}\n"
      ],
      "text/markdown": [
       "\n",
       "A tibble: 6 × 6\n",
       "\n",
       "| Habitat &lt;fct&gt; | Site &lt;fct&gt; | variable &lt;fct&gt; | n &lt;dbl&gt; | mean &lt;dbl&gt; | sd &lt;dbl&gt; |\n",
       "|---|---|---|---|---|---|\n",
       "| Saltmarsh | Lower  | C_percent | 15 | 0.775 | 0.436 |\n",
       "| Saltmarsh | Middle | C_percent | 15 | 7.196 | 4.970 |\n",
       "| Saltmarsh | Upper  | C_percent | 15 | 4.255 | 2.150 |\n",
       "| Seagrass  | Lower  | C_percent | 12 | 0.511 | 0.312 |\n",
       "| Seagrass  | Middle | C_percent | 12 | 0.311 | 0.172 |\n",
       "| Seagrass  | Upper  | C_percent | 12 | 0.915 | 0.334 |\n",
       "\n"
      ],
      "text/plain": [
       "  Habitat   Site   variable  n  mean  sd   \n",
       "1 Saltmarsh Lower  C_percent 15 0.775 0.436\n",
       "2 Saltmarsh Middle C_percent 15 7.196 4.970\n",
       "3 Saltmarsh Upper  C_percent 15 4.255 2.150\n",
       "4 Seagrass  Lower  C_percent 12 0.511 0.312\n",
       "5 Seagrass  Middle C_percent 12 0.311 0.172\n",
       "6 Seagrass  Upper  C_percent 12 0.915 0.334"
      ]
     },
     "metadata": {},
     "output_type": "display_data"
    }
   ],
   "source": [
    "#Get some summary statistics\n",
    "CHNS_Dataset |>\n",
    "             dplyr::group_by(Site, Habitat) |>\n",
    "             rstatix::get_summary_stats(C_percent, type = \"mean_sd\") |>\n",
    "             dplyr::arrange(Habitat, Site)"
   ]
  },
  {
   "cell_type": "code",
   "execution_count": 7,
   "id": "82008977-4127-4bb0-ac00-75bb59e592fc",
   "metadata": {
    "tags": []
   },
   "outputs": [
    {
     "data": {
      "image/png": "[encoded data removed]",
      "text/plain": [
       "plot without title"
      ]
     },
     "metadata": {
      "image/png": {
       "height": 420,
       "width": 420
      }
     },
     "output_type": "display_data"
    }
   ],
   "source": [
    "#https://www.datanovia.com/en/lessons/repeated-measures-anova-in-r/\n",
    "CHNS_Dataset |>\n",
    "             ggplot(aes(x = Site,  y = log_C_percent, fill = Transect)) + \n",
    "             geom_boxplot() +\n",
    "             facet_wrap(~Veg, scale = \"free\")"
   ]
  },
  {
   "cell_type": "code",
   "execution_count": 8,
   "id": "c46356d2-b485-4802-821c-78b620cf3d56",
   "metadata": {
    "tags": []
   },
   "outputs": [
    {
     "data": {
      "image/png": "[encoded data removed]",
      "text/plain": [
       "plot without title"
      ]
     },
     "metadata": {
      "image/png": {
       "height": 420,
       "width": 420
      }
     },
     "output_type": "display_data"
    }
   ],
   "source": [
    "#https://www.datanovia.com/en/lessons/repeated-measures-anova-in-r/\n",
    "CHNS_Dataset |>\n",
    "             ggplot(aes(x = Site,  y = C_percent, fill = Transect)) + \n",
    "             geom_boxplot() +\n",
    "             facet_wrap(~Veg, scale = \"free\")"
   ]
  },
  {
   "cell_type": "code",
   "execution_count": 9,
   "id": "59a56d8c-b424-4e70-9fda-9b32469e9199",
   "metadata": {
    "tags": []
   },
   "outputs": [
    {
     "data": {
      "text/html": [
       "<table class=\"dataframe\">\n",
       "<caption>A tibble: 6 × 5</caption>\n",
       "<thead>\n",
       "\t<tr><th scope=col>Habitat</th><th scope=col>Site</th><th scope=col>log_C_percent</th><th scope=col>is.outlier</th><th scope=col>is.extreme</th></tr>\n",
       "\t<tr><th scope=col>&lt;fct&gt;</th><th scope=col>&lt;fct&gt;</th><th scope=col>&lt;dbl&gt;</th><th scope=col>&lt;lgl&gt;</th><th scope=col>&lt;lgl&gt;</th></tr>\n",
       "</thead>\n",
       "<tbody>\n",
       "\t<tr><td>Saltmarsh</td><td>Upper</td><td>-0.08338161</td><td>TRUE</td><td>FALSE</td></tr>\n",
       "\t<tr><td>Seagrass </td><td>Lower</td><td>-1.51412773</td><td>TRUE</td><td>FALSE</td></tr>\n",
       "\t<tr><td>Seagrass </td><td>Lower</td><td> 0.37156356</td><td>TRUE</td><td> TRUE</td></tr>\n",
       "\t<tr><td>Seagrass </td><td>Upper</td><td> 0.61518564</td><td>TRUE</td><td> TRUE</td></tr>\n",
       "\t<tr><td>Seagrass </td><td>Upper</td><td>-0.63487827</td><td>TRUE</td><td>FALSE</td></tr>\n",
       "\t<tr><td>Seagrass </td><td>Upper</td><td> 0.18232156</td><td>TRUE</td><td>FALSE</td></tr>\n",
       "</tbody>\n",
       "</table>\n"
      ],
      "text/latex": [
       "A tibble: 6 × 5\n",
       "\\begin{tabular}{lllll}\n",
       " Habitat & Site & log\\_C\\_percent & is.outlier & is.extreme\\\\\n",
       " <fct> & <fct> & <dbl> & <lgl> & <lgl>\\\\\n",
       "\\hline\n",
       "\t Saltmarsh & Upper & -0.08338161 & TRUE & FALSE\\\\\n",
       "\t Seagrass  & Lower & -1.51412773 & TRUE & FALSE\\\\\n",
       "\t Seagrass  & Lower &  0.37156356 & TRUE &  TRUE\\\\\n",
       "\t Seagrass  & Upper &  0.61518564 & TRUE &  TRUE\\\\\n",
       "\t Seagrass  & Upper & -0.63487827 & TRUE & FALSE\\\\\n",
       "\t Seagrass  & Upper &  0.18232156 & TRUE & FALSE\\\\\n",
       "\\end{tabular}\n"
      ],
      "text/markdown": [
       "\n",
       "A tibble: 6 × 5\n",
       "\n",
       "| Habitat &lt;fct&gt; | Site &lt;fct&gt; | log_C_percent &lt;dbl&gt; | is.outlier &lt;lgl&gt; | is.extreme &lt;lgl&gt; |\n",
       "|---|---|---|---|---|\n",
       "| Saltmarsh | Upper | -0.08338161 | TRUE | FALSE |\n",
       "| Seagrass  | Lower | -1.51412773 | TRUE | FALSE |\n",
       "| Seagrass  | Lower |  0.37156356 | TRUE |  TRUE |\n",
       "| Seagrass  | Upper |  0.61518564 | TRUE |  TRUE |\n",
       "| Seagrass  | Upper | -0.63487827 | TRUE | FALSE |\n",
       "| Seagrass  | Upper |  0.18232156 | TRUE | FALSE |\n",
       "\n"
      ],
      "text/plain": [
       "  Habitat   Site  log_C_percent is.outlier is.extreme\n",
       "1 Saltmarsh Upper -0.08338161   TRUE       FALSE     \n",
       "2 Seagrass  Lower -1.51412773   TRUE       FALSE     \n",
       "3 Seagrass  Lower  0.37156356   TRUE        TRUE     \n",
       "4 Seagrass  Upper  0.61518564   TRUE        TRUE     \n",
       "5 Seagrass  Upper -0.63487827   TRUE       FALSE     \n",
       "6 Seagrass  Upper  0.18232156   TRUE       FALSE     "
      ]
     },
     "metadata": {},
     "output_type": "display_data"
    }
   ],
   "source": [
    "#Check for outliers\n",
    "CHNS_Dataset %>%\n",
    "             dplyr::select(Habitat, Site, log_C_percent) %>%\n",
    "             dplyr::group_by(Habitat, Site) %>%\n",
    "             rstatix::identify_outliers(log_C_percent)"
   ]
  },
  {
   "cell_type": "code",
   "execution_count": 10,
   "id": "cc6e9a3b-a43a-4c43-bb85-bca8933aa0f1",
   "metadata": {
    "tags": []
   },
   "outputs": [
    {
     "data": {
      "text/html": [
       "<table class=\"dataframe\">\n",
       "<caption>A tibble: 6 × 5</caption>\n",
       "<thead>\n",
       "\t<tr><th scope=col>Habitat</th><th scope=col>Site</th><th scope=col>C_percent</th><th scope=col>is.outlier</th><th scope=col>is.extreme</th></tr>\n",
       "\t<tr><th scope=col>&lt;fct&gt;</th><th scope=col>&lt;fct&gt;</th><th scope=col>&lt;dbl&gt;</th><th scope=col>&lt;lgl&gt;</th><th scope=col>&lt;lgl&gt;</th></tr>\n",
       "</thead>\n",
       "<tbody>\n",
       "\t<tr><td>Saltmarsh</td><td>Lower</td><td>1.83</td><td>TRUE</td><td>FALSE</td></tr>\n",
       "\t<tr><td>Saltmarsh</td><td>Upper</td><td>8.79</td><td>TRUE</td><td>FALSE</td></tr>\n",
       "\t<tr><td>Seagrass </td><td>Lower</td><td>1.45</td><td>TRUE</td><td> TRUE</td></tr>\n",
       "\t<tr><td>Seagrass </td><td>Upper</td><td>1.85</td><td>TRUE</td><td> TRUE</td></tr>\n",
       "\t<tr><td>Seagrass </td><td>Upper</td><td>0.53</td><td>TRUE</td><td>FALSE</td></tr>\n",
       "\t<tr><td>Seagrass </td><td>Upper</td><td>1.20</td><td>TRUE</td><td>FALSE</td></tr>\n",
       "</tbody>\n",
       "</table>\n"
      ],
      "text/latex": [
       "A tibble: 6 × 5\n",
       "\\begin{tabular}{lllll}\n",
       " Habitat & Site & C\\_percent & is.outlier & is.extreme\\\\\n",
       " <fct> & <fct> & <dbl> & <lgl> & <lgl>\\\\\n",
       "\\hline\n",
       "\t Saltmarsh & Lower & 1.83 & TRUE & FALSE\\\\\n",
       "\t Saltmarsh & Upper & 8.79 & TRUE & FALSE\\\\\n",
       "\t Seagrass  & Lower & 1.45 & TRUE &  TRUE\\\\\n",
       "\t Seagrass  & Upper & 1.85 & TRUE &  TRUE\\\\\n",
       "\t Seagrass  & Upper & 0.53 & TRUE & FALSE\\\\\n",
       "\t Seagrass  & Upper & 1.20 & TRUE & FALSE\\\\\n",
       "\\end{tabular}\n"
      ],
      "text/markdown": [
       "\n",
       "A tibble: 6 × 5\n",
       "\n",
       "| Habitat &lt;fct&gt; | Site &lt;fct&gt; | C_percent &lt;dbl&gt; | is.outlier &lt;lgl&gt; | is.extreme &lt;lgl&gt; |\n",
       "|---|---|---|---|---|\n",
       "| Saltmarsh | Lower | 1.83 | TRUE | FALSE |\n",
       "| Saltmarsh | Upper | 8.79 | TRUE | FALSE |\n",
       "| Seagrass  | Lower | 1.45 | TRUE |  TRUE |\n",
       "| Seagrass  | Upper | 1.85 | TRUE |  TRUE |\n",
       "| Seagrass  | Upper | 0.53 | TRUE | FALSE |\n",
       "| Seagrass  | Upper | 1.20 | TRUE | FALSE |\n",
       "\n"
      ],
      "text/plain": [
       "  Habitat   Site  C_percent is.outlier is.extreme\n",
       "1 Saltmarsh Lower 1.83      TRUE       FALSE     \n",
       "2 Saltmarsh Upper 8.79      TRUE       FALSE     \n",
       "3 Seagrass  Lower 1.45      TRUE        TRUE     \n",
       "4 Seagrass  Upper 1.85      TRUE        TRUE     \n",
       "5 Seagrass  Upper 0.53      TRUE       FALSE     \n",
       "6 Seagrass  Upper 1.20      TRUE       FALSE     "
      ]
     },
     "metadata": {},
     "output_type": "display_data"
    }
   ],
   "source": [
    "#Check for outliers\n",
    "CHNS_Dataset %>%\n",
    "             dplyr::select(Habitat, Site, C_percent) %>%\n",
    "             dplyr::group_by(Habitat, Site) %>%\n",
    "             rstatix::identify_outliers(C_percent)"
   ]
  },
  {
   "cell_type": "code",
   "execution_count": 11,
   "id": "351cfa4c-a677-4fab-a824-1a24dbe6c7ce",
   "metadata": {
    "tags": []
   },
   "outputs": [
    {
     "data": {
      "text/html": [
       "<table class=\"dataframe\">\n",
       "<caption>A tibble: 6 × 5</caption>\n",
       "<thead>\n",
       "\t<tr><th scope=col>Habitat</th><th scope=col>Site</th><th scope=col>variable</th><th scope=col>statistic</th><th scope=col>p</th></tr>\n",
       "\t<tr><th scope=col>&lt;fct&gt;</th><th scope=col>&lt;fct&gt;</th><th scope=col>&lt;chr&gt;</th><th scope=col>&lt;dbl&gt;</th><th scope=col>&lt;dbl&gt;</th></tr>\n",
       "</thead>\n",
       "<tbody>\n",
       "\t<tr><td>Saltmarsh</td><td>Lower </td><td>log_C_percent</td><td>0.8735026</td><td>0.03799578</td></tr>\n",
       "\t<tr><td>Saltmarsh</td><td>Middle</td><td>log_C_percent</td><td>0.8624123</td><td>0.02615069</td></tr>\n",
       "\t<tr><td>Saltmarsh</td><td>Upper </td><td>log_C_percent</td><td>0.9520008</td><td>0.55649884</td></tr>\n",
       "\t<tr><td>Seagrass </td><td>Lower </td><td>log_C_percent</td><td>0.8657800</td><td>0.05779063</td></tr>\n",
       "\t<tr><td>Seagrass </td><td>Middle</td><td>log_C_percent</td><td>0.8763206</td><td>0.07864624</td></tr>\n",
       "\t<tr><td>Seagrass </td><td>Upper </td><td>log_C_percent</td><td>0.8748087</td><td>0.07522960</td></tr>\n",
       "</tbody>\n",
       "</table>\n"
      ],
      "text/latex": [
       "A tibble: 6 × 5\n",
       "\\begin{tabular}{lllll}\n",
       " Habitat & Site & variable & statistic & p\\\\\n",
       " <fct> & <fct> & <chr> & <dbl> & <dbl>\\\\\n",
       "\\hline\n",
       "\t Saltmarsh & Lower  & log\\_C\\_percent & 0.8735026 & 0.03799578\\\\\n",
       "\t Saltmarsh & Middle & log\\_C\\_percent & 0.8624123 & 0.02615069\\\\\n",
       "\t Saltmarsh & Upper  & log\\_C\\_percent & 0.9520008 & 0.55649884\\\\\n",
       "\t Seagrass  & Lower  & log\\_C\\_percent & 0.8657800 & 0.05779063\\\\\n",
       "\t Seagrass  & Middle & log\\_C\\_percent & 0.8763206 & 0.07864624\\\\\n",
       "\t Seagrass  & Upper  & log\\_C\\_percent & 0.8748087 & 0.07522960\\\\\n",
       "\\end{tabular}\n"
      ],
      "text/markdown": [
       "\n",
       "A tibble: 6 × 5\n",
       "\n",
       "| Habitat &lt;fct&gt; | Site &lt;fct&gt; | variable &lt;chr&gt; | statistic &lt;dbl&gt; | p &lt;dbl&gt; |\n",
       "|---|---|---|---|---|\n",
       "| Saltmarsh | Lower  | log_C_percent | 0.8735026 | 0.03799578 |\n",
       "| Saltmarsh | Middle | log_C_percent | 0.8624123 | 0.02615069 |\n",
       "| Saltmarsh | Upper  | log_C_percent | 0.9520008 | 0.55649884 |\n",
       "| Seagrass  | Lower  | log_C_percent | 0.8657800 | 0.05779063 |\n",
       "| Seagrass  | Middle | log_C_percent | 0.8763206 | 0.07864624 |\n",
       "| Seagrass  | Upper  | log_C_percent | 0.8748087 | 0.07522960 |\n",
       "\n"
      ],
      "text/plain": [
       "  Habitat   Site   variable      statistic p         \n",
       "1 Saltmarsh Lower  log_C_percent 0.8735026 0.03799578\n",
       "2 Saltmarsh Middle log_C_percent 0.8624123 0.02615069\n",
       "3 Saltmarsh Upper  log_C_percent 0.9520008 0.55649884\n",
       "4 Seagrass  Lower  log_C_percent 0.8657800 0.05779063\n",
       "5 Seagrass  Middle log_C_percent 0.8763206 0.07864624\n",
       "6 Seagrass  Upper  log_C_percent 0.8748087 0.07522960"
      ]
     },
     "metadata": {},
     "output_type": "display_data"
    }
   ],
   "source": [
    "#Normality assumption\n",
    "CHNS_Dataset |>\n",
    "             dplyr::select(Habitat, Site, log_C_percent) %>%\n",
    "             dplyr::group_by(Habitat, Site) %>%\n",
    "             rstatix::shapiro_test(log_C_percent) %>%\n",
    "             dplyr::arrange(Habitat, Site)"
   ]
  },
  {
   "cell_type": "code",
   "execution_count": 12,
   "id": "96724539-06ab-4e35-a0f1-f00b4cc4e2f7",
   "metadata": {
    "tags": []
   },
   "outputs": [
    {
     "data": {
      "text/html": [
       "<table class=\"dataframe\">\n",
       "<caption>A tibble: 6 × 5</caption>\n",
       "<thead>\n",
       "\t<tr><th scope=col>Habitat</th><th scope=col>Site</th><th scope=col>variable</th><th scope=col>statistic</th><th scope=col>p</th></tr>\n",
       "\t<tr><th scope=col>&lt;fct&gt;</th><th scope=col>&lt;fct&gt;</th><th scope=col>&lt;chr&gt;</th><th scope=col>&lt;dbl&gt;</th><th scope=col>&lt;dbl&gt;</th></tr>\n",
       "</thead>\n",
       "<tbody>\n",
       "\t<tr><td>Saltmarsh</td><td>Lower </td><td>C_percent</td><td>0.7924019</td><td>0.002941935</td></tr>\n",
       "\t<tr><td>Saltmarsh</td><td>Middle</td><td>C_percent</td><td>0.7595985</td><td>0.001165974</td></tr>\n",
       "\t<tr><td>Saltmarsh</td><td>Upper </td><td>C_percent</td><td>0.9459749</td><td>0.463427641</td></tr>\n",
       "\t<tr><td>Seagrass </td><td>Lower </td><td>C_percent</td><td>0.6386589</td><td>0.000229833</td></tr>\n",
       "\t<tr><td>Seagrass </td><td>Middle</td><td>C_percent</td><td>0.9125127</td><td>0.229745200</td></tr>\n",
       "\t<tr><td>Seagrass </td><td>Upper </td><td>C_percent</td><td>0.7451202</td><td>0.002377674</td></tr>\n",
       "</tbody>\n",
       "</table>\n"
      ],
      "text/latex": [
       "A tibble: 6 × 5\n",
       "\\begin{tabular}{lllll}\n",
       " Habitat & Site & variable & statistic & p\\\\\n",
       " <fct> & <fct> & <chr> & <dbl> & <dbl>\\\\\n",
       "\\hline\n",
       "\t Saltmarsh & Lower  & C\\_percent & 0.7924019 & 0.002941935\\\\\n",
       "\t Saltmarsh & Middle & C\\_percent & 0.7595985 & 0.001165974\\\\\n",
       "\t Saltmarsh & Upper  & C\\_percent & 0.9459749 & 0.463427641\\\\\n",
       "\t Seagrass  & Lower  & C\\_percent & 0.6386589 & 0.000229833\\\\\n",
       "\t Seagrass  & Middle & C\\_percent & 0.9125127 & 0.229745200\\\\\n",
       "\t Seagrass  & Upper  & C\\_percent & 0.7451202 & 0.002377674\\\\\n",
       "\\end{tabular}\n"
      ],
      "text/markdown": [
       "\n",
       "A tibble: 6 × 5\n",
       "\n",
       "| Habitat &lt;fct&gt; | Site &lt;fct&gt; | variable &lt;chr&gt; | statistic &lt;dbl&gt; | p &lt;dbl&gt; |\n",
       "|---|---|---|---|---|\n",
       "| Saltmarsh | Lower  | C_percent | 0.7924019 | 0.002941935 |\n",
       "| Saltmarsh | Middle | C_percent | 0.7595985 | 0.001165974 |\n",
       "| Saltmarsh | Upper  | C_percent | 0.9459749 | 0.463427641 |\n",
       "| Seagrass  | Lower  | C_percent | 0.6386589 | 0.000229833 |\n",
       "| Seagrass  | Middle | C_percent | 0.9125127 | 0.229745200 |\n",
       "| Seagrass  | Upper  | C_percent | 0.7451202 | 0.002377674 |\n",
       "\n"
      ],
      "text/plain": [
       "  Habitat   Site   variable  statistic p          \n",
       "1 Saltmarsh Lower  C_percent 0.7924019 0.002941935\n",
       "2 Saltmarsh Middle C_percent 0.7595985 0.001165974\n",
       "3 Saltmarsh Upper  C_percent 0.9459749 0.463427641\n",
       "4 Seagrass  Lower  C_percent 0.6386589 0.000229833\n",
       "5 Seagrass  Middle C_percent 0.9125127 0.229745200\n",
       "6 Seagrass  Upper  C_percent 0.7451202 0.002377674"
      ]
     },
     "metadata": {},
     "output_type": "display_data"
    }
   ],
   "source": [
    "#Normality assumption\n",
    "CHNS_Dataset |>\n",
    "             dplyr::select(Habitat, Site, C_percent) %>%\n",
    "             dplyr::group_by(Habitat, Site) %>%\n",
    "             rstatix::shapiro_test(C_percent) "
   ]
  },
  {
   "cell_type": "code",
   "execution_count": 13,
   "id": "e1ebeb55-85ea-4585-a282-e995e312c64e",
   "metadata": {
    "tags": []
   },
   "outputs": [
    {
     "data": {
      "image/png": "[encoded data removed]",
      "text/plain": [
       "plot without title"
      ]
     },
     "metadata": {
      "image/png": {
       "height": 420,
       "width": 420
      }
     },
     "output_type": "display_data"
    }
   ],
   "source": [
    "#Normality assumption by visiual inspection\n",
    "#QQ plot draws the correlation between a given data and the normal distribution.\n",
    "CHNS_Dataset %>%\n",
    "             dplyr::filter(Habitat == \"Seagrass\") %>%\n",
    "             ggqqplot(data = . , x = \"C_percent\", facet.by = c(\"Site\"))"
   ]
  },
  {
   "cell_type": "code",
   "execution_count": 14,
   "id": "a54ee4e8-4e6c-40a1-b60b-30350e26b3d8",
   "metadata": {
    "tags": []
   },
   "outputs": [
    {
     "data": {
      "image/png": "[encoded data removed]",
      "text/plain": [
       "plot without title"
      ]
     },
     "metadata": {
      "image/png": {
       "height": 420,
       "width": 420
      }
     },
     "output_type": "display_data"
    }
   ],
   "source": [
    "#Normality assumption by visiual inspection\n",
    "#QQ plot draws the correlation between a given data and the normal distribution.\n",
    "CHNS_Dataset %>%\n",
    "             dplyr::filter(Habitat == \"Seagrass\") %>%\n",
    "             ggqqplot(data = . , x = \"log_C_percent\", facet.by = c(\"Site\"))"
   ]
  },
  {
   "cell_type": "code",
   "execution_count": 15,
   "id": "5449ea50-3a7b-4412-85c1-d712ecec1c70",
   "metadata": {
    "tags": []
   },
   "outputs": [
    {
     "data": {
      "image/png": "[encoded data removed]",
      "text/plain": [
       "plot without title"
      ]
     },
     "metadata": {
      "image/png": {
       "height": 420,
       "width": 420
      }
     },
     "output_type": "display_data"
    }
   ],
   "source": [
    "CHNS_Dataset %>%\n",
    "             dplyr::filter(Habitat == \"Saltmarsh\") %>%\n",
    "             ggqqplot(data = . , x = \"C_percent\", facet.by = c(\"Site\"))"
   ]
  },
  {
   "cell_type": "code",
   "execution_count": 16,
   "id": "cfb7ffa0-9db4-4cde-8a96-7b58f21590ba",
   "metadata": {
    "tags": []
   },
   "outputs": [],
   "source": [
    "#Add a column for unique names in transects\n",
    "#Always good to check if identical labels habe any effiect on your model\n",
    "CHNS_Dataset  %<>% dplyr::mutate(transect_ref = paste (Site, Transect, sep = \"_\"))"
   ]
  },
  {
   "cell_type": "code",
   "execution_count": 17,
   "id": "028dda2c-e2ed-4f35-9bac-d72d656443a7",
   "metadata": {
    "tags": []
   },
   "outputs": [],
   "source": [
    "Seagrass  <-  CHNS_Dataset %>%  \n",
    "              dplyr::filter(Habitat == \"Seagrass\")\n",
    "Saltmarsh <-  CHNS_Dataset %>%  \n",
    "              dplyr::filter(Habitat == \"Saltmarsh\")"
   ]
  },
  {
   "cell_type": "code",
   "execution_count": 18,
   "id": "43b50e2a-5ec3-464a-a61a-04b83f2e79eb",
   "metadata": {
    "tags": []
   },
   "outputs": [
    {
     "data": {
      "text/plain": [
       "        Transect\n",
       "Site     T1 T2 T3\n",
       "  Lower   4  4  4\n",
       "  Middle  4  4  4\n",
       "  Upper   4  4  4"
      ]
     },
     "metadata": {},
     "output_type": "display_data"
    }
   ],
   "source": [
    "xtabs(~ Site + Transect, data = Seagrass)"
   ]
  },
  {
   "cell_type": "code",
   "execution_count": 19,
   "id": "47c8e399-df89-471d-9942-0fb8855773f7",
   "metadata": {
    "tags": []
   },
   "outputs": [
    {
     "name": "stdout",
     "output_type": "stream",
     "text": [
      "tibble [36 × 20] (S3: tbl_df/tbl/data.frame)\n",
      " $ Tray_Number   : Factor w/ 81 levels \"Tiaan Tray1 A1\",..: 76 75 74 70 80 79 78 77 81 73 ...\n",
      " $ Sample_ID     : Factor w/ 81 levels \"INT1-T1-D0.5\",..: 25 26 27 28 29 30 31 32 33 34 ...\n",
      " $ Habitat       : Factor w/ 2 levels \"Saltmarsh\",\"Seagrass\": 2 2 2 2 2 2 2 2 2 2 ...\n",
      " $ Veg           : Factor w/ 2 levels \"IntertidalSeagrass\",..: 1 1 1 1 1 1 1 1 1 1 ...\n",
      " $ Site          : Factor w/ 3 levels \"Lower\",\"Middle\",..: 1 1 1 1 1 1 1 1 1 1 ...\n",
      " $ Transect      : Factor w/ 3 levels \"T1\",\"T2\",\"T3\": 1 1 1 1 2 2 2 2 3 3 ...\n",
      " $ Distance      : num [1:36] 0.5 1 3 5 0.5 1 3 5 0.5 1 ...\n",
      " $ Number        : num [1:36] 73 72 71 70 77 76 75 74 81 80 ...\n",
      " $ Weight_mg     : num [1:36] 61.1 61.4 61.1 60.2 62 ...\n",
      " $ N_percent     : num [1:36] 0.08 0.09 0.07 0.06 0.04 0.04 0.06 0.07 0.07 0.06 ...\n",
      " $ C_percent     : num [1:36] 0.56 0.5 0.43 0.48 0.28 0.22 0.39 0.54 0.46 0.38 ...\n",
      " $ H_percent     : num [1:36] 0.337 0.315 0.289 0.251 0.194 0.171 0.273 0.331 0.278 0.232 ...\n",
      " $ S_percent     : num [1:36] 0.094 0.131 0.072 0.069 0.036 0.046 0.065 0.096 0.049 0.056 ...\n",
      " $ Wet_mass      : num [1:36] 32.6 35.8 38.2 32.2 37.8 ...\n",
      " $ Dry_mass      : num [1:36] 21.6 23.3 26.4 20.5 28.2 ...\n",
      " $ Volume        : num [1:36] 20 20 20 20 20 20 20 20 19 20 ...\n",
      " $ Depth_interval: num [1:36] 5 5 5 5 5 5 5 5 5 5 ...\n",
      " $ DBD           : num [1:36] 1.08 1.16 1.32 1.03 1.41 ...\n",
      " $ log_C_percent : num [1:36] -0.58 -0.693 -0.844 -0.734 -1.273 ...\n",
      " $ transect_ref  : chr [1:36] \"Lower_T1\" \"Lower_T1\" \"Lower_T1\" \"Lower_T1\" ...\n"
     ]
    }
   ],
   "source": [
    "str(Seagrass)"
   ]
  },
  {
   "cell_type": "code",
   "execution_count": 20,
   "id": "bddddef8-e10b-4410-b532-b72573972d50",
   "metadata": {
    "tags": []
   },
   "outputs": [
    {
     "data": {
      "text/plain": [
       "Linear mixed model fit by REML ['lmerModLmerTest']\n",
       "Formula: C_percent ~ Site + N_percent + Distance + (1 | Site:Transect)\n",
       "   Data: Seagrass\n",
       "REML criterion at convergence: -4.1947\n",
       "Random effects:\n",
       " Groups        Name        Std.Dev.\n",
       " Site:Transect (Intercept) 0.0700  \n",
       " Residual                  0.1882  \n",
       "Number of obs: 36, groups:  Site:Transect, 9\n",
       "Fixed Effects:\n",
       "(Intercept)   SiteMiddle    SiteUpper    N_percent     Distance  \n",
       "    0.04153     -0.11703     -0.35360      6.63734     -0.01666  "
      ]
     },
     "metadata": {},
     "output_type": "display_data"
    },
    {
     "data": {
      "text/plain": [
       "Linear mixed model fit by REML. t-tests use Satterthwaite's method [\n",
       "lmerModLmerTest]\n",
       "Formula: C_percent ~ Site + N_percent + Distance + (1 | Site:Transect)\n",
       "   Data: Seagrass\n",
       "\n",
       "REML criterion at convergence: -4.2\n",
       "\n",
       "Scaled residuals: \n",
       "    Min      1Q  Median      3Q     Max \n",
       "-1.6023 -0.3967 -0.0815  0.2473  4.0577 \n",
       "\n",
       "Random effects:\n",
       " Groups        Name        Variance Std.Dev.\n",
       " Site:Transect (Intercept) 0.00490  0.0700  \n",
       " Residual                  0.03542  0.1882  \n",
       "Number of obs: 36, groups:  Site:Transect, 9\n",
       "\n",
       "Fixed effects:\n",
       "            Estimate Std. Error       df t value Pr(>|t|)    \n",
       "(Intercept)  0.04153    0.10836 20.91810   0.383   0.7054    \n",
       "SiteMiddle  -0.11703    0.09666  5.79537  -1.211   0.2730    \n",
       "SiteUpper   -0.35360    0.15381 20.00289  -2.299   0.0324 *  \n",
       "N_percent    6.63734    1.05435 30.43952   6.295 5.75e-07 ***\n",
       "Distance    -0.01666    0.01788 25.08573  -0.932   0.3604    \n",
       "---\n",
       "Signif. codes:  0 '***' 0.001 '**' 0.01 '*' 0.05 '.' 0.1 ' ' 1\n",
       "\n",
       "Correlation of Fixed Effects:\n",
       "           (Intr) StMddl StUppr N_prcn\n",
       "SiteMiddle -0.530                     \n",
       "SiteUpper   0.256  0.202              \n",
       "N_percent  -0.679  0.136 -0.783       \n",
       "Distance   -0.264 -0.023  0.134 -0.172"
      ]
     },
     "metadata": {},
     "output_type": "display_data"
    }
   ],
   "source": [
    "(lmer_fit <- lmer(C_percent ~ Site + N_percent + Distance + (1|Site:Transect), data = Seagrass))\n",
    "summary(lmer_fit)"
   ]
  },
  {
   "cell_type": "code",
   "execution_count": 21,
   "id": "0b4f62b9-17f0-4ac5-8f2f-82e693add656",
   "metadata": {
    "tags": []
   },
   "outputs": [
    {
     "data": {
      "text/plain": [
       "Linear mixed model fit by REML ['lmerModLmerTest']\n",
       "Formula: log_C_percent ~ Site + N_percent + Distance + (1 | Site:Transect)\n",
       "   Data: Seagrass\n",
       "REML criterion at convergence: 34.2952\n",
       "Random effects:\n",
       " Groups        Name        Std.Dev.\n",
       " Site:Transect (Intercept) 0.04621 \n",
       " Residual                  0.36279 \n",
       "Number of obs: 36, groups:  Site:Transect, 9\n",
       "Fixed Effects:\n",
       "(Intercept)   SiteMiddle    SiteUpper    N_percent     Distance  \n",
       "   -1.64357     -0.44170     -0.44730      9.58062      0.05331  "
      ]
     },
     "metadata": {},
     "output_type": "display_data"
    }
   ],
   "source": [
    "#https://mspeekenbrink.github.io/sdam-r-companion/linear-mixed-effects-models.html\n",
    "(lmer_log_fit <- lmer(log_C_percent ~ Site + N_percent + Distance + (1|Site:Transect), data = Seagrass))"
   ]
  },
  {
   "cell_type": "code",
   "execution_count": 22,
   "id": "a2e35bb1-f560-4461-9c0a-d113d56ebcd8",
   "metadata": {
    "tags": []
   },
   "outputs": [
    {
     "data": {
      "text/plain": [
       "Linear mixed model fit by REML. t-tests use Satterthwaite's method [\n",
       "lmerModLmerTest]\n",
       "Formula: C_percent ~ Site + N_percent + Distance + (1 | Site:Transect)\n",
       "   Data: Seagrass\n",
       "\n",
       "REML criterion at convergence: -4.2\n",
       "\n",
       "Scaled residuals: \n",
       "    Min      1Q  Median      3Q     Max \n",
       "-1.6023 -0.3967 -0.0815  0.2473  4.0577 \n",
       "\n",
       "Random effects:\n",
       " Groups        Name        Variance Std.Dev.\n",
       " Site:Transect (Intercept) 0.00490  0.0700  \n",
       " Residual                  0.03542  0.1882  \n",
       "Number of obs: 36, groups:  Site:Transect, 9\n",
       "\n",
       "Fixed effects:\n",
       "            Estimate Std. Error       df t value Pr(>|t|)    \n",
       "(Intercept)  0.04153    0.10836 20.91810   0.383   0.7054    \n",
       "SiteMiddle  -0.11703    0.09666  5.79537  -1.211   0.2730    \n",
       "SiteUpper   -0.35360    0.15381 20.00289  -2.299   0.0324 *  \n",
       "N_percent    6.63734    1.05435 30.43952   6.295 5.75e-07 ***\n",
       "Distance    -0.01666    0.01788 25.08573  -0.932   0.3604    \n",
       "---\n",
       "Signif. codes:  0 '***' 0.001 '**' 0.01 '*' 0.05 '.' 0.1 ' ' 1\n",
       "\n",
       "Correlation of Fixed Effects:\n",
       "           (Intr) StMddl StUppr N_prcn\n",
       "SiteMiddle -0.530                     \n",
       "SiteUpper   0.256  0.202              \n",
       "N_percent  -0.679  0.136 -0.783       \n",
       "Distance   -0.264 -0.023  0.134 -0.172"
      ]
     },
     "metadata": {},
     "output_type": "display_data"
    }
   ],
   "source": [
    "summary(lmer_fit)"
   ]
  },
  {
   "cell_type": "code",
   "execution_count": 23,
   "id": "9cabf3d4-031a-40d3-9bf5-0f3c6f829fa7",
   "metadata": {
    "tags": []
   },
   "outputs": [
    {
     "data": {
      "text/plain": [
       "\n",
       "\t General Linear Hypotheses\n",
       "\n",
       "Multiple Comparisons of Means: Tukey Contrasts\n",
       "\n",
       "\n",
       "Linear Hypotheses:\n",
       "                     Estimate\n",
       "Middle - Lower == 0 -0.441698\n",
       "Upper - Lower == 0  -0.447297\n",
       "Upper - Middle == 0 -0.005598\n"
      ]
     },
     "metadata": {},
     "output_type": "display_data"
    },
    {
     "data": {
      "text/plain": [
       "\n",
       "\t Simultaneous Tests for General Linear Hypotheses\n",
       "\n",
       "Multiple Comparisons of Means: Tukey Contrasts\n",
       "\n",
       "\n",
       "Fit: lmer(formula = log_C_percent ~ Site + N_percent + Distance + \n",
       "    (1 | Site:Transect), data = Seagrass)\n",
       "\n",
       "Linear Hypotheses:\n",
       "                     Estimate Std. Error z value Pr(>|z|)  \n",
       "Middle - Lower == 0 -0.441698   0.154814  -2.853   0.0112 *\n",
       "Upper - Lower == 0  -0.447297   0.272055  -1.644   0.2168  \n",
       "Upper - Middle == 0 -0.005598   0.292768  -0.019   0.9998  \n",
       "---\n",
       "Signif. codes:  0 '***' 0.001 '**' 0.01 '*' 0.05 '.' 0.1 ' ' 1\n",
       "(Adjusted p values reported -- single-step method)\n"
      ]
     },
     "metadata": {},
     "output_type": "display_data"
    }
   ],
   "source": [
    "(post_hoc <- multcomp::glht(lmer_log_fit, linfct = mcp(Site = 'Tukey')))\n",
    "summary(post_hoc)"
   ]
  },
  {
   "cell_type": "code",
   "execution_count": 24,
   "id": "8403ce6c-2733-46e7-9fd3-cd9fa3f95244",
   "metadata": {
    "tags": []
   },
   "outputs": [
    {
     "data": {
      "text/plain": [
       "Linear mixed model fit by REML ['lmerModLmerTest']\n",
       "Formula: log_C_percent ~ Site + N_percent + Distance + (1 | Transect)\n",
       "   Data: Saltmarsh\n",
       "REML criterion at convergence: 29.648\n",
       "Random effects:\n",
       " Groups   Name        Std.Dev.\n",
       " Transect (Intercept) 0.06821 \n",
       " Residual             0.28718 \n",
       "Number of obs: 45, groups:  Transect, 3\n",
       "Fixed Effects:\n",
       "(Intercept)   SiteMiddle    SiteUpper    N_percent     Distance  \n",
       "   -0.69077      1.15674      1.10901      1.33246      0.08615  "
      ]
     },
     "metadata": {},
     "output_type": "display_data"
    }
   ],
   "source": [
    "(lmer_fit_sm <- lmer(log_C_percent ~ Site + N_percent + Distance + (1|Transect), data = Saltmarsh))"
   ]
  },
  {
   "cell_type": "code",
   "execution_count": 25,
   "id": "fb97d083-fd58-45db-8354-fa6cba2b2374",
   "metadata": {
    "tags": []
   },
   "outputs": [
    {
     "data": {
      "text/plain": [
       "Linear mixed model fit by REML. t-tests use Satterthwaite's method [\n",
       "lmerModLmerTest]\n",
       "Formula: log_C_percent ~ Site + N_percent + Distance + (1 | Transect)\n",
       "   Data: Saltmarsh\n",
       "\n",
       "REML criterion at convergence: 29.6\n",
       "\n",
       "Scaled residuals: \n",
       "     Min       1Q   Median       3Q      Max \n",
       "-2.60209 -0.52494 -0.02925  0.55511  2.72863 \n",
       "\n",
       "Random effects:\n",
       " Groups   Name        Variance Std.Dev.\n",
       " Transect (Intercept) 0.004652 0.06821 \n",
       " Residual             0.082472 0.28718 \n",
       "Number of obs: 45, groups:  Transect, 3\n",
       "\n",
       "Fixed effects:\n",
       "            Estimate Std. Error       df t value Pr(>|t|)    \n",
       "(Intercept) -0.69077    0.09587 12.65304  -7.206 8.02e-06 ***\n",
       "SiteMiddle   1.15674    0.14442 38.58839   8.009 9.92e-10 ***\n",
       "SiteUpper    1.10901    0.11961 38.30657   9.272 2.48e-11 ***\n",
       "N_percent    1.33246    0.13217 39.12232  10.081 1.96e-12 ***\n",
       "Distance     0.08615    0.02308 38.01585   3.732 0.000619 ***\n",
       "---\n",
       "Signif. codes:  0 '***' 0.001 '**' 0.01 '*' 0.05 '.' 0.1 ' ' 1\n",
       "\n",
       "Correlation of Fixed Effects:\n",
       "           (Intr) StMddl StUppr N_prcn\n",
       "SiteMiddle -0.291                     \n",
       "SiteUpper  -0.405  0.649              \n",
       "N_percent  -0.154 -0.688 -0.481       \n",
       "Distance   -0.456  0.006  0.004 -0.009"
      ]
     },
     "metadata": {},
     "output_type": "display_data"
    }
   ],
   "source": [
    "summary(lmer_fit_sm)"
   ]
  }
 ],
 "metadata": {
  "kernelspec": {
   "display_name": "R",
   "language": "R",
   "name": "ir"
  },
  "language_info": {
   "codemirror_mode": "r",
   "file_extension": ".r",
   "mimetype": "text/x-r-source",
   "name": "R",
   "pygments_lexer": "r",
   "version": "4.3.3"
  }
 },
 "nbformat": 4,
 "nbformat_minor": 5
}
